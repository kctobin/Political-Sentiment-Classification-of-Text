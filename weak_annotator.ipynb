{
 "cells": [
  {
   "cell_type": "code",
   "execution_count": 1,
   "metadata": {
    "collapsed": true
   },
   "outputs": [],
   "source": [
    "import os, sys, re, json, time\n",
    "from importlib import reload\n",
    "import nltk\n",
    "import pandas as pd\n",
    "import numpy as np\n",
    "import matplotlib.pyplot as plt\n",
    "from sklearn.feature_extraction.text import *\n",
    "from sklearn.linear_model import LogisticRegression\n",
    "from sklearn import metrics"
   ]
  },
  {
   "cell_type": "markdown",
   "metadata": {},
   "source": [
    "# Read the All the News Data"
   ]
  },
  {
   "cell_type": "code",
   "execution_count": 2,
   "metadata": {
    "collapsed": true
   },
   "outputs": [],
   "source": [
    "articles_1=pd.read_csv('articles1.csv')\n",
    "articles_2=pd.read_csv('articles2.csv')\n",
    "articles_3=pd.read_csv('articles3.csv')"
   ]
  },
  {
   "cell_type": "code",
   "execution_count": 3,
   "metadata": {
    "collapsed": true
   },
   "outputs": [],
   "source": [
    "all_articles=pd.concat([articles_1,articles_2,articles_3],ignore_index=True)"
   ]
  },
  {
   "cell_type": "code",
   "execution_count": 4,
   "metadata": {},
   "outputs": [
    {
     "data": {
      "text/plain": [
       "(142570, 10)"
      ]
     },
     "execution_count": 4,
     "metadata": {},
     "output_type": "execute_result"
    }
   ],
   "source": [
    "all_articles.shape"
   ]
  },
  {
   "cell_type": "code",
   "execution_count": 10,
   "metadata": {},
   "outputs": [
    {
     "data": {
      "text/plain": [
       "Index(['Unnamed: 0', 'id', 'title', 'publication', 'author', 'date', 'year',\n",
       "       'month', 'url', 'content'],\n",
       "      dtype='object')"
      ]
     },
     "execution_count": 10,
     "metadata": {},
     "output_type": "execute_result"
    }
   ],
   "source": [
    "all_articles.columns"
   ]
  },
  {
   "cell_type": "code",
   "execution_count": 17,
   "metadata": {},
   "outputs": [
    {
     "data": {
      "text/plain": [
       "array(['Atlantic', 'Breitbart', 'Business Insider', 'Buzzfeed News',\n",
       "       'CNN', 'Fox News', 'Guardian', 'NPR', 'National Review',\n",
       "       'New York Post', 'New York Times', 'Reuters',\n",
       "       'Talking Points Memo', 'Vox', 'Washington Post'], dtype='<U19')"
      ]
     },
     "execution_count": 17,
     "metadata": {},
     "output_type": "execute_result"
    }
   ],
   "source": [
    "np.unique(all_articles['publication'].tolist())"
   ]
  },
  {
   "cell_type": "markdown",
   "metadata": {},
   "source": [
    "# Create the Training, Dev, and Test Sets"
   ]
  },
  {
   "cell_type": "code",
   "execution_count": 120,
   "metadata": {},
   "outputs": [
    {
     "name": "stdout",
     "output_type": "stream",
     "text": [
      "(4800,)\n",
      "(4800,)\n",
      "(1200,)\n",
      "(1200,)\n"
     ]
    }
   ],
   "source": [
    "breitbart=all_articles.loc[all_articles['publication']=='Breitbart'].iloc[0:1000]\n",
    "nat_review=all_articles.loc[all_articles['publication']=='National Review'].iloc[0:1000]\n",
    "cnn=all_articles.loc[all_articles['publication']=='CNN'].iloc[0:1000]\n",
    "guardian=all_articles.loc[all_articles['publication']=='Guardian'].iloc[0:1000]\n",
    "reuters=all_articles.loc[all_articles['publication']=='Reuters'].iloc[0:1000]\n",
    "bi=all_articles.loc[all_articles['publication']=='Business Insider'].iloc[0:1000]\n",
    "full=pd.concat([breitbart,nat_review,cnn,guardian,reuters,bi],ignore_index=True)\n",
    "shuffle=np.random.permutation(np.arange(full.shape[0]))\n",
    "values_dict={'CNN': 0,'Guardian':0,'Reuters':1,'Business Insider':1,'Breitbart':2,'National Review':2}\n",
    "full['label']=full['publication'].map(values_dict)\n",
    "\n",
    "X,y=full['content'].iloc[shuffle].as_matrix(),full['label'].iloc[shuffle].as_matrix()\n",
    "train_length=int(shuffle.shape[0]*0.8)\n",
    "X_train,y_train=X[:train_length],y[:train_length]\n",
    "X_dev,y_dev=X[train_length:],y[train_length:]\n",
    "\n",
    "print(X_train.shape)\n",
    "print(y_train.shape)\n",
    "print(X_dev.shape)\n",
    "print(y_dev.shape)"
   ]
  },
  {
   "cell_type": "markdown",
   "metadata": {},
   "source": [
    "# Fit Count Vectorizer"
   ]
  },
  {
   "cell_type": "code",
   "execution_count": 129,
   "metadata": {
    "collapsed": true
   },
   "outputs": [],
   "source": [
    "vec=CountVectorizer(ngram_range=(2,2))\n",
    "#vec=TfidfVectorizer(ngram_range=(2,2))\n",
    "feature_mat=vec.fit_transform(X_train)\n",
    "dev_mat=vec.transform(X_dev)"
   ]
  },
  {
   "cell_type": "markdown",
   "metadata": {},
   "source": [
    "### train logistic regression model"
   ]
  },
  {
   "cell_type": "code",
   "execution_count": 143,
   "metadata": {},
   "outputs": [
    {
     "name": "stdout",
     "output_type": "stream",
     "text": [
      "0.835\n"
     ]
    }
   ],
   "source": [
    "from sklearn import metrics\n",
    "Reg=LogisticRegression(penalty='l2')\n",
    "Reg.fit(feature_mat,y_train)\n",
    "weights=Reg.coef_\n",
    "features=vec.get_feature_names()\n",
    "preds=Reg.predict(dev_mat)\n",
    "f1=metrics.f1_score(y_dev,preds,average='micro')\n",
    "print(f1)"
   ]
  },
  {
   "cell_type": "code",
   "execution_count": 144,
   "metadata": {},
   "outputs": [
    {
     "name": "stdout",
     "output_type": "stream",
     "text": [
      "(3, 1027550)\n"
     ]
    }
   ],
   "source": [
    "print(weights.shape)"
   ]
  },
  {
   "cell_type": "markdown",
   "metadata": {},
   "source": [
    "# Load IBC Data"
   ]
  },
  {
   "cell_type": "markdown",
   "metadata": {},
   "source": [
    "## Read the data"
   ]
  },
  {
   "cell_type": "code",
   "execution_count": 131,
   "metadata": {
    "collapsed": true
   },
   "outputs": [],
   "source": [
    "ibc_frame=pd.read_csv('full_ibc_sentences.csv')\n",
    "ibc_values_dict={'Liberal':0,'Neutral':1,'Conservative':2}\n",
    "ibc_frame['class']=ibc_frame['label'].map(ibc_values_dict)\n",
    "sentences=ibc_frame['sentence'].as_matrix()\n",
    "labels=ibc_frame['class'].as_matrix()"
   ]
  },
  {
   "cell_type": "markdown",
   "metadata": {},
   "source": [
    "## Score Model Above on IBC Data - Just to see how well it works"
   ]
  },
  {
   "cell_type": "code",
   "execution_count": 137,
   "metadata": {
    "collapsed": true
   },
   "outputs": [],
   "source": [
    "test_mat=vec.transform(sentences)"
   ]
  },
  {
   "cell_type": "code",
   "execution_count": 138,
   "metadata": {},
   "outputs": [
    {
     "name": "stdout",
     "output_type": "stream",
     "text": [
      "0.16689782709200185\n"
     ]
    }
   ],
   "source": [
    "preds=Reg.predict(test_mat)\n",
    "f1=metrics.f1_score(labels,preds,average='micro')\n",
    "print(f1)"
   ]
  },
  {
   "cell_type": "code",
   "execution_count": null,
   "metadata": {
    "collapsed": true
   },
   "outputs": [],
   "source": []
  }
 ],
 "metadata": {
  "kernelspec": {
   "display_name": "Python 3",
   "language": "python",
   "name": "python3"
  },
  "language_info": {
   "codemirror_mode": {
    "name": "ipython",
    "version": 3
   },
   "file_extension": ".py",
   "mimetype": "text/x-python",
   "name": "python",
   "nbconvert_exporter": "python",
   "pygments_lexer": "ipython3",
   "version": "3.6.3"
  }
 },
 "nbformat": 4,
 "nbformat_minor": 2
}
