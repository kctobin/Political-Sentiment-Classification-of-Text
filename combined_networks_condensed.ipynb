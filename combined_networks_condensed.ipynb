{
 "cells": [
  {
   "cell_type": "code",
   "execution_count": 69,
   "metadata": {},
   "outputs": [],
   "source": [
    "import os, sys, re, json, time\n",
    "from importlib import reload\n",
    "import nltk\n",
    "import pandas as pd\n",
    "import numpy as np\n",
    "import matplotlib.pyplot as plt\n",
    "from sklearn.feature_extraction.text import *\n",
    "from sklearn.linear_model import LogisticRegression\n",
    "from sklearn import metrics\n",
    "import tensorflow as tf\n",
    "from IPython.display import display, clear_output \n",
    "import time\n",
    "from sklearn.metrics import confusion_matrix\n",
    "import itertools\n",
    "from sklearn.metrics import classification_report"
   ]
  },
  {
   "cell_type": "markdown",
   "metadata": {},
   "source": [
    "# Load the IBC Sentences - Assign Binary Liberal/Conservative Labels"
   ]
  },
  {
   "cell_type": "code",
   "execution_count": 70,
   "metadata": {
    "collapsed": true
   },
   "outputs": [],
   "source": [
    "ibc_frame=pd.read_csv('full_ibc_sentences.csv')\n",
    "ibc_frame=ibc_frame.loc[ibc_frame['label']!='Neutral']\n",
    "ibc_values_dict={'Liberal':0,'Conservative':1}\n",
    "\n",
    "ibc_frame['class']=ibc_frame['label'].map(ibc_values_dict)\n",
    "sentences=ibc_frame['sentence'].as_matrix()\n",
    "labels=ibc_frame['class'].as_matrix()"
   ]
  },
  {
   "cell_type": "markdown",
   "metadata": {},
   "source": [
    "# Load Weak Annotations for IBC Sentences"
   ]
  },
  {
   "cell_type": "code",
   "execution_count": 71,
   "metadata": {
    "scrolled": true
   },
   "outputs": [
    {
     "name": "stdout",
     "output_type": "stream",
     "text": [
      "   Unnamed: 0    label                                           sentence  \\\n",
      "0           0  Liberal  Forcing middle-class workers to bear a greater...   \n",
      "1           1  Liberal  Because it would not be worthwhile to bring a ...   \n",
      "2           2  Liberal  Indeed , Lind argues that high profits and hig...   \n",
      "3           3  Liberal  In fairness , it should be noted that he devot...   \n",
      "4           4  Liberal  Psychological tactics are social control techn...   \n",
      "\n",
      "   con_score  lib_score    prediction  \n",
      "0   0.040194   0.959806       liberal  \n",
      "1   0.566555   0.433445  conservative  \n",
      "2   0.044174   0.955826       liberal  \n",
      "3   0.039283   0.960717       liberal  \n",
      "4   0.627921   0.372079  conservative  \n",
      "[0.4334445814355619, 0.5665554185644381]\n"
     ]
    }
   ],
   "source": [
    "reddit_labels = pd.read_csv('IBC_weak_labels_conlibonly.csv')\n",
    "print(reddit_labels.head())\n",
    "weak_annotation = [[row['lib_score'],row['con_score']] for index, row in reddit_labels.iterrows()]\n",
    "print(weak_annotation[1])"
   ]
  },
  {
   "cell_type": "markdown",
   "metadata": {},
   "source": [
    "# Calculate Confidence Scores"
   ]
  },
  {
   "cell_type": "code",
   "execution_count": 72,
   "metadata": {
    "collapsed": true
   },
   "outputs": [],
   "source": [
    "true_labels=pd.get_dummies(ibc_frame['class']).as_matrix()\n",
    "confidence_score=1-(float(1/true_labels.shape[1])*np.sum(np.abs(true_labels-weak_annotation),axis=1))\n",
    "ibc_frame['score']=pd.Series(confidence_score)"
   ]
  },
  {
   "cell_type": "code",
   "execution_count": 73,
   "metadata": {},
   "outputs": [
    {
     "data": {
      "text/html": [
       "<div>\n",
       "<style>\n",
       "    .dataframe thead tr:only-child th {\n",
       "        text-align: right;\n",
       "    }\n",
       "\n",
       "    .dataframe thead th {\n",
       "        text-align: left;\n",
       "    }\n",
       "\n",
       "    .dataframe tbody tr th {\n",
       "        vertical-align: top;\n",
       "    }\n",
       "</style>\n",
       "<table border=\"1\" class=\"dataframe\">\n",
       "  <thead>\n",
       "    <tr style=\"text-align: right;\">\n",
       "      <th></th>\n",
       "      <th>label</th>\n",
       "      <th>sentence</th>\n",
       "      <th>class</th>\n",
       "      <th>score</th>\n",
       "    </tr>\n",
       "  </thead>\n",
       "  <tbody>\n",
       "    <tr>\n",
       "      <th>0</th>\n",
       "      <td>Liberal</td>\n",
       "      <td>Forcing middle-class workers to bear a greater...</td>\n",
       "      <td>0</td>\n",
       "      <td>0.959806</td>\n",
       "    </tr>\n",
       "    <tr>\n",
       "      <th>1</th>\n",
       "      <td>Liberal</td>\n",
       "      <td>Because it would not be worthwhile to bring a ...</td>\n",
       "      <td>0</td>\n",
       "      <td>0.433445</td>\n",
       "    </tr>\n",
       "    <tr>\n",
       "      <th>2</th>\n",
       "      <td>Liberal</td>\n",
       "      <td>Indeed , Lind argues that high profits and hig...</td>\n",
       "      <td>0</td>\n",
       "      <td>0.955826</td>\n",
       "    </tr>\n",
       "    <tr>\n",
       "      <th>3</th>\n",
       "      <td>Liberal</td>\n",
       "      <td>In fairness , it should be noted that he devot...</td>\n",
       "      <td>0</td>\n",
       "      <td>0.960717</td>\n",
       "    </tr>\n",
       "    <tr>\n",
       "      <th>4</th>\n",
       "      <td>Liberal</td>\n",
       "      <td>Psychological tactics are social control techn...</td>\n",
       "      <td>0</td>\n",
       "      <td>0.372079</td>\n",
       "    </tr>\n",
       "    <tr>\n",
       "      <th>5</th>\n",
       "      <td>Liberal</td>\n",
       "      <td>The uncontrolled profit motive is destroying h...</td>\n",
       "      <td>0</td>\n",
       "      <td>0.533796</td>\n",
       "    </tr>\n",
       "    <tr>\n",
       "      <th>6</th>\n",
       "      <td>Liberal</td>\n",
       "      <td>Organizations representing the religious right...</td>\n",
       "      <td>0</td>\n",
       "      <td>0.944746</td>\n",
       "    </tr>\n",
       "    <tr>\n",
       "      <th>7</th>\n",
       "      <td>Liberal</td>\n",
       "      <td>A market based on greed and fear has tugged on...</td>\n",
       "      <td>0</td>\n",
       "      <td>0.564034</td>\n",
       "    </tr>\n",
       "    <tr>\n",
       "      <th>8</th>\n",
       "      <td>Liberal</td>\n",
       "      <td>THE CONSERVATIVE MOVEMENT IS ROOTED IN A COHER...</td>\n",
       "      <td>0</td>\n",
       "      <td>0.192051</td>\n",
       "    </tr>\n",
       "    <tr>\n",
       "      <th>9</th>\n",
       "      <td>Liberal</td>\n",
       "      <td>By eliminating the private insurer , you could...</td>\n",
       "      <td>0</td>\n",
       "      <td>0.560038</td>\n",
       "    </tr>\n",
       "    <tr>\n",
       "      <th>10</th>\n",
       "      <td>Liberal</td>\n",
       "      <td>The additional schooling foisted upon one grou...</td>\n",
       "      <td>0</td>\n",
       "      <td>0.376798</td>\n",
       "    </tr>\n",
       "    <tr>\n",
       "      <th>11</th>\n",
       "      <td>Liberal</td>\n",
       "      <td>If the government will do its job and prevent ...</td>\n",
       "      <td>0</td>\n",
       "      <td>0.576307</td>\n",
       "    </tr>\n",
       "    <tr>\n",
       "      <th>12</th>\n",
       "      <td>Liberal</td>\n",
       "      <td>The rich countries that are primarily responsi...</td>\n",
       "      <td>0</td>\n",
       "      <td>0.112550</td>\n",
       "    </tr>\n",
       "    <tr>\n",
       "      <th>13</th>\n",
       "      <td>Liberal</td>\n",
       "      <td>These people said to us : Well , if you just w...</td>\n",
       "      <td>0</td>\n",
       "      <td>0.947319</td>\n",
       "    </tr>\n",
       "    <tr>\n",
       "      <th>14</th>\n",
       "      <td>Liberal</td>\n",
       "      <td>Inevitably this forced them to cut some $ 270 ...</td>\n",
       "      <td>0</td>\n",
       "      <td>0.562845</td>\n",
       "    </tr>\n",
       "    <tr>\n",
       "      <th>15</th>\n",
       "      <td>Liberal</td>\n",
       "      <td>Hostility to taxes and open redistribution ref...</td>\n",
       "      <td>0</td>\n",
       "      <td>0.450899</td>\n",
       "    </tr>\n",
       "    <tr>\n",
       "      <th>16</th>\n",
       "      <td>Liberal</td>\n",
       "      <td>I THINK the central idea in Marxism is of cour...</td>\n",
       "      <td>0</td>\n",
       "      <td>0.892130</td>\n",
       "    </tr>\n",
       "    <tr>\n",
       "      <th>17</th>\n",
       "      <td>Liberal</td>\n",
       "      <td>Baucus had played a key role in helping George...</td>\n",
       "      <td>0</td>\n",
       "      <td>0.850188</td>\n",
       "    </tr>\n",
       "    <tr>\n",
       "      <th>18</th>\n",
       "      <td>Liberal</td>\n",
       "      <td>We are not going to let working families who a...</td>\n",
       "      <td>0</td>\n",
       "      <td>0.587224</td>\n",
       "    </tr>\n",
       "    <tr>\n",
       "      <th>19</th>\n",
       "      <td>Liberal</td>\n",
       "      <td>Johnston shows why lowincome people using the ...</td>\n",
       "      <td>0</td>\n",
       "      <td>0.650696</td>\n",
       "    </tr>\n",
       "    <tr>\n",
       "      <th>20</th>\n",
       "      <td>Liberal</td>\n",
       "      <td>Del Vecchio 's words manifest not merely an et...</td>\n",
       "      <td>0</td>\n",
       "      <td>0.926741</td>\n",
       "    </tr>\n",
       "    <tr>\n",
       "      <th>21</th>\n",
       "      <td>Liberal</td>\n",
       "      <td>Medical workers and other scientists should be...</td>\n",
       "      <td>0</td>\n",
       "      <td>0.933390</td>\n",
       "    </tr>\n",
       "    <tr>\n",
       "      <th>22</th>\n",
       "      <td>Liberal</td>\n",
       "      <td>Besides acidification , there are serious effe...</td>\n",
       "      <td>0</td>\n",
       "      <td>0.291019</td>\n",
       "    </tr>\n",
       "    <tr>\n",
       "      <th>23</th>\n",
       "      <td>Liberal</td>\n",
       "      <td>One reason is that the Keynesian intellectual ...</td>\n",
       "      <td>0</td>\n",
       "      <td>0.748014</td>\n",
       "    </tr>\n",
       "    <tr>\n",
       "      <th>24</th>\n",
       "      <td>Liberal</td>\n",
       "      <td>It is possible to create a high-functioning un...</td>\n",
       "      <td>0</td>\n",
       "      <td>0.891018</td>\n",
       "    </tr>\n",
       "    <tr>\n",
       "      <th>25</th>\n",
       "      <td>Liberal</td>\n",
       "      <td>The drying up and contamination of freshwater ...</td>\n",
       "      <td>0</td>\n",
       "      <td>0.707172</td>\n",
       "    </tr>\n",
       "    <tr>\n",
       "      <th>26</th>\n",
       "      <td>Liberal</td>\n",
       "      <td>` Yes , we are going to balance the budget in ...</td>\n",
       "      <td>0</td>\n",
       "      <td>0.954201</td>\n",
       "    </tr>\n",
       "    <tr>\n",
       "      <th>27</th>\n",
       "      <td>Liberal</td>\n",
       "      <td>Two brass rings now seem within reach of today...</td>\n",
       "      <td>0</td>\n",
       "      <td>0.332470</td>\n",
       "    </tr>\n",
       "    <tr>\n",
       "      <th>28</th>\n",
       "      <td>Liberal</td>\n",
       "      <td>It is our contention that most of the critical...</td>\n",
       "      <td>0</td>\n",
       "      <td>0.097184</td>\n",
       "    </tr>\n",
       "    <tr>\n",
       "      <th>29</th>\n",
       "      <td>Liberal</td>\n",
       "      <td>The crisis demonstrated how wrong their views ...</td>\n",
       "      <td>0</td>\n",
       "      <td>0.212898</td>\n",
       "    </tr>\n",
       "    <tr>\n",
       "      <th>...</th>\n",
       "      <td>...</td>\n",
       "      <td>...</td>\n",
       "      <td>...</td>\n",
       "      <td>...</td>\n",
       "    </tr>\n",
       "    <tr>\n",
       "      <th>3696</th>\n",
       "      <td>Conservative</td>\n",
       "      <td>Surely , many important political ideas begin ...</td>\n",
       "      <td>1</td>\n",
       "      <td>0.169556</td>\n",
       "    </tr>\n",
       "    <tr>\n",
       "      <th>3697</th>\n",
       "      <td>Conservative</td>\n",
       "      <td>They improperly exaggerate the contradiction b...</td>\n",
       "      <td>1</td>\n",
       "      <td>0.291603</td>\n",
       "    </tr>\n",
       "    <tr>\n",
       "      <th>3698</th>\n",
       "      <td>Conservative</td>\n",
       "      <td>Adaptation has played a large role in the inte...</td>\n",
       "      <td>1</td>\n",
       "      <td>0.411402</td>\n",
       "    </tr>\n",
       "    <tr>\n",
       "      <th>3699</th>\n",
       "      <td>Conservative</td>\n",
       "      <td>In his analyses over the years , Lott includes...</td>\n",
       "      <td>1</td>\n",
       "      <td>0.151668</td>\n",
       "    </tr>\n",
       "    <tr>\n",
       "      <th>3700</th>\n",
       "      <td>Conservative</td>\n",
       "      <td>If you throw in free medical care and free sch...</td>\n",
       "      <td>1</td>\n",
       "      <td>0.756451</td>\n",
       "    </tr>\n",
       "    <tr>\n",
       "      <th>3701</th>\n",
       "      <td>Conservative</td>\n",
       "      <td>It should hardly be a surprise , said Taylor ,...</td>\n",
       "      <td>1</td>\n",
       "      <td>0.976078</td>\n",
       "    </tr>\n",
       "    <tr>\n",
       "      <th>3702</th>\n",
       "      <td>Conservative</td>\n",
       "      <td>Our immigration problem is a consequence of th...</td>\n",
       "      <td>1</td>\n",
       "      <td>0.911113</td>\n",
       "    </tr>\n",
       "    <tr>\n",
       "      <th>3703</th>\n",
       "      <td>Conservative</td>\n",
       "      <td>But in the earlier phase of capitalist develop...</td>\n",
       "      <td>1</td>\n",
       "      <td>0.008844</td>\n",
       "    </tr>\n",
       "    <tr>\n",
       "      <th>3704</th>\n",
       "      <td>Conservative</td>\n",
       "      <td>Everyone in the Democratic Party , then , is c...</td>\n",
       "      <td>1</td>\n",
       "      <td>0.654923</td>\n",
       "    </tr>\n",
       "    <tr>\n",
       "      <th>3705</th>\n",
       "      <td>Conservative</td>\n",
       "      <td>And the reason the dollar does not buy as much...</td>\n",
       "      <td>1</td>\n",
       "      <td>0.249568</td>\n",
       "    </tr>\n",
       "    <tr>\n",
       "      <th>3706</th>\n",
       "      <td>Conservative</td>\n",
       "      <td>Well , we all know how the storybook marriage ...</td>\n",
       "      <td>1</td>\n",
       "      <td>0.674286</td>\n",
       "    </tr>\n",
       "    <tr>\n",
       "      <th>3707</th>\n",
       "      <td>Conservative</td>\n",
       "      <td>The preservation of individual liberty require...</td>\n",
       "      <td>1</td>\n",
       "      <td>0.942155</td>\n",
       "    </tr>\n",
       "    <tr>\n",
       "      <th>3708</th>\n",
       "      <td>Conservative</td>\n",
       "      <td>But the U.S. price controls on crude oil , imp...</td>\n",
       "      <td>1</td>\n",
       "      <td>0.920397</td>\n",
       "    </tr>\n",
       "    <tr>\n",
       "      <th>3709</th>\n",
       "      <td>Conservative</td>\n",
       "      <td>Replacing the free market system with Fedzilla...</td>\n",
       "      <td>1</td>\n",
       "      <td>0.299725</td>\n",
       "    </tr>\n",
       "    <tr>\n",
       "      <th>3710</th>\n",
       "      <td>Conservative</td>\n",
       "      <td>Drawing on ideas from Christian theology and G...</td>\n",
       "      <td>1</td>\n",
       "      <td>0.054666</td>\n",
       "    </tr>\n",
       "    <tr>\n",
       "      <th>3711</th>\n",
       "      <td>Conservative</td>\n",
       "      <td>Gold is a very good commodity to use for money...</td>\n",
       "      <td>1</td>\n",
       "      <td>0.084705</td>\n",
       "    </tr>\n",
       "    <tr>\n",
       "      <th>3712</th>\n",
       "      <td>Conservative</td>\n",
       "      <td>To make America a better , more decent , more ...</td>\n",
       "      <td>1</td>\n",
       "      <td>0.563542</td>\n",
       "    </tr>\n",
       "    <tr>\n",
       "      <th>3713</th>\n",
       "      <td>Conservative</td>\n",
       "      <td>Taken together , the stories illustrate that i...</td>\n",
       "      <td>1</td>\n",
       "      <td>0.075403</td>\n",
       "    </tr>\n",
       "    <tr>\n",
       "      <th>3714</th>\n",
       "      <td>Conservative</td>\n",
       "      <td>The club aims to provide gun training as a way...</td>\n",
       "      <td>1</td>\n",
       "      <td>0.795786</td>\n",
       "    </tr>\n",
       "    <tr>\n",
       "      <th>3715</th>\n",
       "      <td>Conservative</td>\n",
       "      <td>House Republicans should elect him majority le...</td>\n",
       "      <td>1</td>\n",
       "      <td>0.972174</td>\n",
       "    </tr>\n",
       "    <tr>\n",
       "      <th>3716</th>\n",
       "      <td>Conservative</td>\n",
       "      <td>Bitchy putdowns and cutting sarcasm are increa...</td>\n",
       "      <td>1</td>\n",
       "      <td>0.827809</td>\n",
       "    </tr>\n",
       "    <tr>\n",
       "      <th>3717</th>\n",
       "      <td>Conservative</td>\n",
       "      <td>Government policies towards industry for the p...</td>\n",
       "      <td>1</td>\n",
       "      <td>0.670510</td>\n",
       "    </tr>\n",
       "    <tr>\n",
       "      <th>3718</th>\n",
       "      <td>Conservative</td>\n",
       "      <td>The party establishment was forced to accept t...</td>\n",
       "      <td>1</td>\n",
       "      <td>0.389848</td>\n",
       "    </tr>\n",
       "    <tr>\n",
       "      <th>3719</th>\n",
       "      <td>Conservative</td>\n",
       "      <td>It takes confidence in your values to punish f...</td>\n",
       "      <td>1</td>\n",
       "      <td>0.967239</td>\n",
       "    </tr>\n",
       "    <tr>\n",
       "      <th>3720</th>\n",
       "      <td>Conservative</td>\n",
       "      <td>We see that children generally prosper best wi...</td>\n",
       "      <td>1</td>\n",
       "      <td>0.633181</td>\n",
       "    </tr>\n",
       "    <tr>\n",
       "      <th>3721</th>\n",
       "      <td>Conservative</td>\n",
       "      <td>Forced to meet the draconian targets set by Gr...</td>\n",
       "      <td>1</td>\n",
       "      <td>0.928752</td>\n",
       "    </tr>\n",
       "    <tr>\n",
       "      <th>3722</th>\n",
       "      <td>Conservative</td>\n",
       "      <td>( This is all the more possible because while ...</td>\n",
       "      <td>1</td>\n",
       "      <td>0.546700</td>\n",
       "    </tr>\n",
       "    <tr>\n",
       "      <th>3723</th>\n",
       "      <td>Conservative</td>\n",
       "      <td>Case and point : the EPA worked with the Natur...</td>\n",
       "      <td>1</td>\n",
       "      <td>0.339405</td>\n",
       "    </tr>\n",
       "    <tr>\n",
       "      <th>3724</th>\n",
       "      <td>Conservative</td>\n",
       "      <td>Since its inception , Via has created a politi...</td>\n",
       "      <td>1</td>\n",
       "      <td>0.773083</td>\n",
       "    </tr>\n",
       "    <tr>\n",
       "      <th>3725</th>\n",
       "      <td>Conservative</td>\n",
       "      <td>Another major omission in this report is that ...</td>\n",
       "      <td>1</td>\n",
       "      <td>0.782242</td>\n",
       "    </tr>\n",
       "  </tbody>\n",
       "</table>\n",
       "<p>3726 rows × 4 columns</p>\n",
       "</div>"
      ],
      "text/plain": [
       "             label                                           sentence  class  \\\n",
       "0          Liberal  Forcing middle-class workers to bear a greater...      0   \n",
       "1          Liberal  Because it would not be worthwhile to bring a ...      0   \n",
       "2          Liberal  Indeed , Lind argues that high profits and hig...      0   \n",
       "3          Liberal  In fairness , it should be noted that he devot...      0   \n",
       "4          Liberal  Psychological tactics are social control techn...      0   \n",
       "5          Liberal  The uncontrolled profit motive is destroying h...      0   \n",
       "6          Liberal  Organizations representing the religious right...      0   \n",
       "7          Liberal  A market based on greed and fear has tugged on...      0   \n",
       "8          Liberal  THE CONSERVATIVE MOVEMENT IS ROOTED IN A COHER...      0   \n",
       "9          Liberal  By eliminating the private insurer , you could...      0   \n",
       "10         Liberal  The additional schooling foisted upon one grou...      0   \n",
       "11         Liberal  If the government will do its job and prevent ...      0   \n",
       "12         Liberal  The rich countries that are primarily responsi...      0   \n",
       "13         Liberal  These people said to us : Well , if you just w...      0   \n",
       "14         Liberal  Inevitably this forced them to cut some $ 270 ...      0   \n",
       "15         Liberal  Hostility to taxes and open redistribution ref...      0   \n",
       "16         Liberal  I THINK the central idea in Marxism is of cour...      0   \n",
       "17         Liberal  Baucus had played a key role in helping George...      0   \n",
       "18         Liberal  We are not going to let working families who a...      0   \n",
       "19         Liberal  Johnston shows why lowincome people using the ...      0   \n",
       "20         Liberal  Del Vecchio 's words manifest not merely an et...      0   \n",
       "21         Liberal  Medical workers and other scientists should be...      0   \n",
       "22         Liberal  Besides acidification , there are serious effe...      0   \n",
       "23         Liberal  One reason is that the Keynesian intellectual ...      0   \n",
       "24         Liberal  It is possible to create a high-functioning un...      0   \n",
       "25         Liberal  The drying up and contamination of freshwater ...      0   \n",
       "26         Liberal  ` Yes , we are going to balance the budget in ...      0   \n",
       "27         Liberal  Two brass rings now seem within reach of today...      0   \n",
       "28         Liberal  It is our contention that most of the critical...      0   \n",
       "29         Liberal  The crisis demonstrated how wrong their views ...      0   \n",
       "...            ...                                                ...    ...   \n",
       "3696  Conservative  Surely , many important political ideas begin ...      1   \n",
       "3697  Conservative  They improperly exaggerate the contradiction b...      1   \n",
       "3698  Conservative  Adaptation has played a large role in the inte...      1   \n",
       "3699  Conservative  In his analyses over the years , Lott includes...      1   \n",
       "3700  Conservative  If you throw in free medical care and free sch...      1   \n",
       "3701  Conservative  It should hardly be a surprise , said Taylor ,...      1   \n",
       "3702  Conservative  Our immigration problem is a consequence of th...      1   \n",
       "3703  Conservative  But in the earlier phase of capitalist develop...      1   \n",
       "3704  Conservative  Everyone in the Democratic Party , then , is c...      1   \n",
       "3705  Conservative  And the reason the dollar does not buy as much...      1   \n",
       "3706  Conservative  Well , we all know how the storybook marriage ...      1   \n",
       "3707  Conservative  The preservation of individual liberty require...      1   \n",
       "3708  Conservative  But the U.S. price controls on crude oil , imp...      1   \n",
       "3709  Conservative  Replacing the free market system with Fedzilla...      1   \n",
       "3710  Conservative  Drawing on ideas from Christian theology and G...      1   \n",
       "3711  Conservative  Gold is a very good commodity to use for money...      1   \n",
       "3712  Conservative  To make America a better , more decent , more ...      1   \n",
       "3713  Conservative  Taken together , the stories illustrate that i...      1   \n",
       "3714  Conservative  The club aims to provide gun training as a way...      1   \n",
       "3715  Conservative  House Republicans should elect him majority le...      1   \n",
       "3716  Conservative  Bitchy putdowns and cutting sarcasm are increa...      1   \n",
       "3717  Conservative  Government policies towards industry for the p...      1   \n",
       "3718  Conservative  The party establishment was forced to accept t...      1   \n",
       "3719  Conservative  It takes confidence in your values to punish f...      1   \n",
       "3720  Conservative  We see that children generally prosper best wi...      1   \n",
       "3721  Conservative  Forced to meet the draconian targets set by Gr...      1   \n",
       "3722  Conservative  ( This is all the more possible because while ...      1   \n",
       "3723  Conservative  Case and point : the EPA worked with the Natur...      1   \n",
       "3724  Conservative  Since its inception , Via has created a politi...      1   \n",
       "3725  Conservative  Another major omission in this report is that ...      1   \n",
       "\n",
       "         score  \n",
       "0     0.959806  \n",
       "1     0.433445  \n",
       "2     0.955826  \n",
       "3     0.960717  \n",
       "4     0.372079  \n",
       "5     0.533796  \n",
       "6     0.944746  \n",
       "7     0.564034  \n",
       "8     0.192051  \n",
       "9     0.560038  \n",
       "10    0.376798  \n",
       "11    0.576307  \n",
       "12    0.112550  \n",
       "13    0.947319  \n",
       "14    0.562845  \n",
       "15    0.450899  \n",
       "16    0.892130  \n",
       "17    0.850188  \n",
       "18    0.587224  \n",
       "19    0.650696  \n",
       "20    0.926741  \n",
       "21    0.933390  \n",
       "22    0.291019  \n",
       "23    0.748014  \n",
       "24    0.891018  \n",
       "25    0.707172  \n",
       "26    0.954201  \n",
       "27    0.332470  \n",
       "28    0.097184  \n",
       "29    0.212898  \n",
       "...        ...  \n",
       "3696  0.169556  \n",
       "3697  0.291603  \n",
       "3698  0.411402  \n",
       "3699  0.151668  \n",
       "3700  0.756451  \n",
       "3701  0.976078  \n",
       "3702  0.911113  \n",
       "3703  0.008844  \n",
       "3704  0.654923  \n",
       "3705  0.249568  \n",
       "3706  0.674286  \n",
       "3707  0.942155  \n",
       "3708  0.920397  \n",
       "3709  0.299725  \n",
       "3710  0.054666  \n",
       "3711  0.084705  \n",
       "3712  0.563542  \n",
       "3713  0.075403  \n",
       "3714  0.795786  \n",
       "3715  0.972174  \n",
       "3716  0.827809  \n",
       "3717  0.670510  \n",
       "3718  0.389848  \n",
       "3719  0.967239  \n",
       "3720  0.633181  \n",
       "3721  0.928752  \n",
       "3722  0.546700  \n",
       "3723  0.339405  \n",
       "3724  0.773083  \n",
       "3725  0.782242  \n",
       "\n",
       "[3726 rows x 4 columns]"
      ]
     },
     "execution_count": 73,
     "metadata": {},
     "output_type": "execute_result"
    }
   ],
   "source": [
    "ibc_frame['score']=pd.Series(confidence_score)\n",
    "ibc_frame"
   ]
  },
  {
   "cell_type": "markdown",
   "metadata": {},
   "source": [
    "# Load the pre-trained Google embeddings"
   ]
  },
  {
   "cell_type": "markdown",
   "metadata": {},
   "source": [
    "To download and unzip these embeddings to a Google Cloud instance, use the following commands:  \n",
    "\n",
    "wget -c \"https://s3.amazonaws.com/dl4j-distribution/GoogleNews-vectors-negative300.bin.gz\"  \n",
    "gunzip GoogleNews-vectors-negatvie300.bin.gz"
   ]
  },
  {
   "cell_type": "code",
   "execution_count": 74,
   "metadata": {
    "collapsed": true,
    "scrolled": true
   },
   "outputs": [],
   "source": [
    "import gensim"
   ]
  },
  {
   "cell_type": "code",
   "execution_count": 75,
   "metadata": {
    "collapsed": true
   },
   "outputs": [],
   "source": [
    "model = gensim.models.KeyedVectors.load_word2vec_format('GoogleNews-vectors-negative300.bin', binary=True)"
   ]
  },
  {
   "cell_type": "markdown",
   "metadata": {},
   "source": [
    "# Divide IBC Data into Training, Dev, and Test Sets"
   ]
  },
  {
   "cell_type": "code",
   "execution_count": 76,
   "metadata": {
    "collapsed": true
   },
   "outputs": [],
   "source": [
    "np.random.seed(0)\n",
    "shuffle=np.random.permutation(np.arange(ibc_frame.shape[0]))\n",
    "X,y,tl=ibc_frame['sentence'].iloc[shuffle],ibc_frame['score'].iloc[shuffle],true_labels[shuffle]\n",
    "train_length=int(ibc_frame.shape[0]*0.7)\n",
    "test_length=int((ibc_frame.shape[0]-train_length) * (2.0/3.0))\n",
    "X_train,y_train, true_y_train=X.iloc[:train_length],y.iloc[:train_length], tl[:train_length]\n",
    "X_test,y_test,true_y_test=X.iloc[train_length:train_length+test_length],y.iloc[train_length:train_length+test_length],tl[train_length:train_length+test_length]\n",
    "X_dev,y_dev, true_y_dev=X.iloc[train_length+test_length:],y.iloc[train_length+test_length:], tl[train_length+test_length:]\n",
    "\n",
    "train_sentences=X_train.tolist()\n",
    "train_labels=y_train.as_matrix()\n",
    "test_sentences=X_test.tolist()\n",
    "test_labels=y_test.as_matrix()\n",
    "dev_sentences=X_dev.tolist()\n",
    "dev_labels=y_dev.as_matrix()"
   ]
  },
  {
   "cell_type": "code",
   "execution_count": 77,
   "metadata": {},
   "outputs": [
    {
     "name": "stdout",
     "output_type": "stream",
     "text": [
      "[\"Some children , therefore , enjoy their parents ' protection against the loss of income from disability , untimely death , or old age , and receive benefits that are based on the same formula used for the old-age benefit .\", 'The free market is , therefore , said to be incapable of serving the public interest , for it produces unjust results , thereby requiring further government intervention .', \"As FDR conceived it , every American would have the right `` to a useful and remunerative job , '' `` good education , '' `` adequate medical care and the opportunity to ... enjoy good health , '' and `` adequate protection from the economic fears of old age , sickness , accident , and unemployment .\"]\n",
      "2608\n",
      "[ 0.03741478  0.74116857  0.84025192]\n",
      "2608\n",
      "['In response to the setbacks of 2007 , immigrants mobilized again , resulting in 2 million new Hispanic voters in 2008 and a clear repudiation of those who used prejudice for political gain , with 20 of 22 congressional candidates in swing districts opposing immigrants going down to defeat against pro-immigrant candidates .', 'Consider the 2011 #DearJohn twitter campaign , launched by two creative young feminists , Sady Doyle and Amanda Marcotte , when House Republicans tried to narrow the definition of rape and incest for Medicaid coverage of abortions .', 'The strategic projects for progressives are clear and vital : Create a robust economic model based on equity and growth ; connect this middle-class economic vision to the lives of real American communities and voters of all stripes ; expand the franchise by making it easier to vote ; and solidify this economic vision and diverse coalition into a powerful political force .']\n",
      "745\n",
      "[ 0.88668354  0.73544214  0.98852371]\n",
      "745\n",
      "[\"So an effective response to the administration proposals also has to counter the implications of the language that supporters use to frame the program as the poor box of an aging parish-words like `` insolvency '' and `` unfunded liabilities , '' along with warnings that a `` tidal wave '' of baby boomers will make the program unsustainable .\", 'Boys and girls , these useful American idiots are known as socialists who despise the free market , capitalism , entrepreneurship , and economic freedom .', 'Third , a range of public policies helped facilitate this economic mobility and opportunity : a strong minimum wage , grants for low-income students to go to college , generously subsidized state college tuition , a reliable unemployment insurance system , enforcement of the right to join a union , major incentives for homeownership , and a solid safety net for those falling on hard times .']\n",
      "373\n",
      "[ 0.93828169  0.78987926  0.27566798]\n",
      "373\n"
     ]
    }
   ],
   "source": [
    "print(train_sentences[0:3])\n",
    "print(len(train_sentences))\n",
    "print(train_labels[0:3])\n",
    "print(len(train_labels))\n",
    "print(test_sentences[0:3])\n",
    "print(len(test_sentences))\n",
    "print(test_labels[0:3])\n",
    "print(len(test_labels))\n",
    "print(dev_sentences[0:3])\n",
    "print(len(dev_sentences))\n",
    "print(dev_labels[0:3])\n",
    "print(len(dev_labels))\n"
   ]
  },
  {
   "cell_type": "markdown",
   "metadata": {},
   "source": [
    "# Define Preprocessor for Text -  Use Default from CountVectorizer"
   ]
  },
  {
   "cell_type": "markdown",
   "metadata": {},
   "source": [
    "This pre-processor sets all of the words to lowercase and removes punctuation"
   ]
  },
  {
   "cell_type": "code",
   "execution_count": 78,
   "metadata": {},
   "outputs": [
    {
     "name": "stdout",
     "output_type": "stream",
     "text": [
      "['the', 'additional', 'schooling', 'foisted', 'upon', 'one', 'group', 'by', 'this', 'arbitrary', 'state', 'of', 'affairs', 'produced', 'scaled', 'down', 'version', 'of', 'our', 'experiment', 'allowing', 'angrist', 'and', 'krueger', 'to', 'conclude', 'that', 'education', 'did', 'in', 'fact', 'help', 'people', 'earn', 'more', 'money']\n"
     ]
    }
   ],
   "source": [
    "sentences=ibc_frame['sentence'].tolist()\n",
    "proc_vec=CountVectorizer()\n",
    "analyze=proc_vec.build_analyzer()\n",
    "split_sentences=[analyze(i) for i in sentences]\n",
    "print(split_sentences[10])"
   ]
  },
  {
   "cell_type": "markdown",
   "metadata": {},
   "source": [
    "# Figure out the 95th Percentile Sentence Length - Use that as the Maximum Length"
   ]
  },
  {
   "cell_type": "code",
   "execution_count": 79,
   "metadata": {},
   "outputs": [
    {
     "data": {
      "image/png": "[encoded data removed]",
      "text/plain": [
       "<matplotlib.figure.Figure at 0x7f9808080128>"
      ]
     },
     "metadata": {},
     "output_type": "display_data"
    },
    {
     "name": "stdout",
     "output_type": "stream",
     "text": [
      "55.0\n"
     ]
    }
   ],
   "source": [
    "#full_ns=np.concatenate([train_ns,dev_ns,test_ns],axis=0)\n",
    "full_ns=[len(i) for i in split_sentences]\n",
    "plt.hist(full_ns)\n",
    "plt.show()\n",
    "print(np.percentile(full_ns,95))"
   ]
  },
  {
   "cell_type": "markdown",
   "metadata": {},
   "source": [
    "# Pre-Process training, dev, and test sets, Pad Sentences"
   ]
  },
  {
   "cell_type": "code",
   "execution_count": 80,
   "metadata": {
    "collapsed": true
   },
   "outputs": [],
   "source": [
    "def make_sentence_list(pre_proc,max_len,sentences):\n",
    "    sents=[]\n",
    "    ns=[]\n",
    "    for sentence in sentences:\n",
    "        processed_sentence=pre_proc(sentence)\n",
    "        n=len(processed_sentence)\n",
    "        if(n<max_len):\n",
    "            pad_length=max_len-n\n",
    "            processed_sentence=processed_sentence + ['000'] * pad_length\n",
    "\n",
    "        sents.append(processed_sentence[0:max_len])\n",
    "        ns.append(n)\n",
    "\n",
    "    \n",
    "    return np.array(sents), np.array(ns)"
   ]
  },
  {
   "cell_type": "code",
   "execution_count": 81,
   "metadata": {},
   "outputs": [
    {
     "name": "stdout",
     "output_type": "stream",
     "text": [
      "(2608, 55)\n",
      "(2608,)\n",
      "(745, 55)\n",
      "(745,)\n",
      "(373, 55)\n",
      "(373,)\n",
      "['some' 'children' 'therefore' 'enjoy' 'their' 'parents' 'protection'\n",
      " 'against' 'the' 'loss' 'of' 'income' 'from' 'disability' 'untimely'\n",
      " 'death' 'or' 'old' 'age' 'and' 'receive' 'benefits' 'that' 'are' 'based'\n",
      " 'on' 'the' 'same' 'formula' 'used' 'for' 'the' 'old' 'age' 'benefit' '000'\n",
      " '000' '000' '000' '000' '000' '000' '000' '000' '000' '000' '000' '000'\n",
      " '000' '000' '000' '000' '000' '000' '000']\n"
     ]
    }
   ],
   "source": [
    "max_len=55\n",
    "\n",
    "train_list,train_ns=make_sentence_list(analyze,max_len,train_sentences)\n",
    "dev_list,dev_ns=make_sentence_list(analyze,max_len,dev_sentences)\n",
    "test_list,test_ns=make_sentence_list(analyze,max_len,test_sentences)\n",
    "\n",
    "print(train_list.shape)\n",
    "print(train_ns.shape)\n",
    "print(test_list.shape)\n",
    "print(test_ns.shape)\n",
    "print(dev_list.shape)\n",
    "print(dev_ns.shape)\n",
    "\n",
    "print(train_list[0])"
   ]
  },
  {
   "cell_type": "markdown",
   "metadata": {},
   "source": [
    "# Embed The train, test, and dev IBC sentences"
   ]
  },
  {
   "cell_type": "code",
   "execution_count": 82,
   "metadata": {
    "collapsed": true
   },
   "outputs": [],
   "source": [
    "def embed_sentences(sentence_array,unknown_word_embedding):\n",
    "    data=np.zeros([sentence_array.shape[0],sentence_array.shape[1],300])\n",
    "    for i in range(data.shape[0]):\n",
    "        for j in range(data.shape[1]):\n",
    "            try:\n",
    "                data[i][j]=model[sentence_array[i][j]]\n",
    "            except:\n",
    "                data[i][j]=unknown_word_embedding\n",
    "    return data\n",
    "        "
   ]
  },
  {
   "cell_type": "code",
   "execution_count": 83,
   "metadata": {},
   "outputs": [
    {
     "name": "stdout",
     "output_type": "stream",
     "text": [
      "(2608, 55, 300)\n",
      "(373, 55, 300)\n",
      "(745, 55, 300)\n"
     ]
    }
   ],
   "source": [
    "unknown_word_embedding=np.random.rand(1,300)\n",
    "\n",
    "train_data=embed_sentences(train_list,unknown_word_embedding)\n",
    "dev_data=embed_sentences(dev_list,unknown_word_embedding)\n",
    "test_data=embed_sentences(test_list,unknown_word_embedding)\n",
    "\n",
    "print(train_data.shape)\n",
    "print(dev_data.shape)\n",
    "print(test_data.shape)\n"
   ]
  },
  {
   "cell_type": "markdown",
   "metadata": {},
   "source": [
    "# Load the Weakly-Annotated All the News Sentences"
   ]
  },
  {
   "cell_type": "code",
   "execution_count": 84,
   "metadata": {},
   "outputs": [
    {
     "data": {
      "text/html": [
       "<div>\n",
       "<style>\n",
       "    .dataframe thead tr:only-child th {\n",
       "        text-align: right;\n",
       "    }\n",
       "\n",
       "    .dataframe thead th {\n",
       "        text-align: left;\n",
       "    }\n",
       "\n",
       "    .dataframe tbody tr th {\n",
       "        vertical-align: top;\n",
       "    }\n",
       "</style>\n",
       "<table border=\"1\" class=\"dataframe\">\n",
       "  <thead>\n",
       "    <tr style=\"text-align: right;\">\n",
       "      <th></th>\n",
       "      <th>Unnamed: 0</th>\n",
       "      <th>sentence</th>\n",
       "      <th>source</th>\n",
       "      <th>con_score</th>\n",
       "      <th>lib_score</th>\n",
       "      <th>weak_label</th>\n",
       "    </tr>\n",
       "  </thead>\n",
       "  <tbody>\n",
       "    <tr>\n",
       "      <th>0</th>\n",
       "      <td>0</td>\n",
       "      <td>On Tuesday’s broadcast of CNN’s “Situation Roo...</td>\n",
       "      <td>Breitbart</td>\n",
       "      <td>0.999304</td>\n",
       "      <td>0.000696</td>\n",
       "      <td>conservative</td>\n",
       "    </tr>\n",
       "    <tr>\n",
       "      <th>10</th>\n",
       "      <td>0</td>\n",
       "      <td>[The Daily Mail reports that the group was abo...</td>\n",
       "      <td>Breitbart</td>\n",
       "      <td>0.983645</td>\n",
       "      <td>0.016355</td>\n",
       "      <td>conservative</td>\n",
       "    </tr>\n",
       "    <tr>\n",
       "      <th>12</th>\n",
       "      <td>0</td>\n",
       "      <td>“Today I was with Suly, my wife (who is a nati...</td>\n",
       "      <td>Breitbart</td>\n",
       "      <td>0.904797</td>\n",
       "      <td>0.095203</td>\n",
       "      <td>conservative</td>\n",
       "    </tr>\n",
       "    <tr>\n",
       "      <th>14</th>\n",
       "      <td>0</td>\n",
       "      <td>The Yucatan Times denounced the chanting in an...</td>\n",
       "      <td>Breitbart</td>\n",
       "      <td>0.917745</td>\n",
       "      <td>0.082255</td>\n",
       "      <td>conservative</td>\n",
       "    </tr>\n",
       "    <tr>\n",
       "      <th>21</th>\n",
       "      <td>0</td>\n",
       "      <td>Since 2012, honour crimes reported to the Metr...</td>\n",
       "      <td>Breitbart</td>\n",
       "      <td>0.962279</td>\n",
       "      <td>0.037721</td>\n",
       "      <td>conservative</td>\n",
       "    </tr>\n",
       "  </tbody>\n",
       "</table>\n",
       "</div>"
      ],
      "text/plain": [
       "    Unnamed: 0                                           sentence     source  \\\n",
       "0            0  On Tuesday’s broadcast of CNN’s “Situation Roo...  Breitbart   \n",
       "10           0  [The Daily Mail reports that the group was abo...  Breitbart   \n",
       "12           0  “Today I was with Suly, my wife (who is a nati...  Breitbart   \n",
       "14           0  The Yucatan Times denounced the chanting in an...  Breitbart   \n",
       "21           0  Since 2012, honour crimes reported to the Metr...  Breitbart   \n",
       "\n",
       "    con_score  lib_score    weak_label  \n",
       "0    0.999304   0.000696  conservative  \n",
       "10   0.983645   0.016355  conservative  \n",
       "12   0.904797   0.095203  conservative  \n",
       "14   0.917745   0.082255  conservative  \n",
       "21   0.962279   0.037721  conservative  "
      ]
     },
     "execution_count": 84,
     "metadata": {},
     "output_type": "execute_result"
    }
   ],
   "source": [
    "#minimum score for con_score or lib_score\n",
    "#if you want no minimum score, make this .5\n",
    "min_score = .9\n",
    "\n",
    "atn_sentences=pd.read_csv('ATN_selected_reddit_weak_labels_conlibonly.csv')\n",
    "atn_sentences = atn_sentences[abs(.5 - atn_sentences['con_score']) > (min_score-.5)]\n",
    "atn_sentences.head()"
   ]
  },
  {
   "cell_type": "code",
   "execution_count": 85,
   "metadata": {},
   "outputs": [
    {
     "name": "stdout",
     "output_type": "stream",
     "text": [
      "[ 'On Tuesday’s broadcast of CNN’s “Situation Room,” CNN Senior Washington Correspondent Jeff Zeleny stated that Chelsea Manning’s transition from a man to a woman “certainly played into” President Obama’s decision to commute Manning’s sentence, and “Without that, it’s hard to imagine, I think, this president would have done that.'\n",
      " '[The Daily Mail reports that the group was aboard the Captain Hook Pirate Ship dinner cruise with other revelers when they broke out into the chants, shocking other tourists on board.'\n",
      " '“Today I was with Suly, my wife (who is a native of Mexico) watching an entertainment show off the coast of Cancun aboard a boat, and at the end of the show, a flock of Americans (maybe under the influence of alcohol, or maybe not) began to sing the infamous ‘Build that wall’ chant louder and louder,’” he wrote on Facebook.']\n",
      "(23087,)\n",
      "[[0 1]\n",
      " [0 1]\n",
      " [0 1]]\n",
      "(23087, 2)\n"
     ]
    }
   ],
   "source": [
    "#for lib/cons predictions\n",
    "atn_values_dict={'liberal':0,'conservative':1}\n",
    "atn_sentences['class']=atn_sentences['weak_label'].map(atn_values_dict)\n",
    "news_sentences=atn_sentences['sentence'].as_matrix()\n",
    "news_labels=pd.get_dummies(atn_sentences['class']).as_matrix()\n",
    "\n",
    "print(news_sentences[0:3])\n",
    "print(news_sentences.shape)\n",
    "print(news_labels[0:3])\n",
    "print(news_labels.shape)\n"
   ]
  },
  {
   "cell_type": "markdown",
   "metadata": {},
   "source": [
    "# Divide ATN Sentences into Training and Dev Sets - Limit to 20,000 Sentences"
   ]
  },
  {
   "cell_type": "code",
   "execution_count": 86,
   "metadata": {
    "collapsed": true
   },
   "outputs": [],
   "source": [
    "shuffle=np.random.permutation(news_sentences.shape[0])\n",
    "X_atn, y_atn=news_sentences[shuffle][:20000],news_labels[shuffle][:20000]\n",
    "train_length=int(X_atn.shape[0]*0.8)\n",
    "X_atn_train,y_atn_train=X_atn[:train_length],y_atn[:train_length]\n",
    "X_atn_dev,y_atn_dev=X_atn[train_length:],y_atn[train_length:]\n",
    "\n",
    "train_atn_sentences=X_atn_train.tolist()\n",
    "train_atn_labels=y_atn_train\n",
    "dev_atn_sentences=X_atn_dev.tolist()\n",
    "dev_atn_labels=y_atn_dev\n",
    "\n"
   ]
  },
  {
   "cell_type": "code",
   "execution_count": 87,
   "metadata": {},
   "outputs": [
    {
     "name": "stdout",
     "output_type": "stream",
     "text": [
      "['There is no limiting principle other than the subjective desires and (more importantly) the political power of the people making the demands.', 'In September, North Korea said it had hit the button on its fifth and potentially most powerful nuclear test.', 'Dallas Goldtooth, an organizer with the Indigenous Environmental Network and member of the Mdewakanton Dakota and Dine tribes, said he had expected Trump to support the pipeline, but did not imagine it would happen within days of the administration.']\n",
      "16000\n",
      "[[0 1]\n",
      " [0 1]\n",
      " [1 0]]\n",
      "(16000, 2)\n",
      "['2 spot,   principal deputy under secretary of defense for policy, as well   as supporting roles covering cyber, space,       and nuclear and missile   defense policy.', 'The insurer reported a 12 percent rise in earnings before payouts to members in its latest quarter, with strength in wealth management, life and health insurance businesses making up for weaker growth in its property and casualty business.', 'Before Harward took himself out of the running for national security adviser, Colin Kahl, the former security adviser to Joe Biden, said the effectiveness of the next national security adviser depended in part on “how successful he is in shutting down parallel national security structures in the West Wing, most notably Bannon’s Strategic Initiatives Group”.']\n",
      "4000\n",
      "[[0 1]\n",
      " [0 1]\n",
      " [1 0]]\n",
      "(4000, 2)\n"
     ]
    }
   ],
   "source": [
    "print(train_atn_sentences[0:3])\n",
    "print(len(train_atn_sentences))\n",
    "print(train_atn_labels[0:3])\n",
    "print(train_atn_labels.shape)\n",
    "\n",
    "print(dev_atn_sentences[0:3])\n",
    "print(len(dev_atn_sentences))\n",
    "print(dev_atn_labels[0:3])\n",
    "print(dev_atn_labels.shape)"
   ]
  },
  {
   "cell_type": "markdown",
   "metadata": {},
   "source": [
    "# Pre-process and Embed the ATN Sentences"
   ]
  },
  {
   "cell_type": "code",
   "execution_count": 88,
   "metadata": {},
   "outputs": [
    {
     "name": "stdout",
     "output_type": "stream",
     "text": [
      "(16000, 55)\n",
      "(16000,)\n",
      "(4000, 55)\n",
      "(4000,)\n"
     ]
    }
   ],
   "source": [
    "train_atn_list, train_atn_ns=make_sentence_list(analyze,max_len,train_atn_sentences)\n",
    "dev_atn_list, dev_atn_ns=make_sentence_list(analyze,max_len,dev_atn_sentences)\n",
    "\n",
    "print(train_atn_list.shape)\n",
    "print(train_atn_ns.shape)\n",
    "print(dev_atn_list.shape)\n",
    "print(dev_atn_ns.shape)"
   ]
  },
  {
   "cell_type": "code",
   "execution_count": 89,
   "metadata": {},
   "outputs": [
    {
     "name": "stdout",
     "output_type": "stream",
     "text": [
      "['in' 'september' 'north' 'korea' 'said' 'it' 'had' 'hit' 'the' 'button'\n",
      " 'on' 'its' 'fifth' 'and' 'potentially' 'most' 'powerful' 'nuclear' 'test'\n",
      " '000' '000' '000' '000' '000' '000' '000' '000' '000' '000' '000' '000'\n",
      " '000' '000' '000' '000' '000' '000' '000' '000' '000' '000' '000' '000'\n",
      " '000' '000' '000' '000' '000' '000' '000' '000' '000' '000' '000' '000']\n"
     ]
    }
   ],
   "source": [
    "print(train_atn_list[1])"
   ]
  },
  {
   "cell_type": "code",
   "execution_count": 90,
   "metadata": {},
   "outputs": [
    {
     "name": "stdout",
     "output_type": "stream",
     "text": [
      "(16000, 55, 300)\n",
      "(4000, 55, 300)\n"
     ]
    }
   ],
   "source": [
    "train_atn_data=embed_sentences(train_atn_list,unknown_word_embedding)\n",
    "dev_atn_data=embed_sentences(dev_atn_list,unknown_word_embedding)\n",
    "\n",
    "print(train_atn_data.shape)\n",
    "print(dev_atn_data.shape)"
   ]
  },
  {
   "cell_type": "markdown",
   "metadata": {},
   "source": [
    "# Implement the Confidence Network"
   ]
  },
  {
   "cell_type": "code",
   "execution_count": 91,
   "metadata": {
    "collapsed": true
   },
   "outputs": [],
   "source": [
    "from IPython.display import display, clear_output "
   ]
  },
  {
   "cell_type": "code",
   "execution_count": 92,
   "metadata": {},
   "outputs": [
    {
     "name": "stdout",
     "output_type": "stream",
     "text": [
      "50) RMSE = 0.1327\n"
     ]
    },
    {
     "data": {
      "image/png": "[encoded data removed]",
      "text/plain": [
       "<matplotlib.figure.Figure at 0x7f98ac2fdb38>"
      ]
     },
     "metadata": {},
     "output_type": "display_data"
    },
    {
     "data": {
      "image/png": "[encoded data removed]",
      "text/plain": [
       "<matplotlib.figure.Figure at 0x7f9759654ba8>"
      ]
     },
     "metadata": {},
     "output_type": "display_data"
    }
   ],
   "source": [
    "# (1) Parameters\n",
    "tf.reset_default_graph()\n",
    "hidden_layer_size=10\n",
    "learning_rate=.001\n",
    "batch_size=50\n",
    "num_ex=train_data.shape[0]\n",
    "\n",
    "# placeholder\n",
    "x_=tf.placeholder(tf.float32,shape=[None,max_len,300],name='x')\n",
    "ns_=tf.placeholder(tf.int32,shape=[None],name='ns')\n",
    "y_=tf.placeholder(tf.float32,shape=[None],name='y')\n",
    "is_training_ = tf.placeholder_with_default(True, shape=[], name='is_training')\n",
    "\n",
    "\n",
    "#define bow encoding layer\n",
    "\n",
    "\n",
    "def bow_encoding_layer(x_,ns_,is_training=None):\n",
    "    #zero out padding embedding\n",
    "    mask_ = tf.expand_dims(tf.sequence_mask(ns_, x_.shape[1],dtype=tf.float32), -1)\n",
    "    x_=tf.multiply(x_,mask_)\n",
    "    sum_embeddings=tf.reduce_sum(x_,axis=1)\n",
    "    return sum_embeddings\n",
    "\n",
    "#define model with one bow encoding layer, one hidden layer, and one output layer\n",
    "\n",
    "def model(x_,ns_,hidden_layer_size,is_training=True):\n",
    "    l1=bow_encoding_layer(x_,ns_)\n",
    "    l2=tf.layers.dense(inputs=l1,units=hidden_layer_size,activation=tf.tanh)\n",
    "    output_layer=tf.layers.dense(inputs=l2,units=1,activation=tf.nn.relu)\n",
    "    return tf.squeeze(output_layer)\n",
    "\n",
    "#Define training op and optimizer\n",
    "preds=model(x_,ns_,hidden_layer_size,is_training_)\n",
    "cc=tf.losses.mean_squared_error(y_,preds)\n",
    "gd=tf.train.GradientDescentOptimizer(learning_rate)\n",
    "outputs=tf.identity(preds)\n",
    "\n",
    "step=gd.minimize(cc)\n",
    "\n",
    "#Define Error Calculation - RMSE\n",
    "acc=tf.metrics.mean_squared_error(y_,preds)[1]\n",
    "\n",
    "\n",
    "#Train the Neural network, report dev/training RMSE\n",
    "with tf.Session() as sess:\n",
    "    sess.run(tf.global_variables_initializer())\n",
    "    sess.run(tf.local_variables_initializer())\n",
    "    cost_vec_avg = []\n",
    "    acc_dev_vec = []\n",
    "    acc_train_vec = []\n",
    "    for i in range(50):\n",
    "        cost_vec = []\n",
    "        for start, end in zip(range(0, num_ex, batch_size), range(batch_size, num_ex, batch_size)):\n",
    "            batch = train_data[start:end], train_labels[start:end]\n",
    "            ns=train_ns[start:end]\n",
    "            _, cost = sess.run([step, cc], feed_dict={x_: batch[0],ns_: ns, y_: batch[1], is_training_: True})\n",
    "            cost_vec.append(cost)\n",
    "\n",
    "        dev_acc = acc.eval(feed_dict={x_: dev_data,ns_: dev_ns, y_: dev_labels, is_training_: False})\n",
    "        train_acc = acc.eval(feed_dict={x_: train_data,ns_: train_ns, y_: train_labels,is_training_: False})\n",
    "        \n",
    "\n",
    "        \n",
    "        cost_vec_avg.append(np.mean(cost_vec))\n",
    "        clear_output(wait=True)\n",
    "        acc_dev_vec.append(dev_acc)\n",
    "        acc_train_vec.append(train_acc)\n",
    "        print('%d) RMSE = %.4f' %(i+1, dev_acc))\n",
    "       \n",
    "    #generate predictions for IBC/ATN confidence scores\n",
    "    probas = preds.eval(feed_dict={x_: train_data,ns_: train_ns, is_training_: False})\n",
    "    train_atn_probas=preds.eval(feed_dict={x_: train_atn_data,ns_: train_atn_ns, is_training_: False})\n",
    "    \n",
    "#plot the results\n",
    "plt.plot(cost_vec_avg)  \n",
    "plt.xlabel('Number of Gradient Descent steps')\n",
    "plt.ylabel('Cost function')\n",
    "plt.show()\n",
    "\n",
    "plt.plot(acc_dev_vec)  \n",
    "plt.plot(acc_train_vec)\n",
    "plt.xlabel('Number of Gradient Descent steps')\n",
    "plt.ylabel('Train and Dev RMSE')\n",
    "plt.show()"
   ]
  },
  {
   "cell_type": "code",
   "execution_count": 93,
   "metadata": {},
   "outputs": [
    {
     "name": "stdout",
     "output_type": "stream",
     "text": [
      "IBC confidence scores shape: (2608,)\n",
      "IBC Confidence scores sample: [ 0.58294231  0.54445994  0.57277852  0.66128343  0.65985739  0.56737238\n",
      "  0.57824546  0.57196236  0.57236159  0.55538255]\n",
      "ATN confidence scores shape: (16000,)\n",
      "ATN confidence scores sample:  [ 0.5354647   0.49471679  0.57207596  0.57277769  0.57163978  0.53814137\n",
      "  0.57472622  0.56996781  0.57276481  0.57278228]\n"
     ]
    }
   ],
   "source": [
    "\n",
    "print(\"IBC confidence scores shape:\",probas.shape)\n",
    "print(\"IBC Confidence scores sample:\",probas[0:10])\n",
    "print('ATN confidence scores shape:',train_atn_probas.shape)\n",
    "print('ATN confidence scores sample: ',train_atn_probas[0:10])"
   ]
  },
  {
   "cell_type": "markdown",
   "metadata": {},
   "source": [
    "The plot of the train and dev set RMSE doesn't indicate that the confidence network is overfitting the data."
   ]
  },
  {
   "cell_type": "markdown",
   "metadata": {},
   "source": [
    "# Examining highest and lowest confidence score sentences"
   ]
  },
  {
   "cell_type": "code",
   "execution_count": 94,
   "metadata": {},
   "outputs": [
    {
     "name": "stdout",
     "output_type": "stream",
     "text": [
      "Highest confidence scores:\n",
      "\n",
      "patrons volunteer their time assisting with    restaurant chores, which pays for their own meal as well as the tab for their family.\n",
      "[1 0]\n",
      "2.07215\n",
      "A Marine Corps service member is facing a   while another has been discharged following the “Marines United” nude   scandal.\n",
      "[0 1]\n",
      "1.89409\n",
      "Such measures could include suspension or a dorm change so the two parties can avoid contact.\n",
      "[1 0]\n",
      "1.84471\n",
      "Foreign forces, Traditionally dominated by Japanese sportsmen, foreign born sumo wrestlers have outshone their local rivals in recent years.\n",
      "[0 1]\n",
      "1.83553\n",
      "Instead, the legal requirements locked in the instant the student or the student’s parents notified the school that the student’s “gender identity” differed from his or her biological sex.\n",
      "[0 1]\n",
      "1.693\n",
      "“I don’t know that I would get married, but I had met my current husband before I met my first husband.\n",
      "[0 1]\n",
      "1.65643\n",
      " The company building an oil pipeline that has fueled sustained public protests said on Thursday it has started drilling under a North Dakota lake despite a   legal challenge from a Native American tribe leading the opposition.\n",
      "[1 0]\n",
      "1.61877\n",
      "” Later, observing with “mystical reverence” a prole woman singing outside his window as she hangs her laundry, he comments: “The birds sang, the proles sang, the Party did not sing.\n",
      "[0 1]\n",
      "1.60512\n",
      "Indiana  —   Todd Young (R) Former congressman Todd Young, who also served a decorated career in the Marine Corps, will replace the retired Dan Coats in Indiana.\n",
      "[0 1]\n",
      "1.58883\n",
      "The students also had higher levels of blood sugar,   hormones such as ghrelin, and stress hormones such as cortisol after sleep disruption.\n",
      "[0 1]\n",
      "1.58545\n",
      "\n",
      "Lowest confidence scores:\n",
      "\n",
      "“Obamacare is a mess!” President Trump might have tweeted.\n",
      "[0 1]\n",
      "0.0\n",
      " (CNN) President Donald Trump vowed stout support for NATO on Monday, even as he insisted again that member countries scale up their defense spending on the alliance.\n",
      "[0 1]\n",
      "0.0\n",
      "As Bruno spoke, the hint of a smile as he was told what replays showed, Gerard Piqué was striding across the pitch behind him, eyes fixed, staring up at the stand like nothing around him mattered, just what lay ahead.\n",
      "[1 0]\n",
      "0.0\n",
      "We sometimes get it wrong,   you guys sometimes get it wrong.\n",
      "[0 1]\n",
      "0.0\n",
      "In doing so, he showed that he’ll make any move he likes, even if it seriously harms obvious American interests.\n",
      "[0 1]\n",
      "0.0\n",
      "You think our country’s so innocent?” Trump made the remark during an interview with Fox News’ Bill O’Reilly, saying he respected his Russian counterpart.\n",
      "[0 1]\n",
      "0.0\n",
      "He added: “If you were a terrorist, I suspect you’d not be ticking yes on the Esta form anyway.\n",
      "[0 1]\n",
      "0.0\n",
      "The NFL’s four U. S. TV partners, Fox, NBC, CBS and Walt Disney Co’s ESPN, are collectively paying $5.\n",
      "[0 1]\n",
      "0.0\n",
      "He tweeted Friday that night that he had spoken with Trump, who he said ”fully supports” the proposal.\n",
      "[0 1]\n",
      "0.0\n",
      "” This paragraph, for example, looks impressive but is literally meaningless: Inasmuch as masculinity is essentially performative, so too is the conceptual penis.\n",
      "[0 1]\n",
      "0.0\n"
     ]
    }
   ],
   "source": [
    "train_atn_probas[np.argsort(train_atn_probas)[:10]]\n",
    "high = np.argsort(train_atn_probas)[::-1][:10]\n",
    "low = np.argsort(train_atn_probas)[:10]\n",
    "sent = np.array(train_atn_sentences)\n",
    "\n",
    "print('Highest confidence scores:\\n')\n",
    "for index in high:\n",
    "    print(sent[index])\n",
    "    print(train_atn_labels[index])\n",
    "    print(train_atn_probas[index])\n",
    "    \n",
    "print('\\nLowest confidence scores:\\n')\n",
    "for index in low:\n",
    "    print(sent[index])\n",
    "    print(train_atn_labels[index])\n",
    "    print(train_atn_probas[index])"
   ]
  },
  {
   "cell_type": "markdown",
   "metadata": {
    "collapsed": true
   },
   "source": [
    "# Define Time Change Function."
   ]
  },
  {
   "cell_type": "code",
   "execution_count": 95,
   "metadata": {
    "collapsed": true
   },
   "outputs": [],
   "source": [
    "def pretty_timedelta(since=None, until=None):\n",
    "    \"\"\"Pretty-print a timedelta, using the given format string.\"\"\"\n",
    "    since = since or time.time()\n",
    "    until = until or time.time()\n",
    "    delta_s = until - since\n",
    "    hours, remainder = divmod(delta_s, 3600)\n",
    "    minutes, seconds = divmod(remainder, 60)\n",
    "    #print(hours, minutes, seconds)\n",
    "    return (hours, minutes, seconds)"
   ]
  },
  {
   "cell_type": "markdown",
   "metadata": {},
   "source": [
    "# Set Parameters for Target Network"
   ]
  },
  {
   "cell_type": "code",
   "execution_count": 96,
   "metadata": {
    "collapsed": true
   },
   "outputs": [],
   "source": [
    "# Hyperparameters\n",
    "tf.reset_default_graph()\n",
    "hidden_layer_size = 100\n",
    "depth_size = 128\n",
    "filters = [2,3,4]\n",
    "\n",
    "learning_rate = 0.01\n",
    "batch_size = 50\n",
    "num_ex = train_list.shape[0]\n",
    "\n",
    "\n",
    "\n",
    "pk1 = .9\n",
    "pk2 = .9\n",
    "pk3 = .9\n",
    "\n",
    "\n",
    "num_classes = 2\n",
    "\n",
    "# placeholders\n",
    "x_=tf.placeholder(tf.float32,shape=[None, None, None],name='x')\n",
    "ns_=tf.placeholder(tf.int32,shape=[None],name='ns')\n",
    "y_=tf.placeholder(tf.int32,shape=[None, None],name='y')\n",
    "is_training_ = tf.placeholder_with_default(True, shape=[], name='is_training')\n",
    "c_=tf.placeholder(tf.float32,shape=[None],name='c')\n",
    "test_y=tf.placeholder(tf.int32,shape=[None])\n",
    "test_pred=tf.placeholder(tf.int32,shape=[None])\n",
    "\n",
    "max_time = train_data.shape[1]\n",
    "embed = train_data.shape[2]\n"
   ]
  },
  {
   "cell_type": "markdown",
   "metadata": {},
   "source": [
    "# Define the Model"
   ]
  },
  {
   "cell_type": "code",
   "execution_count": 97,
   "metadata": {
    "collapsed": true
   },
   "outputs": [],
   "source": [
    "def CNN(input_x, filters, depth_size, is_training, pk1, max_time, embed):\n",
    "    \"\"\"CNN model\n",
    "\n",
    "    Args:\n",
    "      input_x: 3-d matrix of sentences converted to word embeddings [batch size, max_length, embed_dim]\n",
    "      filters: array of filter sizes to use\n",
    "      depth_size: number of filters of certain size to pass over input\n",
    "      is_training: boolean that turns on or off dropout\n",
    "\n",
    "    Returns:\n",
    "      tensor object after convolutions are applied\n",
    "    \"\"\"\n",
    "    l1 = tf.reshape(input_x, [-1, max_time, embed, 1])\n",
    "    \n",
    "    l2 = tf.cond(is_training, \n",
    "                 lambda: tf.nn.dropout(l1, pk1),\n",
    "                 lambda: l1)\n",
    "\n",
    "    pooled_outputs = []\n",
    "    \n",
    "    \n",
    "    for i, filter_size in enumerate(filters):\n",
    "        with tf.name_scope(\"conv-maxpool-%s\" % filter_size):\n",
    "            w1 = tf.get_variable(shape=[filter_size, embed, 1, depth_size], name = 'w1'+str(filter_size))\n",
    "            l3 = tf.nn.conv2d(l2, w1, [1,1,1,1], 'VALID')\n",
    "            l4 = tf.nn.relu(l3)\n",
    "            l5 = tf.nn.max_pool(l4, [1, (max_time-filter_size+1), 1, 1], [1, 1, 1, 1], 'VALID')            \n",
    "            pooled_outputs.append(l5)\n",
    "\n",
    "\n",
    "    l5_pool = tf.concat(pooled_outputs, 3)\n",
    "    l6 = tf.reshape(l5_pool, [-1, (depth_size * len(filters))])\n",
    "    return l6\n",
    "\n",
    "def target_model(input_x, filters, depth_size, h, num_classes, is_training, pk1, pk2, pk3, max_time, embed):\n",
    "    \"\"\"Total target model that applies convolutions through CCN method and\n",
    "    then applies fully connected layer and softmax output layer.\n",
    "\n",
    "    Args:\n",
    "      input_x: 3-d matrix of sentences converted to word embeddings [batch size, max_length, embed_dim]\n",
    "      filters: array of filter sizes to use\n",
    "      depth_size: number of filters of certain size to pass over input\n",
    "      h: int of hidden dimensions for fully connected layer\n",
    "      num_classes: output dimensions for softmax layer\n",
    "      is_training: boolean that turns on or off dropout\n",
    "\n",
    "    Returns:\n",
    "      logits of predicted class of sentence classification \n",
    "    \"\"\"\n",
    "    l6 = CNN(input_x, filters, depth_size, is_training, pk1, max_time, embed)\n",
    "    \n",
    "    w2 = tf.get_variable('w2', shape=[depth_size*len(filters), h])\n",
    "    b2 = tf.get_variable('b2', shape=[h])\n",
    "    w3 = tf.get_variable('w3', shape=[h, num_classes])\n",
    "    b3 = tf.get_variable('b3', shape=[num_classes])\n",
    "    \n",
    "    l7 = tf.cond(is_training, \n",
    "                 lambda: tf.nn.dropout(l6, pk2),\n",
    "                 lambda: l6)\n",
    "    l8 = tf.matmul(l7, w2) + b2\n",
    "    l9 = tf.nn.relu(l8)\n",
    "    \n",
    "    l10 = tf.cond(is_training, \n",
    "                  lambda: tf.nn.dropout(l9, pk3), \n",
    "                  lambda: l9)\n",
    "    logits = tf.matmul(l10, w3) + b3\n",
    "    \n",
    "    return logits\n",
    "\n",
    "def loss(y, preds, c, is_training):\n",
    "    \"\"\"Total target model that applies convolutions through CCN method and\n",
    "    then applies fully connected layer and softmax output layer.\n",
    "\n",
    "    Args:\n",
    "      y: actual labels\n",
    "      preds: predicted classifications\n",
    "      c: confidence scores\n",
    "\n",
    "    Returns:\n",
    "      training loss\n",
    "    \"\"\"\n",
    "\n",
    "    loss = tf.cond(is_training, \n",
    "                  lambda: tf.losses.softmax_cross_entropy(y, preds, weights=c), \n",
    "                  lambda: tf.losses.softmax_cross_entropy(y, preds))\n",
    "        \n",
    "    return loss\n",
    "\n",
    "#Define Accuracy calculation\n",
    "\n",
    "def acc(logits, labels):\n",
    "    \"\"\"Total target model that applies convolutions through CCN method and\n",
    "    then applies fully connected layer and softmax output layer.\n",
    "\n",
    "    Args:\n",
    "      logits: predicted logits\n",
    "      labels: actual labels\n",
    "\n",
    "    Returns:\n",
    "      accuracy\n",
    "    \"\"\"\n",
    "    outputs = tf.nn.softmax(logits)\n",
    "    preds = tf.argmax(outputs, axis=1)\n",
    "    actuals = tf.argmax(labels, axis=1)\n",
    "    #acc = tf.metrics.accuracy(actuals, preds)[1]\n",
    "    comb = [actuals, preds]\n",
    "    \n",
    "    \n",
    "    return comb\n",
    "   \n"
   ]
  },
  {
   "cell_type": "markdown",
   "metadata": {},
   "source": [
    "# Define the methods for the session run"
   ]
  },
  {
   "cell_type": "code",
   "execution_count": 98,
   "metadata": {
    "collapsed": true
   },
   "outputs": [],
   "source": [
    "preds = target_model(x_, filters, depth_size, hidden_layer_size, num_classes, is_training_, pk1, pk2, pk3, max_time, embed)\n",
    "loss = loss(y_, preds, c_, is_training_)\n",
    "optimizer = tf.train.AdamOptimizer(learning_rate)\n",
    "\n",
    "step = optimizer.minimize(loss)\n",
    "\n",
    "#Calculate accuracy\n",
    "acc=acc(preds,y_)\n"
   ]
  },
  {
   "cell_type": "markdown",
   "metadata": {},
   "source": [
    "# Run the Target Network"
   ]
  },
  {
   "cell_type": "code",
   "execution_count": 99,
   "metadata": {},
   "outputs": [
    {
     "data": {
      "text/plain": [
       "1524446097.7224581"
      ]
     },
     "execution_count": 99,
     "metadata": {},
     "output_type": "execute_result"
    }
   ],
   "source": [
    "time.time()"
   ]
  },
  {
   "cell_type": "code",
   "execution_count": 100,
   "metadata": {},
   "outputs": [
    {
     "name": "stdout",
     "output_type": "stream",
     "text": [
      "50) Dev Accuracy = 0.7833\n",
      "50 epochs in 8.81 minutes, 0.0  minutes left\n"
     ]
    },
    {
     "data": {
      "image/png": "[encoded data removed]",
      "text/plain": [
       "<matplotlib.figure.Figure at 0x7f97e4b9ba58>"
      ]
     },
     "metadata": {},
     "output_type": "display_data"
    },
    {
     "data": {
      "image/png": "[encoded data removed]",
      "text/plain": [
       "<matplotlib.figure.Figure at 0x7f97e4b732b0>"
      ]
     },
     "metadata": {},
     "output_type": "display_data"
    },
    {
     "data": {
      "image/png": "[encoded data removed]",
      "text/plain": [
       "<matplotlib.figure.Figure at 0x7f97d5961438>"
      ]
     },
     "metadata": {},
     "output_type": "display_data"
    },
    {
     "data": {
      "image/png": "[encoded data removed]",
      "text/plain": [
       "<matplotlib.figure.Figure at 0x7f97e4ada780>"
      ]
     },
     "metadata": {},
     "output_type": "display_data"
    }
   ],
   "source": [
    "with tf.Session() as sess:\n",
    "    print('Starting training...')\n",
    "    start_time = time.time()\n",
    "\n",
    "\n",
    "    sess.run(tf.global_variables_initializer())\n",
    "    sess.run(tf.local_variables_initializer())\n",
    "    \n",
    "   \n",
    "    \n",
    "    cost_vec_avg = []\n",
    "    acc_dev_vec = []\n",
    "    acc_train_vec = []\n",
    "    n_epochs = 50\n",
    "    for i in range(n_epochs):\n",
    "        cost_vec = []\n",
    "        for start, end in zip(range(0, num_ex, batch_size), range(batch_size, num_ex, batch_size)):\n",
    "            \n",
    "            batch = train_atn_data[start:end], train_atn_labels[start:end]\n",
    "            c_scores=train_atn_probas[start:end]\n",
    "            \n",
    "            _, cost = sess.run([step, loss], feed_dict={x_: batch[0], y_: batch[1], is_training_: True, c_:c_scores})\n",
    "            cost_vec.append(cost)\n",
    "\n",
    "        dev_acc = sess.run(acc, feed_dict={x_: dev_atn_data, y_: dev_atn_labels, is_training_: False})\n",
    "        train_acc = sess.run(acc, feed_dict={x_: train_atn_data, y_: train_atn_labels, is_training_: False})\n",
    "\n",
    "        cost_vec_avg.append(np.mean(cost_vec))\n",
    "        clear_output(wait=True)\n",
    "        acc_dev_vec.append(metrics.accuracy_score(dev_acc[0], dev_acc[1]))\n",
    "        acc_train_vec.append(metrics.accuracy_score(train_acc[0], train_acc[1]))\n",
    "        \n",
    "    \n",
    "        print('%d) Dev Accuracy = %.4f' %(i+1, metrics.accuracy_score(dev_acc[0], dev_acc[1])))\n",
    "        time_passed = round((time.time()-start_time)/60, 2)\n",
    "        time_left = round((n_epochs-(i+1))*((time.time()-start_time)/60)/(i+1), 2)\n",
    "        print(i+1, 'epochs in', time_passed, 'minutes,', time_left, ' minutes left')\n",
    "        \n",
    "        plt.plot(cost_vec_avg)  \n",
    "        plt.xlabel('Number of Gradient Descent steps')\n",
    "        plt.ylabel('Cost function')\n",
    "        plt.show()\n",
    "\n",
    "        plt.plot(acc_dev_vec)  \n",
    "        plt.plot(acc_train_vec)\n",
    "        plt.xlabel('Number of Gradient Descent steps')\n",
    "        plt.ylabel('Train and Dev Accuracy')\n",
    "        plt.show()\n",
    "    \n",
    "    #get test set accuracy\n",
    "    test_acc = sess.run(acc, feed_dict={x_: test_data, y_: true_y_test, is_training_: False})\n",
    "    \n",
    "    #get test predictions\n",
    "    predictions = preds.eval(feed_dict={x_: test_data, y_: true_y_test, is_training_: False})\n",
    "    \n",
    "    pretty_timedelta(start)\n",
    "\n",
    "#plot the results\n",
    "plt.plot(cost_vec_avg)  \n",
    "plt.xlabel('iiNumber of Gradient Descent steps')\n",
    "plt.ylabel('Cost function')\n",
    "plt.show()\n",
    "\n",
    "plt.plot(acc_dev_vec)  \n",
    "plt.plot(acc_train_vec)\n",
    "plt.xlabel('Number of Gradient Descent steps')\n",
    "plt.ylabel('Train and Dev Accuracy')\n",
    "plt.show()"
   ]
  },
  {
   "cell_type": "markdown",
   "metadata": {},
   "source": [
    "# Evaluate Predictions"
   ]
  },
  {
   "cell_type": "markdown",
   "metadata": {},
   "source": [
    "### Dev set confusion matrix"
   ]
  },
  {
   "cell_type": "code",
   "execution_count": 101,
   "metadata": {},
   "outputs": [
    {
     "name": "stdout",
     "output_type": "stream",
     "text": [
      "[1 1 0 ..., 0 1 1]\n",
      "[1 0 1 ..., 0 1 1]\n"
     ]
    },
    {
     "data": {
      "text/plain": [
       "array([[ 542,  496],\n",
       "       [ 371, 2591]])"
      ]
     },
     "execution_count": 101,
     "metadata": {},
     "output_type": "execute_result"
    }
   ],
   "source": [
    "print(dev_acc[0])\n",
    "print(dev_acc[1])\n",
    "metrics.confusion_matrix(dev_acc[0], dev_acc[1])\n",
    "#predictions"
   ]
  },
  {
   "cell_type": "markdown",
   "metadata": {},
   "source": [
    "### Test Set Performance"
   ]
  },
  {
   "cell_type": "code",
   "execution_count": 102,
   "metadata": {},
   "outputs": [
    {
     "name": "stdout",
     "output_type": "stream",
     "text": [
      "(745,)\n",
      "(745,)\n"
     ]
    }
   ],
   "source": [
    "preds_binary = np.argmax(predictions, axis=1)\n",
    "y_binary = np.argmax(true_y_test, axis=1)\n",
    "print(preds_binary.shape)\n",
    "print(y_binary.shape)"
   ]
  },
  {
   "cell_type": "code",
   "execution_count": 103,
   "metadata": {},
   "outputs": [
    {
     "name": "stdout",
     "output_type": "stream",
     "text": [
      "test set accuracy:  0.539597315436\n"
     ]
    }
   ],
   "source": [
    "print('test set accuracy: ',np.mean(preds_binary==y_binary))"
   ]
  },
  {
   "cell_type": "code",
   "execution_count": 104,
   "metadata": {},
   "outputs": [
    {
     "data": {
      "text/plain": [
       "array([[259, 148],\n",
       "       [195, 143]])"
      ]
     },
     "execution_count": 104,
     "metadata": {},
     "output_type": "execute_result"
    }
   ],
   "source": [
    "confusion_matrix(y_binary, preds_binary)"
   ]
  },
  {
   "cell_type": "code",
   "execution_count": 105,
   "metadata": {
    "collapsed": true
   },
   "outputs": [],
   "source": [
    "def plot_confusion_matrix(cm, classes,\n",
    "                          normalize=False,\n",
    "                          title='Confusion matrix',\n",
    "                          cmap=plt.cm.Blues):\n",
    "    \"\"\"\n",
    "    This function prints and plots the confusion matrix.\n",
    "    Normalization can be applied by setting `normalize=True`.\n",
    "    \"\"\"\n",
    "    if normalize:\n",
    "        cm = cm.astype('float') / cm.sum(axis=1)[:, np.newaxis]\n",
    "        print(\"Normalized confusion matrix\")\n",
    "    else:\n",
    "        print('Confusion matrix, without normalization')\n",
    "\n",
    "    print(cm)\n",
    "\n",
    "    plt.imshow(cm, interpolation='nearest', cmap=cmap)\n",
    "    plt.title(title)\n",
    "    plt.colorbar()\n",
    "    tick_marks = np.arange(len(classes))\n",
    "    plt.xticks(tick_marks, classes, rotation=45)\n",
    "    plt.yticks(tick_marks, classes)\n",
    "\n",
    "    fmt = '.2f' if normalize else 'd'\n",
    "    thresh = cm.max() / 2.\n",
    "    for i, j in itertools.product(range(cm.shape[0]), range(cm.shape[1])):\n",
    "        plt.text(j, i, format(cm[i, j], fmt),\n",
    "                 horizontalalignment=\"center\",\n",
    "                 color=\"red\" if cm[i, j] > thresh else \"black\")\n",
    "\n",
    "    plt.tight_layout()\n",
    "    plt.ylabel('True label')\n",
    "    plt.xlabel('Predicted label')"
   ]
  },
  {
   "cell_type": "code",
   "execution_count": 53,
   "metadata": {},
   "outputs": [
    {
     "name": "stdout",
     "output_type": "stream",
     "text": [
      "Confusion matrix, without normalization\n",
      "[[244 163]\n",
      " [196 142]]\n"
     ]
    },
    {
     "data": {
      "image/png": "[encoded data removed]",
      "text/plain": [
       "<matplotlib.figure.Figure at 0x7f68f8233a58>"
      ]
     },
     "metadata": {},
     "output_type": "display_data"
    }
   ],
   "source": [
    "# Compute confusion matrix\n",
    "cnf_matrix = confusion_matrix(y_binary, preds_binary)\n",
    "np.set_printoptions(precision=2)\n",
    "\n",
    "# Plot non-normalized confusion matrix\n",
    "plt.figure()\n",
    "plot_confusion_matrix(cnf_matrix, classes=['conservative', 'liberal'],\n",
    "                      title='Confusion matrix, without normalization')\n",
    "plt.show()"
   ]
  },
  {
   "cell_type": "markdown",
   "metadata": {},
   "source": [
    "# Look for Patterns in Sentence Length and Number of Unknown Words"
   ]
  },
  {
   "cell_type": "code",
   "execution_count": 106,
   "metadata": {
    "collapsed": true
   },
   "outputs": [],
   "source": [
    "preds_match=(preds_binary==y_binary).astype(int)"
   ]
  },
  {
   "cell_type": "code",
   "execution_count": 107,
   "metadata": {},
   "outputs": [
    {
     "name": "stdout",
     "output_type": "stream",
     "text": [
      "[ 10.   9.   9.   2.   5.]\n"
     ]
    }
   ],
   "source": [
    "unknown_word_counts=np.zeros(745)\n",
    "for i in range(unknown_word_counts.shape[0]):\n",
    "    unknown_word_counts[i]=np.sum(np.mean((test_data[i]==unknown_word_embedding)[:test_ns[i]],axis=1))\n",
    "\n",
    "print(unknown_word_counts[0:5])"
   ]
  },
  {
   "cell_type": "code",
   "execution_count": 108,
   "metadata": {},
   "outputs": [
    {
     "data": {
      "image/png": "[encoded data removed]",
      "text/plain": [
       "<matplotlib.figure.Figure at 0x7f97e4a56dd8>"
      ]
     },
     "metadata": {},
     "output_type": "display_data"
    }
   ],
   "source": [
    "plt.scatter(test_ns[preds_match==1],unknown_word_counts[preds_match==1],label='correct')\n",
    "plt.scatter(test_ns[preds_match==0],unknown_word_counts[preds_match==0],label='incorrect')\n",
    "plt.xlabel('Test Sentence Length')\n",
    "plt.ylabel('Number of Unknown Words')\n",
    "plt.legend()\n",
    "plt.show()"
   ]
  },
  {
   "cell_type": "markdown",
   "metadata": {
    "collapsed": true
   },
   "source": [
    "The plot above doesn't indicate a clear relationship between either the length of the sentence and the likelihood of a correct prediction, or between the number of unknown words and the likelihood of a correct prediction.  Thus, neither the maximum sentence length nor the choice of embeddings seem to be negatively impacting the accuracy of the model."
   ]
  },
  {
   "cell_type": "markdown",
   "metadata": {
    "collapsed": true
   },
   "source": [
    "# Error analysis: looking at predictions vs. probabilities"
   ]
  },
  {
   "cell_type": "code",
   "execution_count": 109,
   "metadata": {},
   "outputs": [
    {
     "data": {
      "text/html": [
       "<div>\n",
       "<style>\n",
       "    .dataframe thead tr:only-child th {\n",
       "        text-align: right;\n",
       "    }\n",
       "\n",
       "    .dataframe thead th {\n",
       "        text-align: left;\n",
       "    }\n",
       "\n",
       "    .dataframe tbody tr th {\n",
       "        vertical-align: top;\n",
       "    }\n",
       "</style>\n",
       "<table border=\"1\" class=\"dataframe\">\n",
       "  <thead>\n",
       "    <tr style=\"text-align: right;\">\n",
       "      <th></th>\n",
       "      <th>true_label</th>\n",
       "      <th>pred_label</th>\n",
       "      <th>pred_prob_lib</th>\n",
       "      <th>pred_prob_con</th>\n",
       "      <th>sentence</th>\n",
       "      <th>correct</th>\n",
       "    </tr>\n",
       "  </thead>\n",
       "  <tbody>\n",
       "    <tr>\n",
       "      <th>0</th>\n",
       "      <td>0</td>\n",
       "      <td>1</td>\n",
       "      <td>-1.132772</td>\n",
       "      <td>3.000260</td>\n",
       "      <td>in response to the setbacks of 2007 immigrants...</td>\n",
       "      <td>False</td>\n",
       "    </tr>\n",
       "    <tr>\n",
       "      <th>1</th>\n",
       "      <td>0</td>\n",
       "      <td>0</td>\n",
       "      <td>4.834405</td>\n",
       "      <td>-8.264629</td>\n",
       "      <td>consider the 2011 dearjohn twitter campaign la...</td>\n",
       "      <td>True</td>\n",
       "    </tr>\n",
       "    <tr>\n",
       "      <th>2</th>\n",
       "      <td>0</td>\n",
       "      <td>0</td>\n",
       "      <td>7.330924</td>\n",
       "      <td>-14.689532</td>\n",
       "      <td>the strategic projects for progressives are cl...</td>\n",
       "      <td>True</td>\n",
       "    </tr>\n",
       "    <tr>\n",
       "      <th>3</th>\n",
       "      <td>1</td>\n",
       "      <td>0</td>\n",
       "      <td>3.642279</td>\n",
       "      <td>-6.501619</td>\n",
       "      <td>even many democrats have acknowledged the dest...</td>\n",
       "      <td>False</td>\n",
       "    </tr>\n",
       "    <tr>\n",
       "      <th>4</th>\n",
       "      <td>0</td>\n",
       "      <td>0</td>\n",
       "      <td>6.757044</td>\n",
       "      <td>-10.755880</td>\n",
       "      <td>this is an immensely important change the hist...</td>\n",
       "      <td>True</td>\n",
       "    </tr>\n",
       "    <tr>\n",
       "      <th>5</th>\n",
       "      <td>0</td>\n",
       "      <td>1</td>\n",
       "      <td>-0.664954</td>\n",
       "      <td>1.993517</td>\n",
       "      <td>an income tax was proposed around 1815 but wit...</td>\n",
       "      <td>False</td>\n",
       "    </tr>\n",
       "    <tr>\n",
       "      <th>6</th>\n",
       "      <td>1</td>\n",
       "      <td>0</td>\n",
       "      <td>4.082848</td>\n",
       "      <td>-5.433874</td>\n",
       "      <td>if they stalk off in anger the employer should...</td>\n",
       "      <td>False</td>\n",
       "    </tr>\n",
       "    <tr>\n",
       "      <th>7</th>\n",
       "      <td>1</td>\n",
       "      <td>1</td>\n",
       "      <td>-1.230065</td>\n",
       "      <td>3.347713</td>\n",
       "      <td>as quick as he is to lay blame at bp door obam...</td>\n",
       "      <td>True</td>\n",
       "    </tr>\n",
       "    <tr>\n",
       "      <th>8</th>\n",
       "      <td>1</td>\n",
       "      <td>0</td>\n",
       "      <td>4.562924</td>\n",
       "      <td>-7.364097</td>\n",
       "      <td>in the quest to erode barriers to more vibrant...</td>\n",
       "      <td>False</td>\n",
       "    </tr>\n",
       "    <tr>\n",
       "      <th>9</th>\n",
       "      <td>1</td>\n",
       "      <td>0</td>\n",
       "      <td>3.736283</td>\n",
       "      <td>-4.600888</td>\n",
       "      <td>george bush has made tax cuts the touchstone o...</td>\n",
       "      <td>False</td>\n",
       "    </tr>\n",
       "  </tbody>\n",
       "</table>\n",
       "</div>"
      ],
      "text/plain": [
       "   true_label  pred_label  pred_prob_lib  pred_prob_con  \\\n",
       "0           0           1      -1.132772       3.000260   \n",
       "1           0           0       4.834405      -8.264629   \n",
       "2           0           0       7.330924     -14.689532   \n",
       "3           1           0       3.642279      -6.501619   \n",
       "4           0           0       6.757044     -10.755880   \n",
       "5           0           1      -0.664954       1.993517   \n",
       "6           1           0       4.082848      -5.433874   \n",
       "7           1           1      -1.230065       3.347713   \n",
       "8           1           0       4.562924      -7.364097   \n",
       "9           1           0       3.736283      -4.600888   \n",
       "\n",
       "                                            sentence  correct  \n",
       "0  in response to the setbacks of 2007 immigrants...    False  \n",
       "1  consider the 2011 dearjohn twitter campaign la...     True  \n",
       "2  the strategic projects for progressives are cl...     True  \n",
       "3  even many democrats have acknowledged the dest...    False  \n",
       "4  this is an immensely important change the hist...     True  \n",
       "5  an income tax was proposed around 1815 but wit...    False  \n",
       "6  if they stalk off in anger the employer should...    False  \n",
       "7  as quick as he is to lay blame at bp door obam...     True  \n",
       "8  in the quest to erode barriers to more vibrant...    False  \n",
       "9  george bush has made tax cuts the touchstone o...    False  "
      ]
     },
     "execution_count": 109,
     "metadata": {},
     "output_type": "execute_result"
    }
   ],
   "source": [
    "#create data frame for predictions and probabilities\n",
    "pd_data = list(zip(y_binary, preds_binary, [p[0] for p in predictions], [p[1] for p in predictions],[' '.join(s) for s in test_list]))\n",
    "pred_df = pd.DataFrame(pd_data, columns=['true_label', 'pred_label', 'pred_prob_lib', 'pred_prob_con', 'sentence'])\n",
    "pred_df['correct'] = pred_df['true_label'] == pred_df['pred_label']\n",
    "pred_df.head(10)"
   ]
  },
  {
   "cell_type": "code",
   "execution_count": 110,
   "metadata": {
    "collapsed": true
   },
   "outputs": [],
   "source": [
    "lib_pred_df = pred_df[pred_df['true_label']==0]\n",
    "lib_true = lib_pred_df[lib_pred_df['correct']==True]\n",
    "lib_false = lib_pred_df[lib_pred_df['correct']==False]\n",
    "\n",
    "con_pred_df = pred_df[pred_df['true_label']==1]\n",
    "con_true = con_pred_df[con_pred_df['correct']==True]\n",
    "con_false = con_pred_df[con_pred_df['correct']==False]"
   ]
  },
  {
   "cell_type": "code",
   "execution_count": 42,
   "metadata": {
    "collapsed": true
   },
   "outputs": [],
   "source": [
    "# Correctly predicted sentences with highest probability"
   ]
  },
  {
   "cell_type": "code",
   "execution_count": 111,
   "metadata": {},
   "outputs": [
    {
     "name": "stdout",
     "output_type": "stream",
     "text": [
      "Most liberal sentences:\n",
      "\n",
      "the dead are victims of free trade and neoliberal economic policies that have destroyed rural communities causing virtual forced march to the and maquiladora sweatshops in hunt for jobs 000 000 000 000 000 000 000 000 000 000 000 000 000 000 000 000 000 000 000 000 000 000 000 000 000 000\n",
      "15.756565094 \n",
      "\n",
      "the result has been system that according to the national community reinvestment coalition ncrc has since 1977 leveraged over trillion in reinvestment dollars through cra agreements with banks providing credit for affordable housing small businesses economic development and community service facilities in minority and lowand moderate income neighborhoods in both cities and rural areas 000\n",
      "14.7037258148 \n",
      "\n",
      "earlier this year an article in the wall street journal on the closure of danish meatpacking plant illustrated how fluid labor markets and generous welfare supports produce virtuous cycle 000 000 000 000 000 000 000 000 000 000 000 000 000 000 000 000 000 000 000 000 000 000 000 000 000 000\n",
      "14.514544487 \n",
      "\n",
      "the social and economic environment has enjoyed the creation of sizeable sources of urban employment and the incorporation of women and young workers under the age of thirty five important in terms of the long term sustainability of urban agriculture as well as retirees into the urban agricultural workforce bringing income and health benefits to\n",
      "12.6540174484 \n",
      "\n",
      "apollo analysts argue that three million new jobs could be created by building wind turbines making buildings more energy efficient and designing other kindred projects 000 000 000 000 000 000 000 000 000 000 000 000 000 000 000 000 000 000 000 000 000 000 000 000 000 000 000 000 000 000\n",
      "12.4342098236 \n",
      "\n",
      "these numbers are troubling not because living among poor people is somehow harmful in itself but because concentrated high poverty communities are far more likely to be cut off from quality schools housing health care affordable consumer credit and other pathways out of poverty 000 000 000 000 000 000 000 000 000 000 000\n",
      "12.1158676147 \n",
      "\n",
      "the taft hartley act of 1947 had rolled back union protections the subsequent decline in numbers and power of labor unions would change the course of liberalism as its strongest force for economic populism lost political influence both within the movement and in the wider world 000 000 000 000 000 000 000 000 000\n",
      "12.0631666183 \n",
      "\n",
      "last year unions devoted their energy mainly to the legislative battles for labor law reform stimulus legislation and health care reform 000 000 000 000 000 000 000 000 000 000 000 000 000 000 000 000 000 000 000 000 000 000 000 000 000 000 000 000 000 000 000 000 000 000\n",
      "12.0058021545 \n",
      "\n",
      "the fault line that emerged was over the treatment of carried interest the hedge fund loophole which allowed partners in investment firms to have their compensa tion typically 20 percent cut of profits taxed at the 15 percent capital gains rate instead of the 35 percent top rate for ordinary income 000 000 000 000\n",
      "11.9348478317 \n",
      "\n",
      "by stressing solidarity with middle class interests and values and demonstrating greater willingness to resist labor union pressure and endorse free trade clinton was able to repackage the democratic brand in way that proved to be marginally attractive in 1992 and reasonably popular in succeeding years 000 000 000 000 000 000 000 000 000\n",
      "11.8118152618 \n",
      "\n"
     ]
    }
   ],
   "source": [
    "print('Most liberal sentences:\\n')\n",
    "max_indeces = np.argsort(list(lib_true['pred_prob_lib']))\n",
    "for i in range(10):\n",
    "    index = max_indeces[-i-1]\n",
    "    print(list(lib_true['sentence'])[index])\n",
    "    print(list(lib_true['pred_prob_lib'])[index], '\\n') "
   ]
  },
  {
   "cell_type": "code",
   "execution_count": 44,
   "metadata": {},
   "outputs": [
    {
     "name": "stdout",
     "output_type": "stream",
     "text": [
      "Most conservative sentences:\n",
      "\n",
      "the purchase is stunning in light of the foreknowledge possessed by tsa authorities and their bosses in the obama administration that the scanners simply will not in fact can not detect the weapons whose existence they are using to justify the increase in security and concomitant decrease in personal liberty 000 000 000 000 000\n",
      "18.7625312805 \n",
      "\n",
      "whenever responsible gun owners try to enact laws recognizing that potential victims who are in fear of their lives do not need to do everything in their power to escape from criminals before responding to bodily threat with deadly force anti gunners say that such laws are unnecessary 000 000 000 000 000 000 000\n",
      "15.3394985199 \n",
      "\n",
      "whether reagan himself was the cold war figure of legend may also be questioned his detestation of nuclear war and readiness to abandon the nuclear force at reykjavik suggest that he was not as hawkish as his liberal detractors depicted 000 000 000 000 000 000 000 000 000 000 000 000 000 000 000\n",
      "15.339184761 \n",
      "\n",
      "the fact that fights broke out over the aid packages and that scores of people were killed when the drops fell on their heads or into minefields did not bother kouchner 000 000 000 000 000 000 000 000 000 000 000 000 000 000 000 000 000 000 000 000 000 000 000 000\n",
      "14.3299846649 \n",
      "\n",
      "trouble is not all of these regulations have been finalized so the utilities still take somewhat of financial gamble because past practice mandated issuing nuclear operating license only after reactor is constructed and this is beautiful opportunity for enemies of energy to start tedious legislation to bankrupt the plant 000 000 000 000 000 000\n",
      "14.0712614059 \n",
      "\n",
      "as pope leo xiii noted in the encyclical rerum novarum the marxist ideal of absolute equality results in the levelling down of all to like condition of misery and degradation suppressing economic initiative and the right to private contract argued pope john paul ii puts everyone in position of almost absolute dependence 000 000 000\n",
      "12.5525007248 \n",
      "\n",
      "hoover policies before roosevelt took over were akin to mini new deal but that has prevented democrat statists over the decades from maligning his administration supposed free market failures as the cause of the depression trend that the democrats have already warmed up to use against the bush administration when the obama solutions do work\n",
      "11.9866943359 \n",
      "\n",
      "tocqueville explained however that the danger threatening yet motivating most societies is the miscomprehension of equality resulting in their descent into centralized tyranny 000 000 000 000 000 000 000 000 000 000 000 000 000 000 000 000 000 000 000 000 000 000 000 000 000 000 000 000 000 000 000 000\n",
      "11.9558067322 \n",
      "\n",
      "studies conclusively prove that societal weapons control laws do not result in correspondingly lower violent crime rates cultural values are the determining factor 000 000 000 000 000 000 000 000 000 000 000 000 000 000 000 000 000 000 000 000 000 000 000 000 000 000 000 000 000 000 000 000\n",
      "11.741481781 \n",
      "\n",
      "will be happy to grant chait point when see actual liberals oppose racial and gender preferences and reject racially gerrymandered voting districts or defend universal standards of behavior instead of vilifying conservative social critics for blaming the victim 000 000 000 000 000 000 000 000 000 000 000 000 000 000 000 000 000\n",
      "11.3321590424 \n",
      "\n"
     ]
    }
   ],
   "source": [
    "print('Most conservative sentences:\\n')\n",
    "max_indeces = np.argsort(list(con_true['pred_prob_con']))\n",
    "for i in range(10):\n",
    "    index = max_indeces[-i-1]\n",
    "    print(list(con_true['sentence'])[index])\n",
    "    print(list(con_true['pred_prob_con'])[index], '\\n') "
   ]
  },
  {
   "cell_type": "code",
   "execution_count": 45,
   "metadata": {
    "collapsed": true
   },
   "outputs": [],
   "source": [
    "# Incorrectly predicted sentences with highest probability"
   ]
  },
  {
   "cell_type": "code",
   "execution_count": 112,
   "metadata": {},
   "outputs": [
    {
     "name": "stdout",
     "output_type": "stream",
     "text": [
      "Predicted liberal, but wrong - highest conservative scores:\n",
      "\n",
      "cass sunstein sees in american free speech parallel to the moral and conceptual confusion that leads people to complain that taxes are burden because they take my wealth 000 000 000 000 000 000 000 000 000 000 000 000 000 000 000 000 000 000 000 000 000 000 000 000 000 000 000\n",
      "16.1404056549 \n",
      "\n",
      "the intersection of the ever faster news cycle unprecedented partisan polarization summer vacation schedules and national security threats hardly makes for rational conversation so it should come as little surprise that one of the very first conservative media responses to the coordinated series of detonations that rocked london on the morning of july was hysterical\n",
      "16.003780365 \n",
      "\n",
      "eliminating unneeded weapons systems like the 22 raptor plane the virginia class submarine the dd destroyer and the 22 osprey helicopter could generate more than enough funds to finance needed increases in special forces and peacekeeping missions 000 000 000 000 000 000 000 000 000 000 000 000 000 000 000 000 000 000\n",
      "15.4954471588 \n",
      "\n",
      "by attempting to pin the blame for the attacks of september 11 on the american civil liberties union abortion rights groups pagans gay men and lesbians and federal judges falwell not only exposed himself for what he was hateful divisive mean spirited but he also exposed christian fundamentalism for what it is hateful divisive mean\n",
      "14.917175293 \n",
      "\n",
      "reading between the lines there are also at least two other sources of irritation for jew christianity pragmatic success and its often shameful means of overpowering juda ism are rightly appalling the forced readings of the hebrew bible evident in the new testament along with the centu ries of political oppression and public and private\n",
      "14.0319309235 \n",
      "\n",
      "this is evident in the popular conservative trope they hate us for our freedoms handy phrase that preempts any critical investigation of our actions abroad 000 000 000 000 000 000 000 000 000 000 000 000 000 000 000 000 000 000 000 000 000 000 000 000 000 000 000 000 000 000\n",
      "13.991071701 \n",
      "\n",
      "he angry he gon na cut this country down to size he gon na make it pay for all the multicultural mistakes that it has made its mistreatment of minorities 000 000 000 000 000 000 000 000 000 000 000 000 000 000 000 000 000 000 000 000 000 000 000 000 000\n",
      "13.6223611832 \n",
      "\n",
      "criminalizing abortion would not for instance address the needs of women who seek an abortion because they lacked contraception or were raped or are living in abusive relationship or will have to drop out of work or school to raise child alone or are stretched so thin that they can not emotionally or financially provide\n",
      "13.1450519562 \n",
      "\n",
      "at that time franklin roosevelt corrected the faults in the economy and created the social security act to build lifeboats for americans drowned by the failure of the marketplace 000 000 000 000 000 000 000 000 000 000 000 000 000 000 000 000 000 000 000 000 000 000 000 000 000 000\n",
      "12.5267124176 \n",
      "\n",
      "we should take confidence in this biological singularity and never betray it by worrying over whether the stockholders will like what we say or fearing that our analysis will not please faculty lounges at harvard or chicago or stanford or fretting that our opinion will fail to find favor with the establishment whatever it may\n",
      "12.3115682602 \n",
      "\n"
     ]
    }
   ],
   "source": [
    "print('Predicted liberal, but wrong - highest conservative scores:\\n')\n",
    "max_indeces = np.argsort(list(lib_false['pred_prob_con']))\n",
    "for i in range(10):\n",
    "    index = max_indeces[-i-1]\n",
    "    print(list(lib_false['sentence'])[index])\n",
    "    print(list(lib_false['pred_prob_con'])[index], '\\n') "
   ]
  },
  {
   "cell_type": "code",
   "execution_count": 113,
   "metadata": {},
   "outputs": [
    {
     "name": "stdout",
     "output_type": "stream",
     "text": [
      "Predicted conservative, but wrong - highest liberal scores:\n",
      "\n",
      "assuming this trend continues new model unions could very well displace for profit corporations as the dominant entities in the economy thanks to their loyal pools of talent 000 000 000 000 000 000 000 000 000 000 000 000 000 000 000 000 000 000 000 000 000 000 000 000 000 000 000\n",
      "16.0889225006 \n",
      "\n",
      "romney supported the tarp bank bailout in 2008 bailout that sparked the tea party movement ire at the use of taxpayers money to bail out few super rich banks that lost risky gambles on real estate market bubble 000 000 000 000 000 000 000 000 000 000 000 000 000 000 000 000 000\n",
      "14.37458992 \n",
      "\n",
      "the united mine workers saw the agreement as the kiss of death for the coal industry and other industrial unions argued that kyoto would encourage more manufacturers to make the move to china which was exempt from the agreement 000 000 000 000 000 000 000 000 000 000 000 000 000 000 000 000\n",
      "13.1895456314 \n",
      "\n",
      "the popular fallacy of the helpless individual worker bargaining with the mighty corporation has led to the acceptance of labor union coercion which raises wages in certain areas above the rates that would exist in free and open market for labor 000 000 000 000 000 000 000 000 000 000 000 000 000 000\n",
      "12.4351835251 \n",
      "\n",
      "the living wage movement success has led to other local government tools to induce private companies to create middle class jobs and upgrade low wage work 000 000 000 000 000 000 000 000 000 000 000 000 000 000 000 000 000 000 000 000 000 000 000 000 000 000 000 000 000\n",
      "12.3498468399 \n",
      "\n",
      "something needs to be done but eliminating private profit driven insurance companies and turning over the entire industry to the bloated ineffective government to provide free health care is not the answer as michael moore argued in his anti free market hatchet job movie sicko 000 000 000 000 000 000 000 000 000 000\n",
      "11.3199586868 \n",
      "\n",
      "high on the list of the latter would have to include the elimination of tax deductions for health care and pension contributions by workers virtually ending the mortgage interest and state income tax deductions new taxation on medicare benefits and ending most of the earned income tax deduction for the working poor 000 000 000\n",
      "10.9591808319 \n",
      "\n",
      "thus financial system that offers bailouts to failing corporations encourages other lenders and borrowers to make risky investments and engage in unsound unwise business practices 000 000 000 000 000 000 000 000 000 000 000 000 000 000 000 000 000 000 000 000 000 000 000 000 000 000 000 000 000 000\n",
      "10.5230360031 \n",
      "\n",
      "you can quite reasonably argue that the distributive gains outweigh the employment losses especially in the short run and many economists and others make exactly this argument 000 000 000 000 000 000 000 000 000 000 000 000 000 000 000 000 000 000 000 000 000 000 000 000 000 000 000 000\n",
      "10.2785348892 \n",
      "\n",
      "however the labor theory of value was used by karl marx and other communist and socialist economists to justify central planning since if value was strict consequence of labor invested then correct valuations could be determined by enlightened central planners 000 000 000 000 000 000 000 000 000 000 000 000 000 000 000\n",
      "9.71512699127 \n",
      "\n"
     ]
    }
   ],
   "source": [
    "print('Predicted conservative, but wrong - highest liberal scores:\\n')\n",
    "max_indeces = np.argsort(list(con_false['pred_prob_lib']))\n",
    "for i in range(10):\n",
    "    index = max_indeces[-i-1]\n",
    "    print(list(con_false['sentence'])[index])\n",
    "    print(list(con_false['pred_prob_lib'])[index], '\\n') "
   ]
  },
  {
   "cell_type": "code",
   "execution_count": null,
   "metadata": {
    "collapsed": true
   },
   "outputs": [],
   "source": []
  }
 ],
 "metadata": {
  "kernelspec": {
   "display_name": "Python 3",
   "language": "python",
   "name": "python3"
  },
  "language_info": {
   "codemirror_mode": {
    "name": "ipython",
    "version": 3
   },
   "file_extension": ".py",
   "mimetype": "text/x-python",
   "name": "python",
   "nbconvert_exporter": "python",
   "pygments_lexer": "ipython3",
   "version": "3.6.3"
  }
 },
 "nbformat": 4,
 "nbformat_minor": 2
}
