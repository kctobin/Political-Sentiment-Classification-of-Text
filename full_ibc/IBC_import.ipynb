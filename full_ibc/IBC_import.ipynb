{
 "cells": [
  {
   "cell_type": "code",
   "execution_count": 3,
   "metadata": {},
   "outputs": [],
   "source": [
    "import re\n",
    "import numpy as np\n",
    "from common import utils\n",
    "from sklearn.linear_model import LogisticRegression\n",
    "from sklearn.naive_bayes import MultinomialNB\n",
    "from sklearn.model_selection import train_test_split\n",
    "from sklearn.metrics import classification_report\n",
    "from sklearn.model_selection import GridSearchCV\n",
    "from sklearn.feature_extraction.text import *"
   ]
  },
  {
   "cell_type": "code",
   "execution_count": 2,
   "metadata": {},
   "outputs": [
    {
     "name": "stdout",
     "output_type": "stream",
     "text": [
      "Liberal examples (out of  2025  sentences): \n",
      "Forcing middle-class workers to bear a greater share of the cost of government weakens their support for needed investments and stirs resentment toward those who depend on public services the most .\n",
      "Because it would not be worthwhile to bring a case for $ 30.22 , the arbitration clause would , as a practical matter , deny the Concepcions any relief and , more important , eliminate a class action that might punish AT&T for its pattern of fraudulent behavior .\n",
      "Indeed , Lind argues that high profits and high wages reinforce each other because workers then have the wherewithal to buy the products they are making .\n",
      "In fairness , it should be noted that he devotes an entire chapter to New York Times political columnist Maureen Dowd , a liberal who makes much of the outsized rivalries , jealousies , and personalities that dominate American politics .\n",
      "Psychological tactics are social control techniques that operate at the level of the mind , with the goal of creating fear and making it difficult for protesters to successfully mobilize .\n",
      "\n",
      "Conservative examples (out of  1701  sentences): \n",
      "Gore is getting rich from environmentalism , not just by being paid a whopping $ 175,000 per speech but by using political pressure to force government policy in a direction that benefits his business interests .\n",
      "The Federal Housing Finance Regulatory Reform Act of 2008 should have been an easy sell , since it purportedly aimed to assist homeowners , a more popular ( or at least more sentimentalized ) subset of Americans than greedy Wall Street tycoons .\n",
      "Yet for all its submerged class snobbery and anti-intellectualism disguised as cool detachment , the ultimate failure of the Washington media lies less with the personal failings of its elite members than its structural inadequacy .\n",
      "Rumsfeld then went on to discuss how China 's lack of transparency with respect to its defense expenditures and activities raises doubts in the region about China 's intentions .\n",
      "You never hear from the co-conspirators of the left-wing media how many innocent victims are dead , raped , and mutilated as a direct result of these left-wing policies and insane anti-gun laws .\n",
      "\n",
      "Neutral examples (out of  600  sentences): \n",
      "In this country , the beneficiaries of Apple 's success are , first , the designers , who have done wonders working with Steve Jobs to produce products that are beautiful and effective .\n",
      "The problem with this argument is that China reports about 68 percent of the world 's aquaculture production , and the FAO , which has been burned by inflated Chinese statistics before , expresses doubt about its stated production and growth rates . ''\n",
      "The soil exhaustion caused by the plantation system , as well as the relatively low productivity of forced labor , compelled planters to seek new lands to exploit .\n",
      "The same complexity that leads to such malfunctions also creates vulnerabilities that human agents can use to make computer systems operate in unintended ways .\n",
      "Threads of new awkwardness stretch out between them , and nature itself winks behind their backs and plays nasty tricks on them , scattering yellow clods of asters and groundsel , blanketing purple clover and pink flax , erecting stalks of huge -- but smelly -- purple arum flowers , sprinkling red buttercups , and hanging baby oranges and lemons on the trees around them .\n",
      "\n",
      "Phrase labels for one tree: \n",
      "Liberal :  Forcing middle-class workers to bear a greater share of the cost of government weakens their support for needed investments and stirs resentment toward those who depend on public services the most .\n",
      "Liberal :  weakens their support for needed investments and stirs resentment toward those who depend on public services the most\n",
      "Liberal :  stirs resentment toward those who depend on public services the most\n"
     ]
    }
   ],
   "source": [
    "#from author who provided us with dataset: import data, show some examples\n",
    "import _pickle as cPickle\n",
    "\n",
    "if __name__ == '__main__':\n",
    "    [lib, con, neutral] = cPickle.load(open('ibcData.pkl', 'rb'))\n",
    "\n",
    "    # how to access sentence text\n",
    "    print('Liberal examples (out of ', len(lib), ' sentences): ')\n",
    "    for tree in lib[0:5]:\n",
    "        print(tree.get_words())\n",
    "\n",
    "    print('\\nConservative examples (out of ', len(con), ' sentences): ')\n",
    "    for tree in con[0:5]:\n",
    "        print(tree.get_words())\n",
    "\n",
    "    print('\\nNeutral examples (out of ', len(neutral), ' sentences): ')\n",
    "    for tree in neutral[0:5]:\n",
    "        print(tree.get_words())\n",
    "\n",
    "    # how to access phrase labels for a particular tree\n",
    "    ex_tree = lib[0]\n",
    "\n",
    "    print('\\nPhrase labels for one tree: ')\n",
    "\n",
    "    # see treeUtil.py for the tree class definition\n",
    "    for node in ex_tree:\n",
    "\n",
    "        # remember, only certain nodes have labels (see paper for details)\n",
    "        if hasattr(node, 'label'):\n",
    "            print(node.label, ': ', node.get_words())"
   ]
  },
  {
   "cell_type": "code",
   "execution_count": 3,
   "metadata": {
    "collapsed": true
   },
   "outputs": [],
   "source": [
    "#two arrays - sentences and lib/con/neu labels\n",
    "\n",
    "sentences = []\n",
    "labels = []\n",
    "\n",
    "for i in range(len(lib)):\n",
    "    sentences.append(lib[i].get_words())\n",
    "    labels.append('liberal')\n",
    "    \n",
    "for i in range(len(con)):\n",
    "    sentences.append(con[i].get_words())\n",
    "    labels.append('conservative')\n",
    "    \n",
    "for i in range(len(neutral)):\n",
    "    sentences.append(neutral[i].get_words())\n",
    "    labels.append('neutral')"
   ]
  },
  {
   "cell_type": "code",
   "execution_count": 4,
   "metadata": {},
   "outputs": [
    {
     "name": "stdout",
     "output_type": "stream",
     "text": [
      "3244\n",
      "1082\n"
     ]
    }
   ],
   "source": [
    "train_sentences, test_sentences, train_labels, test_labels = train_test_split(sentences, labels, random_state=2)\n",
    "print(len(train_sentences))\n",
    "print(len(test_sentences))"
   ]
  },
  {
   "cell_type": "code",
   "execution_count": 5,
   "metadata": {
    "collapsed": true
   },
   "outputs": [],
   "source": [
    "cv = CountVectorizer(min_df=10, ngram_range=(0,3))\n",
    "cv_train_sentences = cv.fit_transform(train_sentences)\n",
    "cv_test_sentences = cv.transform(test_sentences)"
   ]
  },
  {
   "cell_type": "code",
   "execution_count": 6,
   "metadata": {
    "collapsed": true
   },
   "outputs": [],
   "source": [
    "tv = TfidfVectorizer()\n",
    "tv_train_sentences = tv.fit_transform(train_sentences)\n",
    "tv_test_sentences = tv.transform(test_sentences)"
   ]
  },
  {
   "cell_type": "code",
   "execution_count": 7,
   "metadata": {
    "collapsed": true
   },
   "outputs": [],
   "source": [
    "lr = LogisticRegression()\n",
    "lr.fit(cv_train_sentences, train_labels)\n",
    "preds = lr.predict(cv_test_sentences)"
   ]
  },
  {
   "cell_type": "code",
   "execution_count": 8,
   "metadata": {
    "collapsed": true
   },
   "outputs": [],
   "source": [
    "lr2 = LogisticRegression()\n",
    "lr2.fit(tv_train_sentences, train_labels)\n",
    "preds2 = lr2.predict(tv_test_sentences)"
   ]
  },
  {
   "cell_type": "code",
   "execution_count": 9,
   "metadata": {
    "collapsed": true
   },
   "outputs": [],
   "source": [
    "mnb = MultinomialNB(.001)\n",
    "mnb.fit(cv_train_sentences, train_labels)\n",
    "preds3 = mnb.predict(cv_test_sentences)"
   ]
  },
  {
   "cell_type": "code",
   "execution_count": 10,
   "metadata": {
    "collapsed": true
   },
   "outputs": [],
   "source": [
    "mnb2 = MultinomialNB(.001)\n",
    "mnb2.fit(tv_train_sentences, train_labels)\n",
    "preds4 = mnb2.predict(tv_test_sentences)"
   ]
  },
  {
   "cell_type": "code",
   "execution_count": 13,
   "metadata": {},
   "outputs": [
    {
     "name": "stdout",
     "output_type": "stream",
     "text": [
      "{'alpha': 1}\n",
      "{'C': 1}\n"
     ]
    }
   ],
   "source": [
    "parameters = {'alpha':[.0001,.001,.01,.1,1,10,100]}\n",
    "parameters2 = {'C':[1, 10, 100]}\n",
    "mnb = MultinomialNB()\n",
    "lr = LogisticRegression()\n",
    "gs_mnb = GridSearchCV(mnb, parameters)\n",
    "gs_mnb.fit(cv_train_sentences, train_labels)\n",
    "#print(gs_mnb.cv_results_)\n",
    "print(gs_mnb.best_params_)\n",
    "gs_lr = GridSearchCV(lr, parameters2)\n",
    "gs_lr.fit(cv_train_sentences, train_labels)\n",
    "#print(gs_lr.cv_results_)\n",
    "print(gs_lr.best_params_)"
   ]
  },
  {
   "cell_type": "code",
   "execution_count": 12,
   "metadata": {},
   "outputs": [
    {
     "name": "stdout",
     "output_type": "stream",
     "text": [
      "              precision    recall  f1-score   support\n",
      "\n",
      "conservative       0.51      0.54      0.52       424\n",
      "     liberal       0.61      0.61      0.61       526\n",
      "     neutral       0.23      0.18      0.20       132\n",
      "\n",
      " avg / total       0.52      0.53      0.52      1082\n",
      "\n",
      "              precision    recall  f1-score   support\n",
      "\n",
      "conservative       0.56      0.53      0.55       424\n",
      "     liberal       0.59      0.76      0.66       526\n",
      "     neutral       0.33      0.01      0.01       132\n",
      "\n",
      " avg / total       0.55      0.58      0.54      1082\n",
      "\n",
      "              precision    recall  f1-score   support\n",
      "\n",
      "conservative       0.53      0.55      0.54       424\n",
      "     liberal       0.64      0.63      0.63       526\n",
      "     neutral       0.30      0.26      0.28       132\n",
      "\n",
      " avg / total       0.55      0.56      0.55      1082\n",
      "\n",
      "              precision    recall  f1-score   support\n",
      "\n",
      "conservative       0.51      0.50      0.51       424\n",
      "     liberal       0.57      0.68      0.62       526\n",
      "     neutral       0.50      0.13      0.20       132\n",
      "\n",
      " avg / total       0.54      0.55      0.53      1082\n",
      "\n"
     ]
    }
   ],
   "source": [
    "print(classification_report(test_labels, preds))\n",
    "print(classification_report(test_labels, preds2))\n",
    "print(classification_report(test_labels, preds3))\n",
    "print(classification_report(test_labels, preds4))"
   ]
  },
  {
   "cell_type": "code",
   "execution_count": 8,
   "metadata": {},
   "outputs": [
    {
     "name": "stdout",
     "output_type": "stream",
     "text": [
      "Top 10 features for conservative:\n",
      "liberal\n",
      "payments\n",
      "we have\n",
      "morality\n",
      "businesses\n",
      "real\n",
      "agencies\n",
      "illegal\n",
      "nuclear\n",
      "liberals\n",
      "\n",
      "Top 10 features for liberal:\n",
      "corporations\n",
      "republican\n",
      "bottom\n",
      "ecological\n",
      "to protect\n",
      "ignore\n",
      "bankers\n",
      "consumer\n",
      "way that\n",
      "have the\n",
      "\n",
      "Top 10 features for neutral:\n",
      "hostile\n",
      "drive\n",
      "happy\n",
      "for an\n",
      "nature\n",
      "fix\n",
      "theory\n",
      "secure\n",
      "require\n",
      "found\n"
     ]
    }
   ],
   "source": [
    "cv_featurenames = cv.get_feature_names()\n",
    "\n",
    "largestWeightedWords_dem = []\n",
    "largestWeightedWords_rep = []\n",
    "\n",
    "weightIndeces_con = np.argsort(lr.coef_[0])[-10:]\n",
    "weightIndeces_lib = np.argsort(lr.coef_[1])[-10:]\n",
    "weightIndeces_neu = np.argsort(lr.coef_[2])[-10:]\n",
    "\n",
    "print('Top 10 features for conservative:')\n",
    "for index in weightIndeces_con: \n",
    "    print(cv_featurenames[index])\n",
    "\n",
    "print('\\nTop 10 features for liberal:')\n",
    "for index in weightIndeces_lib: \n",
    "    print(cv_featurenames[index])\n",
    "    \n",
    "print('\\nTop 10 features for neutral:')\n",
    "for index in weightIndeces_neu: \n",
    "    print(cv_featurenames[index])"
   ]
  },
  {
   "cell_type": "code",
   "execution_count": 11,
   "metadata": {},
   "outputs": [
    {
     "name": "stdout",
     "output_type": "stream",
     "text": [
      "And while multiple embryo transfer is no more likely to result in a baby for women under 36 -- it 's just more likely to result in multiples -- for older women it raises what can be pretty bleak odds , making the client happy and bolstering the clinic 's success rates .\n",
      "  (0, 0)\t47\n",
      "  (0, 105)\t2\n",
      "  (0, 148)\t1\n",
      "  (0, 236)\t1\n",
      "  (0, 331)\t1\n",
      "  (0, 332)\t1\n",
      "  (0, 767)\t2\n",
      "  (0, 894)\t1\n",
      "  (0, 988)\t2\n",
      "  (0, 1076)\t1\n",
      "  (0, 1080)\t1\n",
      "  (0, 1088)\t2\n",
      "  (0, 1112)\t1\n",
      "  (0, 1184)\t2\n",
      "  (0, 1185)\t2\n",
      "  (0, 1232)\t1\n",
      "  (0, 1293)\t2\n",
      "  (0, 1296)\t2\n",
      "  (0, 1340)\t1\n",
      "  (0, 1429)\t1\n",
      "  (0, 1580)\t1\n",
      "  (0, 1661)\t1\n",
      "  (0, 1725)\t2\n",
      "  (0, 1726)\t2\n",
      "  (0, 1899)\t1\n",
      "  (0, 1991)\t2\n",
      "  (0, 2187)\t2\n",
      "  (0, 2289)\t1\n",
      "  (0, 2400)\t1\n",
      "  (0, 2419)\t1\n",
      "  (0, 2452)\t2\n"
     ]
    }
   ],
   "source": [
    "print(train_sentences[1])\n",
    "print(cv_train_sentences[1])"
   ]
  },
  {
   "cell_type": "code",
   "execution_count": null,
   "metadata": {
    "collapsed": true
   },
   "outputs": [],
   "source": []
  }
 ],
 "metadata": {
  "kernelspec": {
   "display_name": "Python 3",
   "language": "python",
   "name": "python3"
  },
  "language_info": {
   "codemirror_mode": {
    "name": "ipython",
    "version": 3
   },
   "file_extension": ".py",
   "mimetype": "text/x-python",
   "name": "python",
   "nbconvert_exporter": "python",
   "pygments_lexer": "ipython3",
   "version": "3.6.3"
  }
 },
 "nbformat": 4,
 "nbformat_minor": 1
}
