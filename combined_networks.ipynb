{
 "cells": [
  {
   "cell_type": "code",
   "execution_count": 1,
   "metadata": {},
   "outputs": [
    {
     "name": "stderr",
     "output_type": "stream",
     "text": [
      "/home/samird121/anaconda3/lib/python3.6/importlib/_bootstrap.py:219: RuntimeWarning: compiletime version 3.5 of module 'tensorflow.python.framework.fast_tensor_util' does not match runtime version 3.6\n",
      "  return f(*args, **kwds)\n"
     ]
    }
   ],
   "source": [
    "import os, sys, re, json, time\n",
    "from importlib import reload\n",
    "import nltk\n",
    "import pandas as pd\n",
    "import numpy as np\n",
    "import matplotlib.pyplot as plt\n",
    "from sklearn.feature_extraction.text import *\n",
    "from sklearn.linear_model import LogisticRegression\n",
    "from sklearn import metrics\n",
    "import tensorflow as tf\n",
    "from IPython.display import display, clear_output "
   ]
  },
  {
   "cell_type": "markdown",
   "metadata": {
    "collapsed": true
   },
   "source": [
    "# Implement a Weak Annotator"
   ]
  },
  {
   "cell_type": "markdown",
   "metadata": {},
   "source": [
    "### Read the All the News Data"
   ]
  },
  {
   "cell_type": "code",
   "execution_count": 2,
   "metadata": {
    "collapsed": true
   },
   "outputs": [],
   "source": [
    "articles_1=pd.read_csv('/home/kctobin/.kaggle/datasets/snapcrack/all-the-news/articles1.csv')\n",
    "articles_2=pd.read_csv('/home/kctobin/.kaggle/datasets/snapcrack/all-the-news/articles2.csv')\n",
    "articles_3=pd.read_csv('/home/kctobin/.kaggle/datasets/snapcrack/all-the-news/articles3.csv')"
   ]
  },
  {
   "cell_type": "code",
   "execution_count": 3,
   "metadata": {},
   "outputs": [
    {
     "data": {
      "text/plain": [
       "array(['Atlantic', 'Breitbart', 'Business Insider', 'Buzzfeed News', 'CNN',\n",
       "       'Fox News', 'Guardian', 'NPR', 'National Review', 'New York Post',\n",
       "       'New York Times', 'Reuters', 'Talking Points Memo', 'Vox',\n",
       "       'Washington Post'],\n",
       "      dtype='<U19')"
      ]
     },
     "execution_count": 3,
     "metadata": {},
     "output_type": "execute_result"
    }
   ],
   "source": [
    "all_articles=pd.concat([articles_1,articles_2,articles_3],ignore_index=True)\n",
    "np.unique(all_articles['publication'].tolist())"
   ]
  },
  {
   "cell_type": "markdown",
   "metadata": {},
   "source": [
    "### Create Training and Dev Sets"
   ]
  },
  {
   "cell_type": "code",
   "execution_count": 4,
   "metadata": {},
   "outputs": [
    {
     "name": "stdout",
     "output_type": "stream",
     "text": [
      "(4800,)\n",
      "(4800,)\n",
      "(1200,)\n",
      "(1200,)\n"
     ]
    }
   ],
   "source": [
    "breitbart=all_articles.loc[all_articles['publication']=='Breitbart'].iloc[0:1000]\n",
    "nat_review=all_articles.loc[all_articles['publication']=='National Review'].iloc[0:1000]\n",
    "cnn=all_articles.loc[all_articles['publication']=='CNN'].iloc[0:1000]\n",
    "guardian=all_articles.loc[all_articles['publication']=='Guardian'].iloc[0:1000]\n",
    "reuters=all_articles.loc[all_articles['publication']=='Reuters'].iloc[0:1000]\n",
    "bi=all_articles.loc[all_articles['publication']=='Business Insider'].iloc[0:1000]\n",
    "full=pd.concat([breitbart,nat_review,cnn,guardian,reuters,bi],ignore_index=True)\n",
    "shuffle=np.random.permutation(np.arange(full.shape[0]))\n",
    "values_dict={'CNN': 0,'Guardian':0,'Reuters':1,'Business Insider':1,'Breitbart':2,'National Review':2}\n",
    "full['label']=full['publication'].map(values_dict)\n",
    "\n",
    "X,y=full['content'].iloc[shuffle].as_matrix(),full['label'].iloc[shuffle].as_matrix()\n",
    "train_length=int(shuffle.shape[0]*0.8)\n",
    "X_train,y_train=X[:train_length],y[:train_length]\n",
    "X_dev,y_dev=X[train_length:],y[train_length:]\n",
    "\n",
    "print(X_train.shape)\n",
    "print(y_train.shape)\n",
    "print(X_dev.shape)\n",
    "print(y_dev.shape)"
   ]
  },
  {
   "cell_type": "markdown",
   "metadata": {},
   "source": [
    "### Fit Count Vectorizer with bigrams"
   ]
  },
  {
   "cell_type": "code",
   "execution_count": 5,
   "metadata": {
    "collapsed": true
   },
   "outputs": [],
   "source": [
    "vec=CountVectorizer(ngram_range=(2,2))\n",
    "#vec=TfidfVectorizer(ngram_range=(2,2))\n",
    "feature_mat=vec.fit_transform(X_train)\n",
    "dev_mat=vec.transform(X_dev)"
   ]
  },
  {
   "cell_type": "markdown",
   "metadata": {},
   "source": [
    "### train logistic regression model"
   ]
  },
  {
   "cell_type": "code",
   "execution_count": 6,
   "metadata": {},
   "outputs": [
    {
     "name": "stdout",
     "output_type": "stream",
     "text": [
      "0.836666666667\n"
     ]
    }
   ],
   "source": [
    "from sklearn import metrics\n",
    "Reg=LogisticRegression(penalty='l2')\n",
    "Reg.fit(feature_mat,y_train)\n",
    "weights=Reg.coef_\n",
    "features=vec.get_feature_names()\n",
    "preds=Reg.predict(dev_mat)\n",
    "f1=metrics.f1_score(y_dev,preds,average='micro')\n",
    "print(f1)"
   ]
  },
  {
   "cell_type": "markdown",
   "metadata": {},
   "source": [
    "### Process IBC Frame"
   ]
  },
  {
   "cell_type": "code",
   "execution_count": 2,
   "metadata": {
    "collapsed": true
   },
   "outputs": [],
   "source": [
    "ibc_frame=pd.read_csv('full_ibc_sentences.csv')\n",
    "ibc_values_dict={'Liberal':0,'Neutral':1,'Conservative':2}\n",
    "ibc_frame['class']=ibc_frame['label'].map(ibc_values_dict)\n",
    "sentences=ibc_frame['sentence'].as_matrix()\n",
    "labels=ibc_frame['class'].as_matrix()"
   ]
  },
  {
   "cell_type": "markdown",
   "metadata": {},
   "source": [
    "### Annotate IBC Sentences"
   ]
  },
  {
   "cell_type": "code",
   "execution_count": 6,
   "metadata": {},
   "outputs": [
    {
     "ename": "NameError",
     "evalue": "name 'vec' is not defined",
     "output_type": "error",
     "traceback": [
      "\u001b[0;31m---------------------------------------------------------------------------\u001b[0m",
      "\u001b[0;31mNameError\u001b[0m                                 Traceback (most recent call last)",
      "\u001b[0;32m<ipython-input-6-75835dbbe179>\u001b[0m in \u001b[0;36m<module>\u001b[0;34m()\u001b[0m\n\u001b[0;32m----> 1\u001b[0;31m \u001b[0mtest_mat\u001b[0m\u001b[0;34m=\u001b[0m\u001b[0mvec\u001b[0m\u001b[0;34m.\u001b[0m\u001b[0mtransform\u001b[0m\u001b[0;34m(\u001b[0m\u001b[0msentences\u001b[0m\u001b[0;34m)\u001b[0m\u001b[0;34m\u001b[0m\u001b[0m\n\u001b[0m\u001b[1;32m      2\u001b[0m \u001b[0mweak_annotation\u001b[0m\u001b[0;34m=\u001b[0m\u001b[0mReg\u001b[0m\u001b[0;34m.\u001b[0m\u001b[0mpredict_proba\u001b[0m\u001b[0;34m(\u001b[0m\u001b[0mtest_mat\u001b[0m\u001b[0;34m)\u001b[0m\u001b[0;34m\u001b[0m\u001b[0m\n\u001b[1;32m      3\u001b[0m \u001b[0mprint\u001b[0m\u001b[0;34m(\u001b[0m\u001b[0mweak_annotation\u001b[0m\u001b[0;34m.\u001b[0m\u001b[0mshape\u001b[0m\u001b[0;34m)\u001b[0m\u001b[0;34m\u001b[0m\u001b[0m\n\u001b[1;32m      4\u001b[0m \u001b[0mprint\u001b[0m\u001b[0;34m(\u001b[0m\u001b[0mweak_annotation\u001b[0m\u001b[0;34m[\u001b[0m\u001b[0;36m1\u001b[0m\u001b[0;34m]\u001b[0m\u001b[0;34m)\u001b[0m\u001b[0;34m\u001b[0m\u001b[0m\n",
      "\u001b[0;31mNameError\u001b[0m: name 'vec' is not defined"
     ]
    }
   ],
   "source": [
    "test_mat=vec.transform(sentences)\n",
    "weak_annotation=Reg.predict_proba(test_mat)\n",
    "print(weak_annotation.shape)\n",
    "print(weak_annotation[1])"
   ]
  },
  {
   "cell_type": "markdown",
   "metadata": {},
   "source": [
    "## Using Reddit post weak labels"
   ]
  },
  {
   "cell_type": "code",
   "execution_count": 3,
   "metadata": {
    "scrolled": true
   },
   "outputs": [
    {
     "name": "stdout",
     "output_type": "stream",
     "text": [
      "   Unnamed: 0    label                                           sentence  \\\n",
      "0           0  Liberal  Forcing middle-class workers to bear a greater...   \n",
      "1           1  Liberal  Because it would not be worthwhile to bring a ...   \n",
      "2           2  Liberal  Indeed , Lind argues that high profits and hig...   \n",
      "3           3  Liberal  In fairness , it should be noted that he devot...   \n",
      "4           4  Liberal  Psychological tactics are social control techn...   \n",
      "\n",
      "   con_score  lib_score  neu_score prediction  \n",
      "0   0.220813   0.765276   0.013911    liberal  \n",
      "1   0.176175   0.757604   0.066221    liberal  \n",
      "2   0.300508   0.567023   0.132469    liberal  \n",
      "3   0.373750   0.568598   0.057652    liberal  \n",
      "4   0.076549   0.807958   0.115493    liberal  \n",
      "4326\n",
      "[0.17617473418035776, 0.7576040325326956, 0.06622123328694668]\n"
     ]
    }
   ],
   "source": [
    "reddit_labels = pd.read_csv('./reddit_post_data/IBC_weak_labels.csv')\n",
    "print(reddit_labels.head())\n",
    "weak_annotation = [[row['con_score'], row['lib_score'], row['neu_score']] for index, row in reddit_labels.iterrows()]\n",
    "print(len(weak_annotation))\n",
    "print(weak_annotation[1])"
   ]
  },
  {
   "cell_type": "markdown",
   "metadata": {},
   "source": [
    "# Calculate Confidence Scores"
   ]
  },
  {
   "cell_type": "code",
   "execution_count": 4,
   "metadata": {},
   "outputs": [
    {
     "name": "stdout",
     "output_type": "stream",
     "text": [
      "[1 0 0]\n",
      "0.45078315612\n",
      "(4326,)\n"
     ]
    }
   ],
   "source": [
    "true_labels=pd.get_dummies(ibc_frame['class']).as_matrix()\n",
    "print(true_labels[1])\n",
    "#confidence_score=1-(float(1/true_labels.shape[1])*np.linalg.norm(true_labels-weak_annotation,axis=1))\n",
    "confidence_score=1-(float(1/true_labels.shape[1])*np.sum(np.abs(true_labels-weak_annotation),axis=1))\n",
    "ibc_frame['score']=pd.Series(confidence_score)\n",
    "print(confidence_score[1])\n",
    "print(confidence_score.shape)"
   ]
  },
  {
   "cell_type": "code",
   "execution_count": 5,
   "metadata": {},
   "outputs": [
    {
     "name": "stdout",
     "output_type": "stream",
     "text": [
      "[0.17617473418035776, 0.7576040325326956, 0.06622123328694668]\n",
      "[1 0 0]\n",
      "[ 0.82382527 -0.75760403 -0.06622123]\n",
      "0.45078315612\n"
     ]
    }
   ],
   "source": [
    "print(weak_annotation[1])\n",
    "print(true_labels[1])\n",
    "print(true_labels[1]-weak_annotation[1])\n",
    "print(1-(np.sum(np.abs(true_labels[1]-weak_annotation[1]))/3.0))"
   ]
  },
  {
   "cell_type": "code",
   "execution_count": 6,
   "metadata": {},
   "outputs": [
    {
     "data": {
      "text/html": [
       "<div>\n",
       "<style>\n",
       "    .dataframe thead tr:only-child th {\n",
       "        text-align: right;\n",
       "    }\n",
       "\n",
       "    .dataframe thead th {\n",
       "        text-align: left;\n",
       "    }\n",
       "\n",
       "    .dataframe tbody tr th {\n",
       "        vertical-align: top;\n",
       "    }\n",
       "</style>\n",
       "<table border=\"1\" class=\"dataframe\">\n",
       "  <thead>\n",
       "    <tr style=\"text-align: right;\">\n",
       "      <th></th>\n",
       "      <th>label</th>\n",
       "      <th>sentence</th>\n",
       "      <th>class</th>\n",
       "      <th>score</th>\n",
       "    </tr>\n",
       "  </thead>\n",
       "  <tbody>\n",
       "    <tr>\n",
       "      <th>0</th>\n",
       "      <td>Liberal</td>\n",
       "      <td>Forcing middle-class workers to bear a greater...</td>\n",
       "      <td>0</td>\n",
       "      <td>0.480542</td>\n",
       "    </tr>\n",
       "    <tr>\n",
       "      <th>1</th>\n",
       "      <td>Liberal</td>\n",
       "      <td>Because it would not be worthwhile to bring a ...</td>\n",
       "      <td>0</td>\n",
       "      <td>0.450783</td>\n",
       "    </tr>\n",
       "    <tr>\n",
       "      <th>2</th>\n",
       "      <td>Liberal</td>\n",
       "      <td>Indeed , Lind argues that high profits and hig...</td>\n",
       "      <td>0</td>\n",
       "      <td>0.533672</td>\n",
       "    </tr>\n",
       "    <tr>\n",
       "      <th>3</th>\n",
       "      <td>Liberal</td>\n",
       "      <td>In fairness , it should be noted that he devot...</td>\n",
       "      <td>0</td>\n",
       "      <td>0.582500</td>\n",
       "    </tr>\n",
       "    <tr>\n",
       "      <th>4</th>\n",
       "      <td>Liberal</td>\n",
       "      <td>Psychological tactics are social control techn...</td>\n",
       "      <td>0</td>\n",
       "      <td>0.384366</td>\n",
       "    </tr>\n",
       "    <tr>\n",
       "      <th>5</th>\n",
       "      <td>Liberal</td>\n",
       "      <td>The uncontrolled profit motive is destroying h...</td>\n",
       "      <td>0</td>\n",
       "      <td>0.700614</td>\n",
       "    </tr>\n",
       "    <tr>\n",
       "      <th>6</th>\n",
       "      <td>Liberal</td>\n",
       "      <td>Organizations representing the religious right...</td>\n",
       "      <td>0</td>\n",
       "      <td>0.468673</td>\n",
       "    </tr>\n",
       "    <tr>\n",
       "      <th>7</th>\n",
       "      <td>Liberal</td>\n",
       "      <td>A market based on greed and fear has tugged on...</td>\n",
       "      <td>0</td>\n",
       "      <td>0.666560</td>\n",
       "    </tr>\n",
       "    <tr>\n",
       "      <th>8</th>\n",
       "      <td>Liberal</td>\n",
       "      <td>THE CONSERVATIVE MOVEMENT IS ROOTED IN A COHER...</td>\n",
       "      <td>0</td>\n",
       "      <td>0.736430</td>\n",
       "    </tr>\n",
       "    <tr>\n",
       "      <th>9</th>\n",
       "      <td>Liberal</td>\n",
       "      <td>By eliminating the private insurer , you could...</td>\n",
       "      <td>0</td>\n",
       "      <td>0.504475</td>\n",
       "    </tr>\n",
       "    <tr>\n",
       "      <th>10</th>\n",
       "      <td>Liberal</td>\n",
       "      <td>The additional schooling foisted upon one grou...</td>\n",
       "      <td>0</td>\n",
       "      <td>0.671827</td>\n",
       "    </tr>\n",
       "    <tr>\n",
       "      <th>11</th>\n",
       "      <td>Liberal</td>\n",
       "      <td>If the government will do its job and prevent ...</td>\n",
       "      <td>0</td>\n",
       "      <td>0.833309</td>\n",
       "    </tr>\n",
       "    <tr>\n",
       "      <th>12</th>\n",
       "      <td>Liberal</td>\n",
       "      <td>The rich countries that are primarily responsi...</td>\n",
       "      <td>0</td>\n",
       "      <td>0.876002</td>\n",
       "    </tr>\n",
       "    <tr>\n",
       "      <th>13</th>\n",
       "      <td>Liberal</td>\n",
       "      <td>These people said to us : Well , if you just w...</td>\n",
       "      <td>0</td>\n",
       "      <td>0.551963</td>\n",
       "    </tr>\n",
       "    <tr>\n",
       "      <th>14</th>\n",
       "      <td>Liberal</td>\n",
       "      <td>Inevitably this forced them to cut some $ 270 ...</td>\n",
       "      <td>0</td>\n",
       "      <td>0.782656</td>\n",
       "    </tr>\n",
       "    <tr>\n",
       "      <th>15</th>\n",
       "      <td>Liberal</td>\n",
       "      <td>Hostility to taxes and open redistribution ref...</td>\n",
       "      <td>0</td>\n",
       "      <td>0.534972</td>\n",
       "    </tr>\n",
       "    <tr>\n",
       "      <th>16</th>\n",
       "      <td>Liberal</td>\n",
       "      <td>I THINK the central idea in Marxism is of cour...</td>\n",
       "      <td>0</td>\n",
       "      <td>0.359039</td>\n",
       "    </tr>\n",
       "    <tr>\n",
       "      <th>17</th>\n",
       "      <td>Liberal</td>\n",
       "      <td>Baucus had played a key role in helping George...</td>\n",
       "      <td>0</td>\n",
       "      <td>0.369662</td>\n",
       "    </tr>\n",
       "    <tr>\n",
       "      <th>18</th>\n",
       "      <td>Liberal</td>\n",
       "      <td>We are not going to let working families who a...</td>\n",
       "      <td>0</td>\n",
       "      <td>0.349194</td>\n",
       "    </tr>\n",
       "    <tr>\n",
       "      <th>19</th>\n",
       "      <td>Liberal</td>\n",
       "      <td>Johnston shows why lowincome people using the ...</td>\n",
       "      <td>0</td>\n",
       "      <td>0.784658</td>\n",
       "    </tr>\n",
       "    <tr>\n",
       "      <th>20</th>\n",
       "      <td>Liberal</td>\n",
       "      <td>Del Vecchio 's words manifest not merely an et...</td>\n",
       "      <td>0</td>\n",
       "      <td>0.430181</td>\n",
       "    </tr>\n",
       "    <tr>\n",
       "      <th>21</th>\n",
       "      <td>Liberal</td>\n",
       "      <td>Medical workers and other scientists should be...</td>\n",
       "      <td>0</td>\n",
       "      <td>0.636107</td>\n",
       "    </tr>\n",
       "    <tr>\n",
       "      <th>22</th>\n",
       "      <td>Liberal</td>\n",
       "      <td>Besides acidification , there are serious effe...</td>\n",
       "      <td>0</td>\n",
       "      <td>0.392666</td>\n",
       "    </tr>\n",
       "    <tr>\n",
       "      <th>23</th>\n",
       "      <td>Liberal</td>\n",
       "      <td>One reason is that the Keynesian intellectual ...</td>\n",
       "      <td>0</td>\n",
       "      <td>0.367641</td>\n",
       "    </tr>\n",
       "    <tr>\n",
       "      <th>24</th>\n",
       "      <td>Liberal</td>\n",
       "      <td>It is possible to create a high-functioning un...</td>\n",
       "      <td>0</td>\n",
       "      <td>0.347618</td>\n",
       "    </tr>\n",
       "    <tr>\n",
       "      <th>25</th>\n",
       "      <td>Liberal</td>\n",
       "      <td>The drying up and contamination of freshwater ...</td>\n",
       "      <td>0</td>\n",
       "      <td>0.352842</td>\n",
       "    </tr>\n",
       "    <tr>\n",
       "      <th>26</th>\n",
       "      <td>Liberal</td>\n",
       "      <td>` Yes , we are going to balance the budget in ...</td>\n",
       "      <td>0</td>\n",
       "      <td>0.636538</td>\n",
       "    </tr>\n",
       "    <tr>\n",
       "      <th>27</th>\n",
       "      <td>Liberal</td>\n",
       "      <td>Two brass rings now seem within reach of today...</td>\n",
       "      <td>0</td>\n",
       "      <td>0.904407</td>\n",
       "    </tr>\n",
       "    <tr>\n",
       "      <th>28</th>\n",
       "      <td>Liberal</td>\n",
       "      <td>It is our contention that most of the critical...</td>\n",
       "      <td>0</td>\n",
       "      <td>0.706874</td>\n",
       "    </tr>\n",
       "    <tr>\n",
       "      <th>29</th>\n",
       "      <td>Liberal</td>\n",
       "      <td>The crisis demonstrated how wrong their views ...</td>\n",
       "      <td>0</td>\n",
       "      <td>0.625336</td>\n",
       "    </tr>\n",
       "    <tr>\n",
       "      <th>...</th>\n",
       "      <td>...</td>\n",
       "      <td>...</td>\n",
       "      <td>...</td>\n",
       "      <td>...</td>\n",
       "    </tr>\n",
       "    <tr>\n",
       "      <th>4296</th>\n",
       "      <td>Neutral</td>\n",
       "      <td>If I give you a $ 50 gift card for Best Buy an...</td>\n",
       "      <td>1</td>\n",
       "      <td>0.640214</td>\n",
       "    </tr>\n",
       "    <tr>\n",
       "      <th>4297</th>\n",
       "      <td>Neutral</td>\n",
       "      <td>He threatened to scuttle Tehran 's stock marke...</td>\n",
       "      <td>1</td>\n",
       "      <td>0.351920</td>\n",
       "    </tr>\n",
       "    <tr>\n",
       "      <th>4298</th>\n",
       "      <td>Neutral</td>\n",
       "      <td>The digital Beatles are invariably depicted to...</td>\n",
       "      <td>1</td>\n",
       "      <td>0.504422</td>\n",
       "    </tr>\n",
       "    <tr>\n",
       "      <th>4299</th>\n",
       "      <td>Neutral</td>\n",
       "      <td>His reluctance will be all the greater if save...</td>\n",
       "      <td>1</td>\n",
       "      <td>0.365133</td>\n",
       "    </tr>\n",
       "    <tr>\n",
       "      <th>4300</th>\n",
       "      <td>Neutral</td>\n",
       "      <td>As an American report noted , `` The tradition...</td>\n",
       "      <td>1</td>\n",
       "      <td>0.353870</td>\n",
       "    </tr>\n",
       "    <tr>\n",
       "      <th>4301</th>\n",
       "      <td>Neutral</td>\n",
       "      <td>By accountability , we are talking about rewar...</td>\n",
       "      <td>1</td>\n",
       "      <td>0.394994</td>\n",
       "    </tr>\n",
       "    <tr>\n",
       "      <th>4302</th>\n",
       "      <td>Neutral</td>\n",
       "      <td>Family relations , marriage , motherhood , iso...</td>\n",
       "      <td>1</td>\n",
       "      <td>0.712830</td>\n",
       "    </tr>\n",
       "    <tr>\n",
       "      <th>4303</th>\n",
       "      <td>Neutral</td>\n",
       "      <td>Working from the ground and the air , their pr...</td>\n",
       "      <td>1</td>\n",
       "      <td>0.740214</td>\n",
       "    </tr>\n",
       "    <tr>\n",
       "      <th>4304</th>\n",
       "      <td>Neutral</td>\n",
       "      <td>If you 've had the opportunity to drive a car ...</td>\n",
       "      <td>1</td>\n",
       "      <td>0.906114</td>\n",
       "    </tr>\n",
       "    <tr>\n",
       "      <th>4305</th>\n",
       "      <td>Neutral</td>\n",
       "      <td>Its horror stories of alcoholism , abuse , mis...</td>\n",
       "      <td>1</td>\n",
       "      <td>0.474593</td>\n",
       "    </tr>\n",
       "    <tr>\n",
       "      <th>4306</th>\n",
       "      <td>Neutral</td>\n",
       "      <td>Meanwhile , one of the gunmen threatened to ki...</td>\n",
       "      <td>1</td>\n",
       "      <td>0.812487</td>\n",
       "    </tr>\n",
       "    <tr>\n",
       "      <th>4307</th>\n",
       "      <td>Neutral</td>\n",
       "      <td>What Hiss personified , finally , was a social...</td>\n",
       "      <td>1</td>\n",
       "      <td>0.416468</td>\n",
       "    </tr>\n",
       "    <tr>\n",
       "      <th>4308</th>\n",
       "      <td>Neutral</td>\n",
       "      <td>You ca n't just follow them because they make ...</td>\n",
       "      <td>1</td>\n",
       "      <td>0.550437</td>\n",
       "    </tr>\n",
       "    <tr>\n",
       "      <th>4309</th>\n",
       "      <td>Neutral</td>\n",
       "      <td>This systematic harassment even violates laws ...</td>\n",
       "      <td>1</td>\n",
       "      <td>0.522543</td>\n",
       "    </tr>\n",
       "    <tr>\n",
       "      <th>4310</th>\n",
       "      <td>Neutral</td>\n",
       "      <td>Surely , a brutal campaign in Sunni Iraq would...</td>\n",
       "      <td>1</td>\n",
       "      <td>0.382267</td>\n",
       "    </tr>\n",
       "    <tr>\n",
       "      <th>4311</th>\n",
       "      <td>Neutral</td>\n",
       "      <td>A mass killer is by definition one who makes m...</td>\n",
       "      <td>1</td>\n",
       "      <td>0.627879</td>\n",
       "    </tr>\n",
       "    <tr>\n",
       "      <th>4312</th>\n",
       "      <td>Neutral</td>\n",
       "      <td>After first trying to convince the authorities...</td>\n",
       "      <td>1</td>\n",
       "      <td>0.337860</td>\n",
       "    </tr>\n",
       "    <tr>\n",
       "      <th>4313</th>\n",
       "      <td>Neutral</td>\n",
       "      <td>It is certainly true that high doses of radiat...</td>\n",
       "      <td>1</td>\n",
       "      <td>0.593619</td>\n",
       "    </tr>\n",
       "    <tr>\n",
       "      <th>4314</th>\n",
       "      <td>Neutral</td>\n",
       "      <td>She uncovered a tsunami of drunk driving , rob...</td>\n",
       "      <td>1</td>\n",
       "      <td>0.351503</td>\n",
       "    </tr>\n",
       "    <tr>\n",
       "      <th>4315</th>\n",
       "      <td>Neutral</td>\n",
       "      <td>He strove desperately to find some guilty part...</td>\n",
       "      <td>1</td>\n",
       "      <td>0.727848</td>\n",
       "    </tr>\n",
       "    <tr>\n",
       "      <th>4316</th>\n",
       "      <td>Neutral</td>\n",
       "      <td>Even when it is irrefutable that a policy caus...</td>\n",
       "      <td>1</td>\n",
       "      <td>0.514786</td>\n",
       "    </tr>\n",
       "    <tr>\n",
       "      <th>4317</th>\n",
       "      <td>Neutral</td>\n",
       "      <td>The coins ' value appreciated over time becaus...</td>\n",
       "      <td>1</td>\n",
       "      <td>0.372122</td>\n",
       "    </tr>\n",
       "    <tr>\n",
       "      <th>4318</th>\n",
       "      <td>Neutral</td>\n",
       "      <td>In those cases where the experimenter urged ca...</td>\n",
       "      <td>1</td>\n",
       "      <td>0.481328</td>\n",
       "    </tr>\n",
       "    <tr>\n",
       "      <th>4319</th>\n",
       "      <td>Neutral</td>\n",
       "      <td>The lame-duck Congress , which will be back in...</td>\n",
       "      <td>1</td>\n",
       "      <td>0.526237</td>\n",
       "    </tr>\n",
       "    <tr>\n",
       "      <th>4320</th>\n",
       "      <td>Neutral</td>\n",
       "      <td>After a few hours , the protest leaders convin...</td>\n",
       "      <td>1</td>\n",
       "      <td>0.549760</td>\n",
       "    </tr>\n",
       "    <tr>\n",
       "      <th>4321</th>\n",
       "      <td>Neutral</td>\n",
       "      <td>As Doug Ogden , former director of the Energy ...</td>\n",
       "      <td>1</td>\n",
       "      <td>0.886946</td>\n",
       "    </tr>\n",
       "    <tr>\n",
       "      <th>4322</th>\n",
       "      <td>Neutral</td>\n",
       "      <td>No study is perfect ; each one is subject to c...</td>\n",
       "      <td>1</td>\n",
       "      <td>0.745752</td>\n",
       "    </tr>\n",
       "    <tr>\n",
       "      <th>4323</th>\n",
       "      <td>Neutral</td>\n",
       "      <td>Of course , market forces , the balancing of ,...</td>\n",
       "      <td>1</td>\n",
       "      <td>0.906909</td>\n",
       "    </tr>\n",
       "    <tr>\n",
       "      <th>4324</th>\n",
       "      <td>Neutral</td>\n",
       "      <td>In Words Like Loaded Pistols , he sets out to ...</td>\n",
       "      <td>1</td>\n",
       "      <td>0.741602</td>\n",
       "    </tr>\n",
       "    <tr>\n",
       "      <th>4325</th>\n",
       "      <td>Neutral</td>\n",
       "      <td>For decades the BSA has dealt with the problem...</td>\n",
       "      <td>1</td>\n",
       "      <td>0.364048</td>\n",
       "    </tr>\n",
       "  </tbody>\n",
       "</table>\n",
       "<p>4326 rows × 4 columns</p>\n",
       "</div>"
      ],
      "text/plain": [
       "        label                                           sentence  class  \\\n",
       "0     Liberal  Forcing middle-class workers to bear a greater...      0   \n",
       "1     Liberal  Because it would not be worthwhile to bring a ...      0   \n",
       "2     Liberal  Indeed , Lind argues that high profits and hig...      0   \n",
       "3     Liberal  In fairness , it should be noted that he devot...      0   \n",
       "4     Liberal  Psychological tactics are social control techn...      0   \n",
       "5     Liberal  The uncontrolled profit motive is destroying h...      0   \n",
       "6     Liberal  Organizations representing the religious right...      0   \n",
       "7     Liberal  A market based on greed and fear has tugged on...      0   \n",
       "8     Liberal  THE CONSERVATIVE MOVEMENT IS ROOTED IN A COHER...      0   \n",
       "9     Liberal  By eliminating the private insurer , you could...      0   \n",
       "10    Liberal  The additional schooling foisted upon one grou...      0   \n",
       "11    Liberal  If the government will do its job and prevent ...      0   \n",
       "12    Liberal  The rich countries that are primarily responsi...      0   \n",
       "13    Liberal  These people said to us : Well , if you just w...      0   \n",
       "14    Liberal  Inevitably this forced them to cut some $ 270 ...      0   \n",
       "15    Liberal  Hostility to taxes and open redistribution ref...      0   \n",
       "16    Liberal  I THINK the central idea in Marxism is of cour...      0   \n",
       "17    Liberal  Baucus had played a key role in helping George...      0   \n",
       "18    Liberal  We are not going to let working families who a...      0   \n",
       "19    Liberal  Johnston shows why lowincome people using the ...      0   \n",
       "20    Liberal  Del Vecchio 's words manifest not merely an et...      0   \n",
       "21    Liberal  Medical workers and other scientists should be...      0   \n",
       "22    Liberal  Besides acidification , there are serious effe...      0   \n",
       "23    Liberal  One reason is that the Keynesian intellectual ...      0   \n",
       "24    Liberal  It is possible to create a high-functioning un...      0   \n",
       "25    Liberal  The drying up and contamination of freshwater ...      0   \n",
       "26    Liberal  ` Yes , we are going to balance the budget in ...      0   \n",
       "27    Liberal  Two brass rings now seem within reach of today...      0   \n",
       "28    Liberal  It is our contention that most of the critical...      0   \n",
       "29    Liberal  The crisis demonstrated how wrong their views ...      0   \n",
       "...       ...                                                ...    ...   \n",
       "4296  Neutral  If I give you a $ 50 gift card for Best Buy an...      1   \n",
       "4297  Neutral  He threatened to scuttle Tehran 's stock marke...      1   \n",
       "4298  Neutral  The digital Beatles are invariably depicted to...      1   \n",
       "4299  Neutral  His reluctance will be all the greater if save...      1   \n",
       "4300  Neutral  As an American report noted , `` The tradition...      1   \n",
       "4301  Neutral  By accountability , we are talking about rewar...      1   \n",
       "4302  Neutral  Family relations , marriage , motherhood , iso...      1   \n",
       "4303  Neutral  Working from the ground and the air , their pr...      1   \n",
       "4304  Neutral  If you 've had the opportunity to drive a car ...      1   \n",
       "4305  Neutral  Its horror stories of alcoholism , abuse , mis...      1   \n",
       "4306  Neutral  Meanwhile , one of the gunmen threatened to ki...      1   \n",
       "4307  Neutral  What Hiss personified , finally , was a social...      1   \n",
       "4308  Neutral  You ca n't just follow them because they make ...      1   \n",
       "4309  Neutral  This systematic harassment even violates laws ...      1   \n",
       "4310  Neutral  Surely , a brutal campaign in Sunni Iraq would...      1   \n",
       "4311  Neutral  A mass killer is by definition one who makes m...      1   \n",
       "4312  Neutral  After first trying to convince the authorities...      1   \n",
       "4313  Neutral  It is certainly true that high doses of radiat...      1   \n",
       "4314  Neutral  She uncovered a tsunami of drunk driving , rob...      1   \n",
       "4315  Neutral  He strove desperately to find some guilty part...      1   \n",
       "4316  Neutral  Even when it is irrefutable that a policy caus...      1   \n",
       "4317  Neutral  The coins ' value appreciated over time becaus...      1   \n",
       "4318  Neutral  In those cases where the experimenter urged ca...      1   \n",
       "4319  Neutral  The lame-duck Congress , which will be back in...      1   \n",
       "4320  Neutral  After a few hours , the protest leaders convin...      1   \n",
       "4321  Neutral  As Doug Ogden , former director of the Energy ...      1   \n",
       "4322  Neutral  No study is perfect ; each one is subject to c...      1   \n",
       "4323  Neutral  Of course , market forces , the balancing of ,...      1   \n",
       "4324  Neutral  In Words Like Loaded Pistols , he sets out to ...      1   \n",
       "4325  Neutral  For decades the BSA has dealt with the problem...      1   \n",
       "\n",
       "         score  \n",
       "0     0.480542  \n",
       "1     0.450783  \n",
       "2     0.533672  \n",
       "3     0.582500  \n",
       "4     0.384366  \n",
       "5     0.700614  \n",
       "6     0.468673  \n",
       "7     0.666560  \n",
       "8     0.736430  \n",
       "9     0.504475  \n",
       "10    0.671827  \n",
       "11    0.833309  \n",
       "12    0.876002  \n",
       "13    0.551963  \n",
       "14    0.782656  \n",
       "15    0.534972  \n",
       "16    0.359039  \n",
       "17    0.369662  \n",
       "18    0.349194  \n",
       "19    0.784658  \n",
       "20    0.430181  \n",
       "21    0.636107  \n",
       "22    0.392666  \n",
       "23    0.367641  \n",
       "24    0.347618  \n",
       "25    0.352842  \n",
       "26    0.636538  \n",
       "27    0.904407  \n",
       "28    0.706874  \n",
       "29    0.625336  \n",
       "...        ...  \n",
       "4296  0.640214  \n",
       "4297  0.351920  \n",
       "4298  0.504422  \n",
       "4299  0.365133  \n",
       "4300  0.353870  \n",
       "4301  0.394994  \n",
       "4302  0.712830  \n",
       "4303  0.740214  \n",
       "4304  0.906114  \n",
       "4305  0.474593  \n",
       "4306  0.812487  \n",
       "4307  0.416468  \n",
       "4308  0.550437  \n",
       "4309  0.522543  \n",
       "4310  0.382267  \n",
       "4311  0.627879  \n",
       "4312  0.337860  \n",
       "4313  0.593619  \n",
       "4314  0.351503  \n",
       "4315  0.727848  \n",
       "4316  0.514786  \n",
       "4317  0.372122  \n",
       "4318  0.481328  \n",
       "4319  0.526237  \n",
       "4320  0.549760  \n",
       "4321  0.886946  \n",
       "4322  0.745752  \n",
       "4323  0.906909  \n",
       "4324  0.741602  \n",
       "4325  0.364048  \n",
       "\n",
       "[4326 rows x 4 columns]"
      ]
     },
     "execution_count": 6,
     "metadata": {},
     "output_type": "execute_result"
    }
   ],
   "source": [
    "ibc_frame['score']=pd.Series(confidence_score)\n",
    "ibc_frame"
   ]
  },
  {
   "cell_type": "markdown",
   "metadata": {},
   "source": [
    "# Turn IBC Sentences into Matrices of Features for Confidence Network"
   ]
  },
  {
   "cell_type": "markdown",
   "metadata": {},
   "source": [
    "### Divide Data into Train and Dev Sets"
   ]
  },
  {
   "cell_type": "code",
   "execution_count": 13,
   "metadata": {},
   "outputs": [
    {
     "ename": "ValueError",
     "evalue": "not enough values to unpack (expected 3, got 2)",
     "output_type": "error",
     "traceback": [
      "\u001b[0;31m---------------------------------------------------------------------------\u001b[0m",
      "\u001b[0;31mValueError\u001b[0m                                Traceback (most recent call last)",
      "\u001b[0;32m<ipython-input-13-998410cc6165>\u001b[0m in \u001b[0;36m<module>\u001b[0;34m()\u001b[0m\n\u001b[1;32m      2\u001b[0m \u001b[0mX\u001b[0m\u001b[0;34m,\u001b[0m\u001b[0my\u001b[0m\u001b[0;34m=\u001b[0m\u001b[0mibc_frame\u001b[0m\u001b[0;34m[\u001b[0m\u001b[0;34m'sentence'\u001b[0m\u001b[0;34m]\u001b[0m\u001b[0;34m.\u001b[0m\u001b[0miloc\u001b[0m\u001b[0;34m[\u001b[0m\u001b[0mshuffle\u001b[0m\u001b[0;34m]\u001b[0m\u001b[0;34m,\u001b[0m\u001b[0mibc_frame\u001b[0m\u001b[0;34m[\u001b[0m\u001b[0;34m'score'\u001b[0m\u001b[0;34m]\u001b[0m\u001b[0;34m.\u001b[0m\u001b[0miloc\u001b[0m\u001b[0;34m[\u001b[0m\u001b[0mshuffle\u001b[0m\u001b[0;34m]\u001b[0m\u001b[0;34m\u001b[0m\u001b[0m\n\u001b[1;32m      3\u001b[0m \u001b[0mtrain_length\u001b[0m\u001b[0;34m=\u001b[0m\u001b[0mint\u001b[0m\u001b[0;34m(\u001b[0m\u001b[0mibc_frame\u001b[0m\u001b[0;34m.\u001b[0m\u001b[0mshape\u001b[0m\u001b[0;34m[\u001b[0m\u001b[0;36m0\u001b[0m\u001b[0;34m]\u001b[0m\u001b[0;34m*\u001b[0m\u001b[0;36m0.8\u001b[0m\u001b[0;34m)\u001b[0m\u001b[0;34m\u001b[0m\u001b[0m\n\u001b[0;32m----> 4\u001b[0;31m \u001b[0mX_train\u001b[0m\u001b[0;34m,\u001b[0m\u001b[0my_train\u001b[0m\u001b[0;34m,\u001b[0m \u001b[0mtrue_y_train\u001b[0m \u001b[0;34m=\u001b[0m\u001b[0mX\u001b[0m\u001b[0;34m.\u001b[0m\u001b[0miloc\u001b[0m\u001b[0;34m[\u001b[0m\u001b[0;34m:\u001b[0m\u001b[0mtrain_length\u001b[0m\u001b[0;34m]\u001b[0m\u001b[0;34m,\u001b[0m\u001b[0my\u001b[0m\u001b[0;34m.\u001b[0m\u001b[0miloc\u001b[0m\u001b[0;34m[\u001b[0m\u001b[0;34m:\u001b[0m\u001b[0mtrain_length\u001b[0m\u001b[0;34m]\u001b[0m\u001b[0;34m,\u001b[0m\u001b[0;34m\u001b[0m\u001b[0m\n\u001b[0m\u001b[1;32m      5\u001b[0m \u001b[0mX_dev\u001b[0m\u001b[0;34m,\u001b[0m\u001b[0my_dev\u001b[0m\u001b[0;34m=\u001b[0m\u001b[0mX\u001b[0m\u001b[0;34m.\u001b[0m\u001b[0miloc\u001b[0m\u001b[0;34m[\u001b[0m\u001b[0mtrain_length\u001b[0m\u001b[0;34m:\u001b[0m\u001b[0;34m]\u001b[0m\u001b[0;34m,\u001b[0m\u001b[0my\u001b[0m\u001b[0;34m.\u001b[0m\u001b[0miloc\u001b[0m\u001b[0;34m[\u001b[0m\u001b[0mtrain_length\u001b[0m\u001b[0;34m:\u001b[0m\u001b[0;34m]\u001b[0m\u001b[0;34m\u001b[0m\u001b[0m\n\u001b[1;32m      6\u001b[0m \u001b[0;34m\u001b[0m\u001b[0m\n",
      "\u001b[0;31mValueError\u001b[0m: not enough values to unpack (expected 3, got 2)"
     ]
    }
   ],
   "source": [
    "shuffle=np.random.permutation(np.arange(ibc_frame.shape[0]))\n",
    "X,y=ibc_frame['sentence'].iloc[shuffle],ibc_frame['score'].iloc[shuffle]\n",
    "train_length=int(ibc_frame.shape[0]*0.8)\n",
    "X_train,y_train, true_y_train =X.iloc[:train_length],y.iloc[:train_length], \n",
    "X_dev,y_dev=X.iloc[train_length:],y.iloc[train_length:]\n",
    "\n",
    "train_sentences=X_train.tolist()\n",
    "train_labels=y_train.as_matrix()\n",
    "dev_sentences=X_dev.tolist()\n",
    "dev_labels=y_dev.as_matrix()\n",
    "\n"
   ]
  },
  {
   "cell_type": "code",
   "execution_count": 12,
   "metadata": {},
   "outputs": [
    {
     "ename": "NameError",
     "evalue": "name 'train_labels' is not defined",
     "output_type": "error",
     "traceback": [
      "\u001b[0;31m---------------------------------------------------------------------------\u001b[0m",
      "\u001b[0;31mNameError\u001b[0m                                 Traceback (most recent call last)",
      "\u001b[0;32m<ipython-input-12-3257ea730cac>\u001b[0m in \u001b[0;36m<module>\u001b[0;34m()\u001b[0m\n\u001b[0;32m----> 1\u001b[0;31m \u001b[0mtrain_labels\u001b[0m\u001b[0;34m\u001b[0m\u001b[0m\n\u001b[0m",
      "\u001b[0;31mNameError\u001b[0m: name 'train_labels' is not defined"
     ]
    }
   ],
   "source": [
    "train"
   ]
  },
  {
   "cell_type": "code",
   "execution_count": 12,
   "metadata": {},
   "outputs": [
    {
     "name": "stdout",
     "output_type": "stream",
     "text": [
      "['The purpose of churches is to repress , control , devalue , and destroy , as an unbroken history of religious violence and repression supposedly demonstrates .', 'Abstract : Johnston shows why lowincome people using the earned income tax credit are far more likely to be audited than rich people using baroque tax shelters .', 'That sense of insecurity will make a person less likely to invest in specialized training , cultivate new career paths , aggressively change jobs-the very things that are likely to allow that person to get ahead .']\n",
      "3460\n",
      "[ 0.70735312  0.80075505  0.43113056]\n",
      "3460\n",
      "['In the case of the retirement age , we should be asking whether we really intended to create what Social Security has becomeincreasingly a retirement system for people in middle age , most of whom report good or excellent health .', 'For instance , the Motion Picture Code ensured that scripts upheld the value of human life , that sin and wrongdoing were not justified , that brutality , indecent exposure , and sexual relationships would not violate standards of common decency .', \"In this way , it would have tried to overcome the collective-action problem inherent in all such situations : the fact that no one will rationally invest in rebuilding a destroyed neighborhood until they can be reasonably sure that their neighbors will do the same . ''\"]\n",
      "866\n",
      "[ 0.37979964  0.3355183   0.52388186]\n",
      "866\n"
     ]
    }
   ],
   "source": [
    "print(train_sentences[0:3])\n",
    "print(len(train_sentences))\n",
    "print(train_labels[0:3])\n",
    "print(len(train_labels))\n",
    "print(dev_sentences[0:3])\n",
    "print(len(dev_sentences))\n",
    "print(dev_labels[0:3])\n",
    "print(len(dev_labels))"
   ]
  },
  {
   "cell_type": "markdown",
   "metadata": {},
   "source": [
    "### Create Count Vectorizer For the Training Data to get word indices"
   ]
  },
  {
   "cell_type": "code",
   "execution_count": 13,
   "metadata": {},
   "outputs": [
    {
     "name": "stdout",
     "output_type": "stream",
     "text": [
      "13320\n"
     ]
    }
   ],
   "source": [
    "vec=CountVectorizer()\n",
    "feature_mat=vec.fit_transform(train_sentences)\n",
    "vocab=vec.get_feature_names()\n",
    "print(len(vocab))\n",
    "#print(vec.vocabulary_)"
   ]
  },
  {
   "cell_type": "markdown",
   "metadata": {},
   "source": [
    "### Create arrays of word indices with the specified max sentence length"
   ]
  },
  {
   "cell_type": "code",
   "execution_count": 14,
   "metadata": {
    "collapsed": true
   },
   "outputs": [],
   "source": [
    "def make_index_list(vectorizer,max_len,sentences):\n",
    "    analyze=vectorizer.build_analyzer()\n",
    "    sents=[]\n",
    "    ns=[]\n",
    "    d=vec.vocabulary_\n",
    "    dummy_index=len(vocab)\n",
    "    for sentence in sentences:\n",
    "        tokenized_sentence=analyze(sentence)[0:max_len]\n",
    "        word_indices=[d.get(i) if d.get(i) is not None else dummy_index for i in tokenized_sentence]\n",
    "        n=len(word_indices)\n",
    "        if(n<max_len):\n",
    "            pad_length=max_len-n\n",
    "            word_indices=word_indices + [dummy_index] * pad_length\n",
    "\n",
    "        sents.append(word_indices)\n",
    "        ns.append(n)\n",
    "    return np.array(sents,dtype=np.dtype(np.int32)), np.array(ns,dtype=np.dtype(np.int32))"
   ]
  },
  {
   "cell_type": "code",
   "execution_count": 15,
   "metadata": {
    "collapsed": true
   },
   "outputs": [],
   "source": [
    "max_len=55\n",
    "train_list,train_ns=make_index_list(vec,max_len,train_sentences)\n",
    "dev_list,dev_ns=make_index_list(vec,max_len,dev_sentences)"
   ]
  },
  {
   "cell_type": "markdown",
   "metadata": {},
   "source": [
    "# Train Neural Net Using Tensorflow"
   ]
  },
  {
   "cell_type": "code",
   "execution_count": 18,
   "metadata": {
    "collapsed": true
   },
   "outputs": [],
   "source": [
    "from IPython.display import display, clear_output "
   ]
  },
  {
   "cell_type": "code",
   "execution_count": 19,
   "metadata": {
    "scrolled": true
   },
   "outputs": [
    {
     "name": "stdout",
     "output_type": "stream",
     "text": [
      "10) RMSE = 0.0271\n"
     ]
    },
    {
     "data": {
      "image/png": "[encoded data removed]",
      "text/plain": [
       "<matplotlib.figure.Figure at 0x7fe9ff9b8438>"
      ]
     },
     "metadata": {},
     "output_type": "display_data"
    },
    {
     "data": {
      "image/png": "[encoded data removed]",
      "text/plain": [
       "<matplotlib.figure.Figure at 0x7fea044b9780>"
      ]
     },
     "metadata": {},
     "output_type": "display_data"
    }
   ],
   "source": [
    "# (1) Parameters\n",
    "tf.reset_default_graph()\n",
    "embed_dim=25\n",
    "hidden_layer_size=10\n",
    "V=len(vocab)+1\n",
    "learning_rate=0.01\n",
    "batch_size=50\n",
    "num_ex=train_list.shape[0]\n",
    "\n",
    "# placeholder\n",
    "x_=tf.placeholder(tf.int32,shape=[None,max_len],name='x')\n",
    "ns_=tf.placeholder(tf.int32,shape=[None],name='ns')\n",
    "y_=tf.placeholder(tf.float32,shape=[None],name='y')\n",
    "is_training_ = tf.placeholder_with_default(True, shape=[], name='is_training')\n",
    "\n",
    "\n",
    "#define embedding/bow encoding layers\n",
    "\n",
    "def embedding_layer(x_,V,embed_dim, init_scale=0.001):\n",
    "    W_embed_=tf.get_variable(\"W_embed\",[V,embed_dim],dtype=tf.float32,initializer=tf.random_uniform_initializer(-init_scale,init_scale))\n",
    "    xs_=tf.nn.embedding_lookup(W_embed_,x_)\n",
    "    return xs_\n",
    "\n",
    "def bow_encoding_layer(x_,ns_,V,embed_dim,is_training=None):\n",
    "    xs_=embedding_layer(x_,V,embed_dim)\n",
    "    mask_ = tf.expand_dims(tf.sequence_mask(ns_, xs_.shape[1],dtype=tf.float32), -1)\n",
    "    xs_=tf.multiply(xs_,mask_)\n",
    "    sum_embeddings=tf.reduce_sum(xs_,axis=1)\n",
    "    return sum_embeddings\n",
    "\n",
    "#define model with one bow encoding layer, one hidden layer, and one output layer\n",
    "\n",
    "def model(x_,ns_,V,embed_dim,hidden_layer_size,is_training=True):\n",
    "    l1=bow_encoding_layer(x_,ns_,V,embed_dim)\n",
    "    l2=tf.layers.dense(inputs=l1,units=hidden_layer_size,activation=tf.tanh)\n",
    "    output_layer=tf.layers.dense(inputs=l2,units=1,activation=tf.nn.relu)\n",
    "    return tf.squeeze(output_layer)\n",
    "\n",
    "#Define training op and optimizer\n",
    "preds=model(x_,ns_,V,embed_dim,hidden_layer_size,is_training_)\n",
    "cc=tf.losses.mean_squared_error(y_,preds)\n",
    "gd=tf.train.GradientDescentOptimizer(learning_rate)\n",
    "outputs=tf.identity(preds)\n",
    "\n",
    "step=gd.minimize(cc)\n",
    "\n",
    "#Calculate error\n",
    "acc=tf.metrics.mean_squared_error(y_,preds)[1]\n",
    "\n",
    "#get probabilities\n",
    "proba = y_\n",
    "\n",
    "#Train the Neural network, report dev/training accuracies\n",
    "with tf.Session() as sess:\n",
    "    sess.run(tf.global_variables_initializer())\n",
    "    sess.run(tf.local_variables_initializer())\n",
    "    cost_vec = []\n",
    "    acc_dev_vec = []\n",
    "    acc_train_vec = []\n",
    "    for i in range(10):\n",
    "        for start, end in zip(range(0, num_ex, batch_size), range(batch_size, num_ex, batch_size)):\n",
    "            batch = train_list[start:end], train_labels[start:end]\n",
    "            ns=train_ns[start:end]\n",
    "            _, cost = sess.run([step, cc], feed_dict={x_: batch[0],ns_: ns, y_: batch[1], is_training_: True})\n",
    "\n",
    "        dev_acc = acc.eval(feed_dict={x_: dev_list,ns_: dev_ns, y_: dev_labels, is_training_: False})\n",
    "        train_acc = acc.eval(feed_dict={x_: train_list,ns_: train_ns, y_: train_labels,is_training_: False})\n",
    "\n",
    "        cost_vec.append(cost)\n",
    "        clear_output(wait=True)\n",
    "        acc_dev_vec.append(dev_acc)\n",
    "        acc_train_vec.append(train_acc)\n",
    "        print('%d) RMSE = %.4f' %(i+1, dev_acc))\n",
    "    probas = proba.eval(feed_dict={x_: train_list,ns_: train_ns, y_: train_labels,is_training_: False})\n",
    "\n",
    "\n",
    "#plot the results\n",
    "plt.plot(cost_vec)  \n",
    "plt.xlabel('Number of Gradient Descent steps')\n",
    "plt.ylabel('Cost function')\n",
    "plt.show()\n",
    "\n",
    "plt.plot(acc_dev_vec)  \n",
    "plt.plot(acc_train_vec)\n",
    "plt.xlabel('Number of Gradient Descent steps')\n",
    "plt.ylabel('Train and Dev RMSE')\n",
    "plt.show()\n"
   ]
  },
  {
   "cell_type": "code",
   "execution_count": 20,
   "metadata": {},
   "outputs": [
    {
     "data": {
      "text/plain": [
       "array([ 0.33491096,  0.37973127,  0.59558648, ...,  0.46593711,\n",
       "        0.97937685,  0.51157415], dtype=float32)"
      ]
     },
     "execution_count": 20,
     "metadata": {},
     "output_type": "execute_result"
    }
   ],
   "source": [
    "probas"
   ]
  },
  {
   "cell_type": "markdown",
   "metadata": {},
   "source": [
    "# Neural Network with Pretrained Embeddings"
   ]
  },
  {
   "cell_type": "markdown",
   "metadata": {},
   "source": [
    "### Load the pre-trained Google embeddings"
   ]
  },
  {
   "cell_type": "code",
   "execution_count": 2,
   "metadata": {
    "collapsed": true,
    "scrolled": true
   },
   "outputs": [],
   "source": [
    "import gensim"
   ]
  },
  {
   "cell_type": "code",
   "execution_count": 3,
   "metadata": {
    "collapsed": true
   },
   "outputs": [],
   "source": [
    "model = gensim.models.KeyedVectors.load_word2vec_format('../GoogleNews-vectors-negative300.bin', binary=True)"
   ]
  },
  {
   "cell_type": "markdown",
   "metadata": {},
   "source": [
    "### Divide Data into Training, Dev, and Test Sets"
   ]
  },
  {
   "cell_type": "code",
   "execution_count": 14,
   "metadata": {},
   "outputs": [
    {
     "ename": "NameError",
     "evalue": "name 'test_length' is not defined",
     "output_type": "error",
     "traceback": [
      "\u001b[0;31m---------------------------------------------------------------------------\u001b[0m",
      "\u001b[0;31mNameError\u001b[0m                                 Traceback (most recent call last)",
      "\u001b[0;32m<ipython-input-14-cde6462af92d>\u001b[0m in \u001b[0;36m<module>\u001b[0;34m()\u001b[0m\n\u001b[0;32m----> 1\u001b[0;31m \u001b[0mtrue_labels\u001b[0m\u001b[0;34m[\u001b[0m\u001b[0mtrain_length\u001b[0m\u001b[0;34m+\u001b[0m\u001b[0mtest_length\u001b[0m\u001b[0;34m:\u001b[0m\u001b[0;34m]\u001b[0m\u001b[0;34m\u001b[0m\u001b[0m\n\u001b[0m",
      "\u001b[0;31mNameError\u001b[0m: name 'test_length' is not defined"
     ]
    }
   ],
   "source": [
    "true_labels[train_length+test_length:]"
   ]
  },
  {
   "cell_type": "code",
   "execution_count": 15,
   "metadata": {
    "collapsed": true
   },
   "outputs": [],
   "source": [
    "shuffle=np.random.permutation(np.arange(ibc_frame.shape[0]))\n",
    "X,y=ibc_frame['sentence'].iloc[shuffle],ibc_frame['score'].iloc[shuffle]\n",
    "train_length=int(ibc_frame.shape[0]*0.7)\n",
    "test_length=int((ibc_frame.shape[0]-train_length) * (2.0/3.0))\n",
    "X_train,y_train, true_y_train=X.iloc[:train_length],y.iloc[:train_length], true_labels[:train_length]\n",
    "X_test,y_test=X.iloc[train_length:train_length+test_length],y.iloc[train_length:train_length+test_length]\n",
    "X_dev,y_dev, true_y_dev=X.iloc[train_length+test_length:],y.iloc[train_length+test_length:], true_labels[train_length+test_length:]\n",
    "\n",
    "train_sentences=X_train.tolist()\n",
    "train_labels=y_train.as_matrix()\n",
    "test_sentences=X_test.tolist()\n",
    "test_labels=y_test.as_matrix()\n",
    "dev_sentences=X_dev.tolist()\n",
    "dev_labels=y_dev.as_matrix()"
   ]
  },
  {
   "cell_type": "code",
   "execution_count": 18,
   "metadata": {},
   "outputs": [
    {
     "name": "stdout",
     "output_type": "stream",
     "text": [
      "[[1 0 0]\n",
      " [1 0 0]\n",
      " [1 0 0]]\n",
      "[[0 1 0]\n",
      " [0 1 0]\n",
      " [0 1 0]]\n"
     ]
    }
   ],
   "source": [
    "print(true_y_train[0:3])\n",
    "print(true_y_dev[0:3])"
   ]
  },
  {
   "cell_type": "code",
   "execution_count": 95,
   "metadata": {},
   "outputs": [
    {
     "name": "stdout",
     "output_type": "stream",
     "text": [
      "['In Atlas Shrugged , her hero , John Galt , leads a capitalist strike , in which the brilliant business leaders who drive all progress decide that they will no longer tolerate the parasitic workers exploiting their talent , and so they withdraw from society to create their own capitalistic paradise free of the ungrateful , incompetent masses .', 'Any failure traceable to arrogance , or our lack of comprehension or readiness to sacrifice , would inflict upon us grievous hurt , both at home and abroad .', 'Affordable housing frees up resources for food and health care , reduces stress and stress-related health problems , alleviates over-crowding , and allows access to neighborhood resources .']\n",
      "3028\n",
      "[ 0.51119463  0.36209301  0.33755605]\n",
      "3028\n",
      "['We thank the Ford Foundation for supporting our work on good jobs and economic development , and The Atlantic Philanthropies for supporting our work on immigration .', \"Waugh believed that mankind did not divide `` into the rich and poor , the privileged and the unprivileged , the clever and the stupid , the lucky and the unlucky , or even the happy and the unhappy , '' but into `` the nasty and the nice .\", 'Some of that recent work has earned its favor : The Western Canon and Shakespeare : The Invention of the Human are rich works of popular criticism .']\n",
      "865\n",
      "[ 0.36642237  0.52453657  0.6101811 ]\n",
      "865\n",
      "[\"On the other are `` whole child '' reformers , who argue that focusing on schools is both too narrow and unfair to educators , because the stresses of poverty have such a crippling effect on young children 's development that dramatic educational improvement is impossible without much broader policies to alleviate poverty .\", 'In 2006 , the Nuclear Regulatory Commission ( NRC ) began to consider allowing private low-level nuclear waste dumps to accept depleted uranium from nuclear power plants and weapons sites , a higher grade of waste and , for WCS , a multibillion-dollar opportunity .', \"But the situation is very different when lower interest rates result from the Fed 's creation of new money out of thin air .\"]\n",
      "433\n",
      "[ 0.90872843  0.53622048  0.73051805]\n",
      "433\n"
     ]
    }
   ],
   "source": [
    "print(train_sentences[0:3])\n",
    "print(len(train_sentences))\n",
    "print(train_labels[0:3])\n",
    "print(len(train_labels))\n",
    "print(test_sentences[0:3])\n",
    "print(len(test_sentences))\n",
    "print(test_labels[0:3])\n",
    "print(len(test_labels))\n",
    "print(dev_sentences[0:3])\n",
    "print(len(dev_sentences))\n",
    "print(dev_labels[0:3])\n",
    "print(len(dev_labels))\n"
   ]
  },
  {
   "cell_type": "markdown",
   "metadata": {},
   "source": [
    "### Define Preprocessor for Text - For Now Just Use Default from CountVectorizer"
   ]
  },
  {
   "cell_type": "code",
   "execution_count": 96,
   "metadata": {},
   "outputs": [
    {
     "name": "stdout",
     "output_type": "stream",
     "text": [
      "['the', 'additional', 'schooling', 'foisted', 'upon', 'one', 'group', 'by', 'this', 'arbitrary', 'state', 'of', 'affairs', 'produced', 'scaled', 'down', 'version', 'of', 'our', 'experiment', 'allowing', 'angrist', 'and', 'krueger', 'to', 'conclude', 'that', 'education', 'did', 'in', 'fact', 'help', 'people', 'earn', 'more', 'money']\n"
     ]
    }
   ],
   "source": [
    "sentences=ibc_frame['sentence'].tolist()\n",
    "proc_vec=CountVectorizer()\n",
    "#feature_mat=proc_vec.fit_transform(sentences)\n",
    "analyze=proc_vec.build_analyzer()\n",
    "split_sentences=[analyze(i) for i in sentences]\n",
    "print(split_sentences[10])"
   ]
  },
  {
   "cell_type": "markdown",
   "metadata": {},
   "source": [
    "### Pre-Process training, dev, and test sets"
   ]
  },
  {
   "cell_type": "code",
   "execution_count": 97,
   "metadata": {
    "collapsed": true
   },
   "outputs": [],
   "source": [
    "def make_sentence_list(pre_proc,max_len,sentences):\n",
    "    sents=[]\n",
    "    ns=[]\n",
    "    for sentence in sentences:\n",
    "        processed_sentence=pre_proc(sentence)\n",
    "        n=len(processed_sentence)\n",
    "        if(n<max_len):\n",
    "            pad_length=max_len-n\n",
    "            processed_sentence=processed_sentence + ['000'] * pad_length\n",
    "\n",
    "        sents.append(processed_sentence[0:max_len])\n",
    "        ns.append(n)\n",
    "\n",
    "    \n",
    "    return np.array(sents), np.array(ns)"
   ]
  },
  {
   "cell_type": "code",
   "execution_count": 98,
   "metadata": {},
   "outputs": [
    {
     "name": "stdout",
     "output_type": "stream",
     "text": [
      "(3028, 55)\n",
      "(3028,)\n",
      "(865, 55)\n",
      "(865,)\n",
      "(433, 55)\n",
      "(433,)\n",
      "['in' 'atlas' 'shrugged' 'her' 'hero' 'john' 'galt' 'leads' 'capitalist'\n",
      " 'strike' 'in' 'which' 'the' 'brilliant' 'business' 'leaders' 'who' 'drive'\n",
      " 'all' 'progress' 'decide' 'that' 'they' 'will' 'no' 'longer' 'tolerate'\n",
      " 'the' 'parasitic' 'workers' 'exploiting' 'their' 'talent' 'and' 'so'\n",
      " 'they' 'withdraw' 'from' 'society' 'to' 'create' 'their' 'own'\n",
      " 'capitalistic' 'paradise' 'free' 'of' 'the' 'ungrateful' 'incompetent'\n",
      " 'masses' '000' '000' '000' '000']\n"
     ]
    }
   ],
   "source": [
    "max_len=55\n",
    "\n",
    "train_list,train_ns=make_sentence_list(analyze,max_len,train_sentences)\n",
    "dev_list,dev_ns=make_sentence_list(analyze,max_len,dev_sentences)\n",
    "test_list,test_ns=make_sentence_list(analyze,max_len,test_sentences)\n",
    "\n",
    "print(train_list.shape)\n",
    "print(train_ns.shape)\n",
    "print(test_list.shape)\n",
    "print(test_ns.shape)\n",
    "print(dev_list.shape)\n",
    "print(dev_ns.shape)\n",
    "\n",
    "print(train_list[0])"
   ]
  },
  {
   "cell_type": "markdown",
   "metadata": {},
   "source": [
    "### Embed The train, test, and dev sentences"
   ]
  },
  {
   "cell_type": "code",
   "execution_count": 99,
   "metadata": {
    "collapsed": true
   },
   "outputs": [],
   "source": [
    "def embed_sentences(sentence_array,unknown_word_embedding):\n",
    "    data=np.zeros([sentence_array.shape[0],sentence_array.shape[1],300])\n",
    "    for i in range(data.shape[0]):\n",
    "        for j in range(data.shape[1]):\n",
    "            try:\n",
    "                data[i][j]=model[train_list[i][j]]\n",
    "            except:\n",
    "                data[i][j]=unknown_word_embedding\n",
    "    return data\n",
    "        "
   ]
  },
  {
   "cell_type": "code",
   "execution_count": 100,
   "metadata": {},
   "outputs": [
    {
     "name": "stdout",
     "output_type": "stream",
     "text": [
      "(3028, 55, 300)\n",
      "(433, 55, 300)\n",
      "(865, 55, 300)\n"
     ]
    }
   ],
   "source": [
    "unknown_word_embedding=np.random.rand(1,300)\n",
    "\n",
    "train_data=embed_sentences(train_list,unknown_word_embedding)\n",
    "dev_data=embed_sentences(dev_list,unknown_word_embedding)\n",
    "test_data=embed_sentences(test_list,unknown_word_embedding)\n",
    "\n",
    "print(train_data.shape)\n",
    "print(dev_data.shape)\n",
    "print(test_data.shape)\n"
   ]
  },
  {
   "cell_type": "markdown",
   "metadata": {},
   "source": [
    "### Implement the Neural Network"
   ]
  },
  {
   "cell_type": "code",
   "execution_count": 101,
   "metadata": {
    "collapsed": true
   },
   "outputs": [],
   "source": [
    "from IPython.display import display, clear_output "
   ]
  },
  {
   "cell_type": "code",
   "execution_count": 102,
   "metadata": {},
   "outputs": [
    {
     "name": "stdout",
     "output_type": "stream",
     "text": [
      "100) RMSE = 0.2953\n"
     ]
    },
    {
     "data": {
      "image/png": "[encoded data removed]",
      "text/plain": [
       "<matplotlib.figure.Figure at 0x7fe1f8087828>"
      ]
     },
     "metadata": {},
     "output_type": "display_data"
    },
    {
     "data": {
      "image/png": "[encoded data removed]",
      "text/plain": [
       "<matplotlib.figure.Figure at 0x7fe114d46400>"
      ]
     },
     "metadata": {},
     "output_type": "display_data"
    }
   ],
   "source": [
    "# (1) Parameters\n",
    "tf.reset_default_graph()\n",
    "hidden_layer_size=10\n",
    "learning_rate=0.01\n",
    "batch_size=50\n",
    "num_ex=train_data.shape[0]\n",
    "\n",
    "# placeholder\n",
    "x_=tf.placeholder(tf.float32,shape=[None,max_len,300],name='x')\n",
    "ns_=tf.placeholder(tf.int32,shape=[None],name='ns')\n",
    "y_=tf.placeholder(tf.float32,shape=[None],name='y')\n",
    "is_training_ = tf.placeholder_with_default(True, shape=[], name='is_training')\n",
    "\n",
    "\n",
    "#define bow encoding layers\n",
    "\n",
    "\n",
    "def bow_encoding_layer(x_,ns_,is_training=None):\n",
    "    mask_ = tf.expand_dims(tf.sequence_mask(ns_, x_.shape[1],dtype=tf.float32), -1)\n",
    "    x_=tf.multiply(x_,mask_)\n",
    "    sum_embeddings=tf.reduce_sum(x_,axis=1)\n",
    "    return sum_embeddings\n",
    "\n",
    "#define model with one bow encoding layer, one hidden layer, and one output layer\n",
    "\n",
    "def model(x_,ns_,hidden_layer_size,is_training=True):\n",
    "    l1=bow_encoding_layer(x_,ns_)\n",
    "    l2=tf.layers.dense(inputs=l1,units=hidden_layer_size,activation=tf.tanh)\n",
    "    output_layer=tf.layers.dense(inputs=l2,units=1,activation=tf.nn.relu)\n",
    "    return tf.squeeze(output_layer)\n",
    "\n",
    "#Define training op and optimizer\n",
    "preds=model(x_,ns_,hidden_layer_size,is_training_)\n",
    "cc=tf.losses.mean_squared_error(y_,preds)\n",
    "gd=tf.train.GradientDescentOptimizer(learning_rate)\n",
    "outputs=tf.identity(preds)\n",
    "\n",
    "step=gd.minimize(cc)\n",
    "\n",
    "#Calculate error\n",
    "acc=tf.metrics.mean_squared_error(y_,preds)[1]\n",
    "\n",
    "\n",
    "\n",
    "#Train the Neural network, report dev/training accuracies\n",
    "with tf.Session() as sess:\n",
    "    sess.run(tf.global_variables_initializer())\n",
    "    sess.run(tf.local_variables_initializer())\n",
    "    cost_vec = []\n",
    "    acc_dev_vec = []\n",
    "    acc_train_vec = []\n",
    "    for i in range(100):\n",
    "        for start, end in zip(range(0, num_ex, batch_size), range(batch_size, num_ex, batch_size)):\n",
    "            batch = train_data[start:end], train_labels[start:end]\n",
    "            ns=train_ns[start:end]\n",
    "            _, cost = sess.run([step, cc], feed_dict={x_: batch[0],ns_: ns, y_: batch[1], is_training_: True})\n",
    "\n",
    "        dev_acc = acc.eval(feed_dict={x_: dev_data,ns_: dev_ns, y_: dev_labels, is_training_: False})\n",
    "        train_acc = acc.eval(feed_dict={x_: train_data,ns_: train_ns, y_: train_labels,is_training_: False})\n",
    "\n",
    "        cost_vec.append(cost)\n",
    "        clear_output(wait=True)\n",
    "        acc_dev_vec.append(dev_acc)\n",
    "        acc_train_vec.append(train_acc)\n",
    "        print('%d) RMSE = %.4f' %(i+1, dev_acc))\n",
    "    probas = preds.eval(feed_dict={x_: train_data,ns_: train_ns, y_: train_labels,is_training_: False})\n",
    "\n",
    "#plot the results\n",
    "plt.plot(cost_vec)  \n",
    "plt.xlabel('Number of Gradient Descent steps')\n",
    "plt.ylabel('Cost function')\n",
    "plt.show()\n",
    "\n",
    "plt.plot(acc_dev_vec)  \n",
    "plt.plot(acc_train_vec)\n",
    "plt.xlabel('Number of Gradient Descent steps')\n",
    "plt.ylabel('Train and Dev RMSE')\n",
    "plt.show()"
   ]
  },
  {
   "cell_type": "code",
   "execution_count": 32,
   "metadata": {
    "collapsed": true
   },
   "outputs": [],
   "source": [
    "probas3d = []\n",
    "for i in range(len(probas)):\n",
    "    probas3d.append(probas[i] * true_train_labels[i])"
   ]
  },
  {
   "cell_type": "code",
   "execution_count": 33,
   "metadata": {},
   "outputs": [
    {
     "data": {
      "text/plain": [
       "[array([ 0.51569659,  0.        ,  0.        ], dtype=float32),\n",
       " array([ 0.51569659,  0.        ,  0.        ], dtype=float32),\n",
       " array([ 0.51569659,  0.        ,  0.        ], dtype=float32)]"
      ]
     },
     "execution_count": 33,
     "metadata": {},
     "output_type": "execute_result"
    }
   ],
   "source": [
    "probas3d[0:3]"
   ]
  },
  {
   "cell_type": "markdown",
   "metadata": {
    "collapsed": true
   },
   "source": [
    "# Target Network"
   ]
  },
  {
   "cell_type": "code",
   "execution_count": 59,
   "metadata": {},
   "outputs": [
    {
     "data": {
      "text/plain": [
       "array([ 0.44674849,  0.42791189,  0.33344867, ...,  0.85070372,\n",
       "        0.36404848,  0.33375039])"
      ]
     },
     "execution_count": 59,
     "metadata": {},
     "output_type": "execute_result"
    }
   ],
   "source": [
    "train_labels"
   ]
  },
  {
   "cell_type": "code",
   "execution_count": 82,
   "metadata": {},
   "outputs": [
    {
     "name": "stdout",
     "output_type": "stream",
     "text": [
      "10) Cross Entropy Loss = 0.0000\n"
     ]
    },
    {
     "data": {
      "image/png": "[encoded data removed]",
      "text/plain": [
       "<matplotlib.figure.Figure at 0x7fe1e1aab940>"
      ]
     },
     "metadata": {},
     "output_type": "display_data"
    },
    {
     "data": {
      "image/png": "[encoded data removed]",
      "text/plain": [
       "<matplotlib.figure.Figure at 0x7fe1333a9780>"
      ]
     },
     "metadata": {},
     "output_type": "display_data"
    }
   ],
   "source": [
    "# Parameters\n",
    "tf.reset_default_graph()\n",
    "hidden_layer_size = 100\n",
    "depth_size = 128\n",
    "filters = [2,3,4]\n",
    "\n",
    "learning_rate = 0.01\n",
    "batch_size = 50\n",
    "num_ex = train_list.shape[0]\n",
    "num_classes = 3\n",
    "\n",
    "# placeholder\n",
    "x_=tf.placeholder(tf.float32,shape=[None, None, None],name='x')\n",
    "ns_=tf.placeholder(tf.int32,shape=[None],name='ns')\n",
    "y_=tf.placeholder(tf.int32,shape=[None, None],name='y')\n",
    "is_training_ = tf.placeholder_with_default(True, shape=[], name='is_training')\n",
    "pk1_ = tf.placeholder(tf.float32, shape=[], name='pk1')\n",
    "pk2_ = tf.placeholder(tf.float32, shape=[], name='pk2')\n",
    "pk3_ = tf.placeholder(tf.float32, shape=[], name='pk3')\n",
    "c_=tf.placeholder(tf.float32,shape=[None],name='c')\n",
    "\n",
    "max_time = train_data.shape[1]\n",
    "embed = train_data.shape[2]\n",
    "\n",
    "\n",
    "def CNN(input_x, filters, depth_size, is_training, pk1, max_time, embed):\n",
    "    \"\"\"CNN model\n",
    "\n",
    "    Args:\n",
    "      input_x: 3-d matrix of sentences converted to word embeddings [batch size, max_length, embed_dim]\n",
    "      filters: array of filter sizes to use\n",
    "      depth_size: number of filters of certain size to pass over input\n",
    "      is_training: boolean that turns on or off dropout\n",
    "\n",
    "    Returns:\n",
    "      tensor object after convolutions are applied\n",
    "    \"\"\"\n",
    "    #max_time = tf.shape(input_x)[1]\n",
    "    #embed = tf.shape(input_x)[2]\n",
    "    \n",
    "\n",
    "\n",
    "    l1 = tf.reshape(input_x, [-1, max_time, embed, 1])\n",
    "    \n",
    "    l2 = tf.cond(is_training, \n",
    "                 lambda: tf.nn.dropout(l1, pk1),\n",
    "                 lambda: l1)\n",
    "    #if is_training:\n",
    "    #    l2 = tf.nn.dropout(l1, pk1)\n",
    "    #else:\n",
    "    #    l2 = l1\n",
    "    pooled_outputs = []\n",
    "    \n",
    "    \n",
    "    for i, filter_size in enumerate(filters):\n",
    "        with tf.name_scope(\"conv-maxpool-%s\" % filter_size):\n",
    "            w1 = tf.get_variable(shape=[filter_size, embed, 1, depth_size], name = 'w1'+str(filter_size))\n",
    "            l3 = tf.nn.conv2d(l2, w1, [1,1,1,1], 'VALID')\n",
    "            l4 = tf.nn.relu(l3)\n",
    "            #l5 = tf.nn.max_pool(l4, [1, (max_time-filter_size+1), 1, 1], [1, 1, 1, 1], 'VALID')\n",
    "            l5 = tf.nn.max_pool(l4, [1, (max_time-filter_size+1), 1, 1], [1, 1, 1, 1], 'VALID')\n",
    "            \n",
    "            #print('l3', l3.shape)\n",
    "            #print('l4', l4.shape)\n",
    "            #print('l5', l5.shape)\n",
    "            \n",
    "            pooled_outputs.append(l5)\n",
    "\n",
    "\n",
    "    l5_pool = tf.concat(pooled_outputs, 3)\n",
    "    #print(l5_pool.shape)\n",
    "    l6 = tf.reshape(l5_pool, [-1, (depth_size * len(filters))])\n",
    "    return l6\n",
    "\n",
    "def target_model(input_x, filters, depth_size, h, num_classes, is_training, pk1, pk2, pk3, max_time, embed):\n",
    "    \"\"\"Total target model that applies convolutions through CCN method and\n",
    "    then applies fully connected layer and softmax output layer.\n",
    "\n",
    "    Args:\n",
    "      input_x: 3-d matrix of sentences converted to word embeddings [batch size, max_length, embed_dim]\n",
    "      filters: array of filter sizes to use\n",
    "      depth_size: number of filters of certain size to pass over input\n",
    "      h: int of hidden dimensions for fully connected layer\n",
    "      num_classes: output dimensions for softmax layer\n",
    "      is_training: boolean that turns on or off dropout\n",
    "\n",
    "    Returns:\n",
    "      logits of predicted class of sentence classification \n",
    "    \"\"\"\n",
    "    l6 = CNN(input_x, filters, depth_size, is_training, pk1, max_time, embed)\n",
    "    \n",
    "    w2 = tf.get_variable('w2', shape=[depth_size*len(filters), h])\n",
    "    b2 = tf.get_variable('b2', shape=[h])\n",
    "    w3 = tf.get_variable('w3', shape=[h, num_classes])\n",
    "    b3 = tf.get_variable('b3', shape=[num_classes])\n",
    "    \n",
    "    l7 = tf.cond(is_training, \n",
    "                 lambda: tf.nn.dropout(l6, pk2),\n",
    "                 lambda: l6)\n",
    "    l8 = tf.matmul(l7, w2) + b2\n",
    "    l9 = tf.nn.relu(l8)\n",
    "    \n",
    "    l10 = tf.cond(is_training, \n",
    "                  lambda: tf.nn.dropout(l9, pk3), \n",
    "                  lambda: l9)\n",
    "    logits = tf.matmul(l10, w3) + b3\n",
    "    #preds = tf.nn.softmax(logits)\n",
    "    \n",
    "    return logits\n",
    "\n",
    "def loss(y, preds, c, is_training):\n",
    "    \"\"\"Total target model that applies convolutions through CCN method and\n",
    "    then applies fully connected layer and softmax output layer.\n",
    "\n",
    "    Args:\n",
    "      y: actual labels\n",
    "      preds: predicted classifications\n",
    "      c: confidence scores\n",
    "\n",
    "    Returns:\n",
    "      training loss\n",
    "    \"\"\"\n",
    "\n",
    "    loss = tf.cond(is_training, \n",
    "                  lambda: tf.losses.softmax_cross_entropy(y, preds, weights=c), \n",
    "                  lambda: tf.losses.softmax_cross_entropy(y, preds))\n",
    "        \n",
    "    return loss   \n",
    "    \n",
    "\n",
    "\n",
    "preds = target_model(x_, filters, depth_size, hidden_layer_size, num_classes, is_training_, pk1_, pk2_, pk3_, max_time, embed)\n",
    "loss = loss(y_, preds, c_, is_training_)\n",
    "optimizer = tf.train.AdamOptimizer(learning_rate)\n",
    "outputs = tf.nn.softmax(preds)\n",
    "pred_outs = tf.argmax(outputs)\n",
    "\n",
    "step = optimizer.minimize(loss)\n",
    "\n",
    "#Calculate error\n",
    "acc=tf.metrics.accuracy(y_,pred_outs)[1]\n",
    "\n",
    "\n",
    "with tf.Session() as sess:\n",
    "    print('Starting training...')\n",
    "\n",
    "\n",
    "    sess.run(tf.global_variables_initializer())\n",
    "    sess.run(tf.local_variables_initializer())\n",
    "    \n",
    "   \n",
    "    \n",
    "    cost_vec = []\n",
    "    acc_dev_vec = []\n",
    "    acc_train_vec = []\n",
    "    for i in range(10):\n",
    "        for start, end in zip(range(0, num_ex, batch_size), range(batch_size, num_ex, batch_size)):\n",
    "            batch = train_data[start:end], true_y_train[start:end]\n",
    "            ##insert code to include confidence scores here\n",
    "            c_scores = probas[start:end]\n",
    "            \n",
    "            _, cost = sess.run([step, loss], feed_dict={x_: batch[0], y_: batch[1], is_training_: True, c_:c_scores,\n",
    "                                                       pk1_: .8, pk2_: .8, pk3_: .8})\n",
    "\n",
    "        dev_acc = acc.eval(feed_dict={x_: dev_data, y_: true_y_dev, is_training_: False})\n",
    "        train_acc = acc.eval(feed_dict={x_: train_data, y_: true_y_train, is_training_: False})\n",
    "\n",
    "        cost_vec.append(cost)\n",
    "        clear_output(wait=True)\n",
    "        acc_dev_vec.append(dev_acc)\n",
    "        acc_train_vec.append(train_acc)\n",
    "        print('%d) Cross Entropy Loss = %.4f' %(i+1, dev_acc))\n",
    "\n",
    "#plot the results\n",
    "plt.plot(cost_vec)  \n",
    "plt.xlabel('Number of Gradient Descent steps')\n",
    "plt.ylabel('Cost function')\n",
    "plt.show()\n",
    "\n",
    "plt.plot(acc_dev_vec)  \n",
    "plt.plot(acc_train_vec)\n",
    "plt.xlabel('Number of Gradient Descent steps')\n",
    "plt.ylabel('Train and Dev Accuracy')\n",
    "plt.show()"
   ]
  },
  {
   "cell_type": "code",
   "execution_count": null,
   "metadata": {
    "collapsed": true
   },
   "outputs": [],
   "source": [
    "dev_num_labels = []\n",
    "for label in true_dev_labels:"
   ]
  },
  {
   "cell_type": "code",
   "execution_count": 89,
   "metadata": {},
   "outputs": [
    {
     "data": {
      "text/plain": [
       "array([], shape=(0, 3), dtype=uint8)"
      ]
     },
     "execution_count": 89,
     "metadata": {},
     "output_type": "execute_result"
    }
   ],
   "source": [
    "true_y_dev"
   ]
  },
  {
   "cell_type": "code",
   "execution_count": null,
   "metadata": {
    "collapsed": true
   },
   "outputs": [],
   "source": []
  },
  {
   "cell_type": "code",
   "execution_count": null,
   "metadata": {
    "collapsed": true
   },
   "outputs": [],
   "source": []
  }
 ],
 "metadata": {
  "kernelspec": {
   "display_name": "Python 3",
   "language": "python",
   "name": "python3"
  },
  "language_info": {
   "codemirror_mode": {
    "name": "ipython",
    "version": 3
   },
   "file_extension": ".py",
   "mimetype": "text/x-python",
   "name": "python",
   "nbconvert_exporter": "python",
   "pygments_lexer": "ipython3",
   "version": "3.6.3"
  }
 },
 "nbformat": 4,
 "nbformat_minor": 2
}
