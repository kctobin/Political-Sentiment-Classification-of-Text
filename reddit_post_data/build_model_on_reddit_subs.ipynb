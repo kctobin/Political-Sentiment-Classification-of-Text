{
 "cells": [
  {
   "cell_type": "code",
   "execution_count": 1,
   "metadata": {},
   "outputs": [
    {
     "name": "stderr",
     "output_type": "stream",
     "text": [
      "/home/samird121/anaconda3/lib/python3.6/site-packages/nltk/twitter/__init__.py:20: UserWarning: The twython library has not been installed. Some functionality from the twitter package will not be available.\n",
      "  warnings.warn(\"The twython library has not been installed. \"\n"
     ]
    }
   ],
   "source": [
    "import glob\n",
    "import re\n",
    "from sklearn.linear_model import LogisticRegression\n",
    "from sklearn.naive_bayes import MultinomialNB\n",
    "from sklearn.model_selection import train_test_split\n",
    "from sklearn.metrics import classification_report\n",
    "from sklearn.model_selection import GridSearchCV\n",
    "from sklearn.feature_extraction.text import *\n",
    "import time\n",
    "import numpy as np\n",
    "from nltk.sentiment.vader import SentimentIntensityAnalyzer\n",
    "import nltk\n",
    "from scipy import sparse\n",
    "from sklearn import metrics\n",
    "import _pickle as cPickle\n",
    "import pandas as pd\n",
    "import matplotlib.pyplot as plt\n",
    "import csv"
   ]
  },
  {
   "cell_type": "code",
   "execution_count": 110,
   "metadata": {
    "collapsed": true
   },
   "outputs": [],
   "source": [
    "assertives = []\n",
    "f = open('../bias_lexicon/assertives_hooper1975.csv')\n",
    "reader = csv.reader(f)\n",
    "for line in reader:\n",
    "    assertives.append(line[0])\n",
    "    \n",
    "factives = []\n",
    "f = open('../bias_lexicon/factives_hooper1975.csv')\n",
    "reader = csv.reader(f)\n",
    "for line in reader:\n",
    "    factives.append(line[0])\n",
    "    \n",
    "hedges = []\n",
    "f = open('../bias_lexicon/hedges_hyland2005.csv')\n",
    "reader = csv.reader(f)\n",
    "for line in reader:\n",
    "    hedges.append(line[0])\n",
    "    \n",
    "implicatives = []\n",
    "f = open('../bias_lexicon/implicatives_karttunen1971.csv')\n",
    "reader = csv.reader(f)\n",
    "for line in reader:\n",
    "    implicatives.append(line[0])\n",
    "\n",
    "report_verbs = []\n",
    "f = open('../bias_lexicon/report_verbs.csv')\n",
    "reader = csv.reader(f)\n",
    "for line in reader:\n",
    "    report_verbs.append(line[0])\n",
    "    \n",
    "all_bias_words = assertives + factives+hedges+implicatives+report_verbs"
   ]
  },
  {
   "cell_type": "code",
   "execution_count": 111,
   "metadata": {
    "scrolled": true
   },
   "outputs": [
    {
     "data": {
      "text/plain": [
       "True"
      ]
     },
     "execution_count": 111,
     "metadata": {},
     "output_type": "execute_result"
    }
   ],
   "source": [
    "any(word in all_bias_words for word in 'hi on the whole accuse asccuse'.split())"
   ]
  },
  {
   "cell_type": "code",
   "execution_count": 113,
   "metadata": {
    "collapsed": true
   },
   "outputs": [],
   "source": [
    "def preprocess(sentence):\n",
    "    #take out \"\\n\", which snuck its way into every downloaded sentence\n",
    "    sentence = re.sub('\\n', '', sentence)\n",
    "    #sentence = re.sub(r\"[\\W+_]\", ' ', sentence)\n",
    "    #sentence = re.sub(r\"[^a-zA-Z0-9]\", ' ', sentence)\n",
    "    #limit sentence to 100 words\n",
    "    if len(sentence.split(' ')) > 100:\n",
    "        sentence = ' '.join(sentence.split(' ')[0:99])\n",
    "    if len(sentence.split()) > 2:\n",
    "        return sentence\n",
    "    else:\n",
    "        return None"
   ]
  },
  {
   "cell_type": "code",
   "execution_count": 115,
   "metadata": {
    "collapsed": true
   },
   "outputs": [],
   "source": [
    "#neutral, liberal, conservative\n",
    "sentences_separate = [[], []]\n",
    "folders = ['../../reddit/lib_posts/', '../../reddit/con_posts/']\n",
    "article_lengths = []\n",
    "\n",
    "for i in range(2):\n",
    "    folder = folders[i]\n",
    "    \n",
    "    #max number of sentences in article\n",
    "    article_length_limit = 10000\n",
    "    \n",
    "    count = 1\n",
    "    for fname in glob.iglob(folder+'*.txt', recursive=True):\n",
    "        \n",
    "        article_length = 0\n",
    "        for line in open(fname):\n",
    "            for s in line.split('.'):\n",
    "                if (count > limit or article_length > article_length_limit) and 1 == 2:\n",
    "                    break\n",
    "                else:\n",
    "                    s = preprocess(s)\n",
    "                    if s is not None:\n",
    "                        sentences_separate[i].append(s)\n",
    "                        count += 1\n",
    "                        article_length += 1\n",
    "        article_lengths.append(article_length)"
   ]
  },
  {
   "cell_type": "code",
   "execution_count": 116,
   "metadata": {},
   "outputs": [
    {
     "name": "stdout",
     "output_type": "stream",
     "text": [
      "44811\n",
      "129203\n"
     ]
    }
   ],
   "source": [
    "lib, con = sentences_separate[0], sentences_separate[1]\n",
    "print(len(lib))\n",
    "print(len(con))"
   ]
  },
  {
   "cell_type": "code",
   "execution_count": 122,
   "metadata": {},
   "outputs": [
    {
     "data": {
      "text/plain": [
       "44811"
      ]
     },
     "execution_count": 122,
     "metadata": {},
     "output_type": "execute_result"
    }
   ],
   "source": [
    "np.random.seed(0)\n",
    "shuffle=np.random.permutation(np.arange(len(lib)))\n",
    "con_short = list(np.array(con)[shuffle])\n",
    "len(con_short)"
   ]
  },
  {
   "cell_type": "code",
   "execution_count": 123,
   "metadata": {
    "collapsed": true
   },
   "outputs": [],
   "source": [
    "sentences = []\n",
    "labels = []\n",
    "\n",
    "for i in range(len(lib)):\n",
    "    sentences.append(lib[i])\n",
    "    labels.append('liberal')\n",
    "    \n",
    "for i in range(len(con_short)):\n",
    "    sentences.append(con_short[i])\n",
    "    labels.append('conservative')\n",
    "    \n",
    "#for i in range(len(neu)):\n",
    "#    sentences.append(neu[i])\n",
    "#    labels.append('neutral')"
   ]
  },
  {
   "cell_type": "code",
   "execution_count": 124,
   "metadata": {},
   "outputs": [
    {
     "name": "stdout",
     "output_type": "stream",
     "text": [
      "8\n",
      "719\n"
     ]
    }
   ],
   "source": [
    "lens = [len(x) for x in sentences]\n",
    "print(min(lens))\n",
    "print(max(lens))"
   ]
  },
  {
   "cell_type": "code",
   "execution_count": 126,
   "metadata": {},
   "outputs": [
    {
     "name": "stdout",
     "output_type": "stream",
     "text": [
      "you find it woven through every sage piece from the old-school pundits of the times and the hip insider websites like vox\n",
      "liberal\n",
      "\n",
      "\n",
      "“to fully achieve the goals we all share, we must do all we can to support and advocate the president-elect’s vision to restore and rebuild america’s greatness,” says ed rollins, a veteran gop strategist and a point man with the new organization\n",
      "conservative\n"
     ]
    }
   ],
   "source": [
    "print(sentences[10000])\n",
    "print(labels[10000])\n",
    "print('\\n')\n",
    "print(sentences[70000])\n",
    "print(labels[70000])"
   ]
  },
  {
   "cell_type": "code",
   "execution_count": 127,
   "metadata": {},
   "outputs": [
    {
     "data": {
      "text/plain": [
       "89622"
      ]
     },
     "execution_count": 127,
     "metadata": {},
     "output_type": "execute_result"
    }
   ],
   "source": [
    "len(sentences)"
   ]
  },
  {
   "cell_type": "markdown",
   "metadata": {},
   "source": [
    "## Split into training/test set, vectorize, and run LR model"
   ]
  },
  {
   "cell_type": "code",
   "execution_count": 9,
   "metadata": {
    "collapsed": true
   },
   "outputs": [],
   "source": [
    "#.58379 (c = .5, min_df=5, W+)\n",
    "#.595509 (c = .5, min_df=2)\n",
    "#no re.suba-z [re[rp: .587]]"
   ]
  },
  {
   "cell_type": "code",
   "execution_count": 128,
   "metadata": {},
   "outputs": [
    {
     "name": "stdout",
     "output_type": "stream",
     "text": [
      "67216\n",
      "22406\n"
     ]
    }
   ],
   "source": [
    "train_sentences, test_sentences, train_labels, test_labels = train_test_split(sentences, labels, random_state=2)\n",
    "print(len(train_sentences))\n",
    "print(len(test_sentences))"
   ]
  },
  {
   "cell_type": "code",
   "execution_count": 84,
   "metadata": {},
   "outputs": [
    {
     "data": {
      "text/plain": [
       "'conservative'"
      ]
     },
     "execution_count": 84,
     "metadata": {},
     "output_type": "execute_result"
    }
   ],
   "source": [
    "train_labels[2432]"
   ]
  },
  {
   "cell_type": "code",
   "execution_count": 129,
   "metadata": {},
   "outputs": [
    {
     "name": "stdout",
     "output_type": "stream",
     "text": [
      "58526\n"
     ]
    }
   ],
   "source": [
    "cv = CountVectorizer(min_df=5, ngram_range=(0,2))\n",
    "cv_train_sentences = cv.fit_transform(train_sentences)\n",
    "cv_test_sentences = cv.transform(test_sentences)\n",
    "print(len(cv.get_feature_names()))"
   ]
  },
  {
   "cell_type": "code",
   "execution_count": 130,
   "metadata": {},
   "outputs": [
    {
     "name": "stdout",
     "output_type": "stream",
     "text": [
      "0.5\n",
      "              precision    recall  f1-score   support\n",
      "\n",
      "conservative       0.62      0.63      0.63     11090\n",
      "     liberal       0.63      0.62      0.63     11316\n",
      "\n",
      " avg / total       0.63      0.63      0.63     22406\n",
      "\n",
      "\n",
      "f1=score: 0.627509455442\n",
      "10.882154703140259 s\n"
     ]
    }
   ],
   "source": [
    "for C in [.5]:\n",
    "    start = time.time()\n",
    "    lr_base = LogisticRegression(C = C)\n",
    "    lr_base.fit(cv_train_sentences, train_labels)\n",
    "    preds = lr_base.predict(cv_test_sentences)\n",
    "    print(C)\n",
    "    print(classification_report(test_labels, preds))\n",
    "    print(\"\\nf1=score: \"+str(metrics.f1_score(test_labels, preds, average='weighted')))\n",
    "    print((time.time()-start), 's')"
   ]
  },
  {
   "cell_type": "markdown",
   "metadata": {},
   "source": [
    "## Examine model weights, scores, etc."
   ]
  },
  {
   "cell_type": "code",
   "execution_count": 131,
   "metadata": {},
   "outputs": [
    {
     "name": "stdout",
     "output_type": "stream",
     "text": [
      "Top 10 features for liberal:\n",
      "pornography\n",
      "bundy\n",
      "ward\n",
      "falsely\n",
      "00\n",
      "cooling\n",
      "marijuana\n",
      "maher\n",
      "tigerswan\n",
      "alec\n",
      "arendt\n",
      "murphy\n",
      "trending\n",
      "sanders\n",
      "irv\n",
      "deace\n",
      "kobach\n",
      "stein\n",
      "ailes\n",
      "flint\n",
      "\n",
      "Top 10 features for conservative:\n",
      "ddt\n",
      "conservatism\n",
      "beck\n",
      "authoritarians\n",
      "tb\n",
      "uniform\n",
      "fillon\n",
      "venezuela\n",
      "patman\n",
      "adams\n",
      "entitlements\n",
      "kasich\n",
      "genetic\n",
      "jacobson\n",
      "merkel\n",
      "southern\n",
      "bernie sanders\n",
      "cameron\n",
      "mattis\n",
      "malaria\n"
     ]
    }
   ],
   "source": [
    "cv_featurenames = cv.get_feature_names()\n",
    "\n",
    "\n",
    "\n",
    "weightIndeces_con = np.argsort(lr_base.coef_[0])[-20:]\n",
    "weightIndeces_lib = np.argsort(lr_base.coef_[0])[0:20]\n",
    "#weightIndeces_neu = np.argsort(lr_base.coef_[2])[-20:]\n",
    "#weightIndeces_neu_neg = np.argsort(lr_base.coef_[2])[0:20]\n",
    "\n",
    "print('Top 10 features for liberal:')\n",
    "for index in weightIndeces_con: \n",
    "    print(cv_featurenames[index])\n",
    "\n",
    "print('\\nTop 10 features for conservative:')\n",
    "for index in weightIndeces_lib:\n",
    "    print(cv_featurenames[index])\n",
    "    \n",
    "#print('\\nTop 10 features for neutral:')\n",
    "#for index in weightIndeces_neu: \n",
    "#    print(cv_featurenames[index])\n",
    "    \n",
    "#print('\\nBottom 10 features for neutral:')\n",
    "#for index in weightIndeces_neu_neg: \n",
    "#    print(cv_featurenames[index])"
   ]
  },
  {
   "cell_type": "code",
   "execution_count": null,
   "metadata": {
    "collapsed": true
   },
   "outputs": [],
   "source": []
  },
  {
   "cell_type": "code",
   "execution_count": 133,
   "metadata": {
    "collapsed": true
   },
   "outputs": [],
   "source": [
    "pred_probs = lr_base.predict_log_proba(cv_test_sentences)"
   ]
  },
  {
   "cell_type": "code",
   "execution_count": 134,
   "metadata": {},
   "outputs": [
    {
     "name": "stdout",
     "output_type": "stream",
     "text": [
      "Top scored conservative sentences:\n",
      "• 72 percent say they are “absolutely certain” they will vote, 16 percent already have voted, 4 percent say they will “probably” vote, 4 percent say the chances are “50/50\n",
      "-0.000296777436219\n",
      "\n",
      "\n",
      "*********\n",
      "as usual, the delegates are bound for the first presidential ballot (so the hard delegate totals don’t change) – but they’re also only bound to the first presidential ballot, which means that cruz will have a say in everything else\n",
      "-0.000214385356828\n",
      "\n",
      "\n",
      "*********\n",
      "at such a brokered convention, sullivan’s plan to help swing it for rubio even if rubio has fewer delegates than trump is to convince the delegates to back rubio on a second ballot—where they would be technically unbound—and thereby essentially take the nomination away from trump, its rightful winner if he has the most delegates\n",
      "-0.000125922242061\n",
      "\n",
      "\n",
      "*********\n",
      "if nobody gets to 50 percent of the delegates, if nobody gets to 1,237, then there’s a floor fight and delegates in most of these states, every state has different rules on these delegates, most of these states – the delegates are no longer bound after the first ballot\n",
      "-4.80894034699e-05\n",
      "\n",
      "\n",
      "*********\n",
      "federal law prohibits obama funding un climate bureaucracy  after diverting zika money to un slush fund, obama demands more  congress may block obama’s $3 billion pledge to un climate fund  top scientist: un “climate finance” is subsidy for kleptocracy  obama seeks to protect un climate regime from a president trump  un carbon regime would devastate humanity  to “save our planet,” obama tramples congress and constitution  top scientists slam and ridicule un ipcc climate report  un climate summit: shackling the planet to “save” it  climate alarmists have been wrong about virtually everything\n",
      "-2.91296838262e-05\n",
      "\n",
      "\n",
      "*********\n"
     ]
    }
   ],
   "source": [
    "con_scores = [score[0] for score in pred_probs]\n",
    "top_con_indeces = np.argsort(con_scores)[-5:]\n",
    "print('Top scored conservative sentences:')\n",
    "for index in top_con_indeces:\n",
    "    print(test_sentences[index])\n",
    "    print(con_scores[index])\n",
    "    print('\\n\\n*********')"
   ]
  },
  {
   "cell_type": "code",
   "execution_count": 89,
   "metadata": {},
   "outputs": [
    {
     "name": "stdout",
     "output_type": "stream",
     "text": [
      "Top scored liberal sentences:\n",
      "trump ’ s - head politics offer an intense high\n",
      "-4.04252944924e-05\n",
      "\n",
      "\n",
      "*********\n",
      "these have on their more with border view the the are particularly sensitive since the is legally forbidden from directly on and its authority to conduct warrantless on is up for renewal in congress later this year\n",
      "-3.72103972962e-05\n",
      "\n",
      "\n",
      "*********\n",
      "in the middle east , will concede that remains in the sphere of influence , and will withdraw all support for rebel\n",
      "-3.71362738712e-05\n",
      "\n",
      "\n",
      "*********\n",
      "pollution is doing serious damage to long - term growth ; a 2006 estimate from china ' s then - deputy chief of its environmental agency that it off \" roughly 10 percent \" of\n",
      "-3.71362738712e-05\n",
      "\n",
      "\n",
      "*********\n",
      "( peter / the post ) and the more that debate on , the worse it is for trump\n",
      "-3.69041914968e-05\n",
      "\n",
      "\n",
      "*********\n",
      "fortunately for both our national - defense and the ’ pocketbook , this is not the case\n",
      "-3.39288743364e-05\n",
      "\n",
      "\n",
      "*********\n",
      "and she said , \" but caroline ' t hug you and i did\n",
      "-2.0609076986e-05\n",
      "\n",
      "\n",
      "*********\n",
      "we are met on the great battlefield of that war\n",
      "-1.94994395285e-05\n",
      "\n",
      "\n",
      "*********\n",
      "of all the in the index , the u\n",
      "-1.94277664351e-05\n",
      "\n",
      "\n",
      "*********\n",
      "despite the fact that our military more than the next 26 in the world , 25 of which we are allies with\n",
      "-1.00012274338e-05\n",
      "\n",
      "\n",
      "*********\n",
      "trump ’ s impulsiveness and rhetoric alienate many\n",
      "-3.93880023624e-06\n",
      "\n",
      "\n",
      "*********\n",
      "congressman lewis endorsed , saying : “ we should unite behind and send a clear message that trump does not represent our\n",
      "-3.93880023624e-06\n",
      "\n",
      "\n",
      "*********\n",
      "additionally , we ’ re working on ways to further enhance the that and get about activity in\n",
      "-3.21835369714e-06\n",
      "\n",
      "\n",
      "*********\n",
      "that was done when she had very little power , so imagine what she will be capable of now\n",
      "-2.94481841234e-06\n",
      "\n",
      "\n",
      "*********\n",
      "the change was categorically not economic ; it was political\n",
      "-2.94481841234e-06\n",
      "\n",
      "\n",
      "*********\n",
      "and that ’ s exactly what she ’ s to do\n",
      "-2.20161212354e-06\n",
      "\n",
      "\n",
      "*********\n",
      "of the some of the first of direct action in response to trump ’ s surprise election are making to take to the streets through ’ s inauguration and beyond\n",
      "-1.95226804176e-06\n",
      "\n",
      "\n",
      "*********\n",
      "-- 269 , 030 to 309 , 395 metric 5\n",
      "-1.58120855076e-06\n",
      "\n",
      "\n",
      "*********\n",
      "a guy who ’ s worth $ 10 billion and is “ self - ” is his campaign creep along without financial ammo for two whole ?\n",
      "-4.00032477373e-08\n",
      "\n",
      "\n",
      "*********\n",
      "but if trump narrowly to , then could be blamed for the defeat -- with for his own re - election effort in\n",
      "-4.34876579201e-11\n",
      "\n",
      "\n",
      "*********\n"
     ]
    }
   ],
   "source": [
    "lib_scores = [score[1] for score in pred_probs]\n",
    "top_lib_indeces = np.argsort(lib_scores)[-20:]\n",
    "print('Top scored liberal sentences:')\n",
    "for index in top_lib_indeces:\n",
    "    print(test_sentences[index])\n",
    "    print(lib_scores[index])\n",
    "    print('\\n\\n*********')"
   ]
  },
  {
   "cell_type": "markdown",
   "metadata": {},
   "source": [
    "## attempting to apply model to IBC data"
   ]
  },
  {
   "cell_type": "code",
   "execution_count": 90,
   "metadata": {
    "collapsed": true
   },
   "outputs": [],
   "source": [
    "ibc_frame=pd.read_csv('../full_ibc_sentences.csv')\n"
   ]
  },
  {
   "cell_type": "code",
   "execution_count": 91,
   "metadata": {},
   "outputs": [
    {
     "data": {
      "text/html": [
       "<div>\n",
       "<style>\n",
       "    .dataframe thead tr:only-child th {\n",
       "        text-align: right;\n",
       "    }\n",
       "\n",
       "    .dataframe thead th {\n",
       "        text-align: left;\n",
       "    }\n",
       "\n",
       "    .dataframe tbody tr th {\n",
       "        vertical-align: top;\n",
       "    }\n",
       "</style>\n",
       "<table border=\"1\" class=\"dataframe\">\n",
       "  <thead>\n",
       "    <tr style=\"text-align: right;\">\n",
       "      <th></th>\n",
       "      <th>label</th>\n",
       "      <th>sentence</th>\n",
       "    </tr>\n",
       "  </thead>\n",
       "  <tbody>\n",
       "    <tr>\n",
       "      <th>0</th>\n",
       "      <td>Liberal</td>\n",
       "      <td>Forcing middle-class workers to bear a greater...</td>\n",
       "    </tr>\n",
       "    <tr>\n",
       "      <th>1</th>\n",
       "      <td>Liberal</td>\n",
       "      <td>Because it would not be worthwhile to bring a ...</td>\n",
       "    </tr>\n",
       "    <tr>\n",
       "      <th>2</th>\n",
       "      <td>Liberal</td>\n",
       "      <td>Indeed , Lind argues that high profits and hig...</td>\n",
       "    </tr>\n",
       "    <tr>\n",
       "      <th>3</th>\n",
       "      <td>Liberal</td>\n",
       "      <td>In fairness , it should be noted that he devot...</td>\n",
       "    </tr>\n",
       "    <tr>\n",
       "      <th>4</th>\n",
       "      <td>Liberal</td>\n",
       "      <td>Psychological tactics are social control techn...</td>\n",
       "    </tr>\n",
       "  </tbody>\n",
       "</table>\n",
       "</div>"
      ],
      "text/plain": [
       "     label                                           sentence\n",
       "0  Liberal  Forcing middle-class workers to bear a greater...\n",
       "1  Liberal  Because it would not be worthwhile to bring a ...\n",
       "2  Liberal  Indeed , Lind argues that high profits and hig...\n",
       "3  Liberal  In fairness , it should be noted that he devot...\n",
       "4  Liberal  Psychological tactics are social control techn..."
      ]
     },
     "execution_count": 91,
     "metadata": {},
     "output_type": "execute_result"
    }
   ],
   "source": [
    "ibc_frame.head()"
   ]
  },
  {
   "cell_type": "code",
   "execution_count": 92,
   "metadata": {
    "collapsed": true
   },
   "outputs": [],
   "source": [
    "ibc_frame = ibc_frame[ibc_frame['label']!='Neutral']"
   ]
  },
  {
   "cell_type": "code",
   "execution_count": 135,
   "metadata": {},
   "outputs": [
    {
     "data": {
      "text/html": [
       "<div>\n",
       "<style>\n",
       "    .dataframe thead tr:only-child th {\n",
       "        text-align: right;\n",
       "    }\n",
       "\n",
       "    .dataframe thead th {\n",
       "        text-align: left;\n",
       "    }\n",
       "\n",
       "    .dataframe tbody tr th {\n",
       "        vertical-align: top;\n",
       "    }\n",
       "</style>\n",
       "<table border=\"1\" class=\"dataframe\">\n",
       "  <thead>\n",
       "    <tr style=\"text-align: right;\">\n",
       "      <th></th>\n",
       "      <th>sentence</th>\n",
       "    </tr>\n",
       "    <tr>\n",
       "      <th>label</th>\n",
       "      <th></th>\n",
       "    </tr>\n",
       "  </thead>\n",
       "  <tbody>\n",
       "    <tr>\n",
       "      <th>Conservative</th>\n",
       "      <td>1701</td>\n",
       "    </tr>\n",
       "    <tr>\n",
       "      <th>Liberal</th>\n",
       "      <td>2025</td>\n",
       "    </tr>\n",
       "  </tbody>\n",
       "</table>\n",
       "</div>"
      ],
      "text/plain": [
       "              sentence\n",
       "label                 \n",
       "Conservative      1701\n",
       "Liberal           2025"
      ]
     },
     "execution_count": 135,
     "metadata": {},
     "output_type": "execute_result"
    }
   ],
   "source": [
    "ibc_frame.groupby('label').count()"
   ]
  },
  {
   "cell_type": "code",
   "execution_count": 136,
   "metadata": {},
   "outputs": [
    {
     "name": "stdout",
     "output_type": "stream",
     "text": [
      "3726\n",
      "3726\n"
     ]
    }
   ],
   "source": [
    "ibc_labels = list(ibc_frame['label'])\n",
    "ibc_labels = [label.lower() for label in ibc_labels]\n",
    "ibc_sentences = list(ibc_frame['sentence'])\n",
    "#ibc_sentences = [preprocess(sentence) for sentence in ibc_sentences]\n",
    "cv_ibc_sentences = cv.transform(ibc_sentences)\n",
    "print(len(ibc_labels))\n",
    "print(len(ibc_sentences))"
   ]
  },
  {
   "cell_type": "code",
   "execution_count": 137,
   "metadata": {},
   "outputs": [
    {
     "name": "stdout",
     "output_type": "stream",
     "text": [
      "              precision    recall  f1-score   support\n",
      "\n",
      "conservative       0.51      0.50      0.50      1701\n",
      "     liberal       0.58      0.59      0.59      2025\n",
      "\n",
      " avg / total       0.55      0.55      0.55      3726\n",
      "\n",
      "\n",
      "f1=score: 0.548791352321\n",
      "0.549114331723\n"
     ]
    }
   ],
   "source": [
    "IBC_preds = lr_base.predict(cv_ibc_sentences)\n",
    "print(classification_report(ibc_labels, IBC_preds))\n",
    "print(\"\\nf1=score: \"+str(metrics.f1_score(ibc_labels, IBC_preds, average='weighted')))\n",
    "print(sum(IBC_preds==ibc_labels)/len(ibc_labels))"
   ]
  },
  {
   "cell_type": "code",
   "execution_count": 138,
   "metadata": {},
   "outputs": [
    {
     "data": {
      "text/html": [
       "<div>\n",
       "<style>\n",
       "    .dataframe thead tr:only-child th {\n",
       "        text-align: right;\n",
       "    }\n",
       "\n",
       "    .dataframe thead th {\n",
       "        text-align: left;\n",
       "    }\n",
       "\n",
       "    .dataframe tbody tr th {\n",
       "        vertical-align: top;\n",
       "    }\n",
       "</style>\n",
       "<table border=\"1\" class=\"dataframe\">\n",
       "  <thead>\n",
       "    <tr style=\"text-align: right;\">\n",
       "      <th></th>\n",
       "      <th>label</th>\n",
       "      <th>sentence</th>\n",
       "      <th>con_score</th>\n",
       "      <th>lib_score</th>\n",
       "      <th>prediction</th>\n",
       "    </tr>\n",
       "  </thead>\n",
       "  <tbody>\n",
       "    <tr>\n",
       "      <th>0</th>\n",
       "      <td>Liberal</td>\n",
       "      <td>Forcing middle-class workers to bear a greater...</td>\n",
       "      <td>0.122431</td>\n",
       "      <td>0.877569</td>\n",
       "      <td>liberal</td>\n",
       "    </tr>\n",
       "    <tr>\n",
       "      <th>1</th>\n",
       "      <td>Liberal</td>\n",
       "      <td>Because it would not be worthwhile to bring a ...</td>\n",
       "      <td>0.434909</td>\n",
       "      <td>0.565091</td>\n",
       "      <td>liberal</td>\n",
       "    </tr>\n",
       "    <tr>\n",
       "      <th>2</th>\n",
       "      <td>Liberal</td>\n",
       "      <td>Indeed , Lind argues that high profits and hig...</td>\n",
       "      <td>0.039255</td>\n",
       "      <td>0.960745</td>\n",
       "      <td>liberal</td>\n",
       "    </tr>\n",
       "    <tr>\n",
       "      <th>3</th>\n",
       "      <td>Liberal</td>\n",
       "      <td>In fairness , it should be noted that he devot...</td>\n",
       "      <td>0.187321</td>\n",
       "      <td>0.812679</td>\n",
       "      <td>liberal</td>\n",
       "    </tr>\n",
       "    <tr>\n",
       "      <th>4</th>\n",
       "      <td>Liberal</td>\n",
       "      <td>Psychological tactics are social control techn...</td>\n",
       "      <td>0.320699</td>\n",
       "      <td>0.679301</td>\n",
       "      <td>liberal</td>\n",
       "    </tr>\n",
       "  </tbody>\n",
       "</table>\n",
       "</div>"
      ],
      "text/plain": [
       "     label                                           sentence  con_score  \\\n",
       "0  Liberal  Forcing middle-class workers to bear a greater...   0.122431   \n",
       "1  Liberal  Because it would not be worthwhile to bring a ...   0.434909   \n",
       "2  Liberal  Indeed , Lind argues that high profits and hig...   0.039255   \n",
       "3  Liberal  In fairness , it should be noted that he devot...   0.187321   \n",
       "4  Liberal  Psychological tactics are social control techn...   0.320699   \n",
       "\n",
       "   lib_score prediction  \n",
       "0   0.877569    liberal  \n",
       "1   0.565091    liberal  \n",
       "2   0.960745    liberal  \n",
       "3   0.812679    liberal  \n",
       "4   0.679301    liberal  "
      ]
     },
     "execution_count": 138,
     "metadata": {},
     "output_type": "execute_result"
    }
   ],
   "source": [
    "\n",
    "IBC_proba = lr_base.predict_proba(cv_ibc_sentences)\n",
    "IBC_weak_labels = ibc_frame\n",
    "IBC_weak_labels['con_score'] = [x[0] for x in IBC_proba]\n",
    "IBC_weak_labels['lib_score'] = [x[1] for x in IBC_proba]\n",
    "#IBC_weak_labels['neu_score'] = [x[2] for x in IBC_proba]\n",
    "IBC_weak_labels['prediction'] = IBC_preds\n",
    "IBC_weak_labels.head()"
   ]
  },
  {
   "cell_type": "code",
   "execution_count": 139,
   "metadata": {},
   "outputs": [
    {
     "data": {
      "text/plain": [
       "(3726, 5)"
      ]
     },
     "execution_count": 139,
     "metadata": {},
     "output_type": "execute_result"
    }
   ],
   "source": [
    "IBC_weak_labels.shape"
   ]
  },
  {
   "cell_type": "code",
   "execution_count": 140,
   "metadata": {
    "collapsed": true
   },
   "outputs": [],
   "source": [
    "IBC_weak_labels.to_csv('../IBC_weak_labels_conlibonly_noprog.csv')"
   ]
  },
  {
   "cell_type": "code",
   "execution_count": null,
   "metadata": {
    "collapsed": true
   },
   "outputs": [],
   "source": [
    "f = open('IBC_weak_labels.txt', 'w')\n",
    "for i in range(IBC_sentences):\n",
    "    \n"
   ]
  },
  {
   "cell_type": "markdown",
   "metadata": {},
   "source": [
    "### Below are my attempts to implement sentiment analysis in the predictive model - not working yet, so you can probably ignore all this for now."
   ]
  },
  {
   "cell_type": "code",
   "execution_count": 79,
   "metadata": {
    "collapsed": true
   },
   "outputs": [],
   "source": [
    "sid = SentimentIntensityAnalyzer()\n",
    "pscores = []\n",
    "i = 1\n",
    "for sentence in sentences:\n",
    "    pscores.append(sid.polarity_scores(sentence)['compound'])"
   ]
  },
  {
   "cell_type": "code",
   "execution_count": 80,
   "metadata": {},
   "outputs": [
    {
     "name": "stdout",
     "output_type": "stream",
     "text": [
      "87952\n",
      "29318\n"
     ]
    }
   ],
   "source": [
    "train_sentences, test_sentences, train_labels, test_labels, train_pscores, test_pscores = train_test_split(sentences, labels, pscores, random_state=2)\n",
    "print(len(train_sentences))\n",
    "print(len(test_sentences))"
   ]
  },
  {
   "cell_type": "code",
   "execution_count": 84,
   "metadata": {},
   "outputs": [
    {
     "name": "stdout",
     "output_type": "stream",
     "text": [
      "60793\n"
     ]
    }
   ],
   "source": [
    "cv = CountVectorizer(min_df=5, ngram_range=(0,2))\n",
    "cv_train_sentences = cv.fit_transform(train_sentences)\n",
    "cv_test_sentences = cv.transform(test_sentences)\n",
    "print(len(cv.get_feature_names()))"
   ]
  },
  {
   "cell_type": "code",
   "execution_count": 85,
   "metadata": {
    "collapsed": true
   },
   "outputs": [],
   "source": [
    "train_pscore_sparse = sparse.csr_matrix(train_pscores)\n",
    "train_pscore_int = sparse.csc_matrix.multiply(np.transpose(train_pscore_sparse), cv_train_sentences)\n",
    "stacked_train_sentences = sparse.hstack([cv_train_sentences, np.transpose(train_pscore_sparse), train_pscore_int])\n",
    "\n",
    "test_pscore_sparse = sparse.csr_matrix(test_pscores)\n",
    "test_pscore_int = sparse.csc_matrix.multiply(np.transpose(test_pscore_sparse), cv_test_sentences)\n",
    "stacked_test_sentences = sparse.hstack([cv_test_sentences, np.transpose(test_pscore_sparse), test_pscore_int])"
   ]
  },
  {
   "cell_type": "code",
   "execution_count": 87,
   "metadata": {},
   "outputs": [
    {
     "name": "stdout",
     "output_type": "stream",
     "text": [
      "1\n",
      "              precision    recall  f1-score   support\n",
      "\n",
      "conservative       0.54      0.54      0.54      9767\n",
      "     liberal       0.57      0.55      0.56      9955\n",
      "     neutral       0.60      0.62      0.61      9596\n",
      "\n",
      " avg / total       0.57      0.57      0.57     29318\n",
      "\n",
      "\n",
      "f1=score: 0.568834883968\n",
      "2.563340691725413 min\n"
     ]
    }
   ],
   "source": [
    "for C in [1]:\n",
    "    start = time.time()\n",
    "    lr_pscore = LogisticRegression(C = C)\n",
    "    lr_pscore.fit(stacked_train_sentences, train_labels)\n",
    "    preds = lr_pscore.predict(stacked_test_sentences)\n",
    "    print(C)\n",
    "    print(classification_report(test_labels, preds))\n",
    "    print(\"\\nf1=score: \"+str(metrics.f1_score(test_labels, preds, average='weighted')))\n",
    "    print((time.time()-start)/60, 'min')"
   ]
  },
  {
   "cell_type": "code",
   "execution_count": 38,
   "metadata": {},
   "outputs": [
    {
     "name": "stdout",
     "output_type": "stream",
     "text": [
      "(photo by lane turner/the boston globe via getty images) newton, ma - march 1 president bill clinton greets people at the newton free library in newton, mass., during massachusetts primary voting on march 1, 2016.\n",
      "-0.0381862752356\n",
      "-0.1263\n",
      "liberal\n",
      "\n",
      "\n",
      "*********\n",
      "(photo by lane turner/the boston globe via getty images) newton, ma - march 1 president bill clinton greets people at the newton free library in newton, mass., during massachusetts primary voting on march 1, 2016.\n",
      "-0.0381862752356\n",
      "0.25\n",
      "liberal\n",
      "\n",
      "\n",
      "*********\n",
      "# we can now finally start adding statements to the table for name, _, __, rating, date, text in stmnt_list\"statements\" cur.execute(\"insert into stmnt (pid, aid, s_date, text) values (\" + str(pid_tablename.replace(\" \", \" \")) + \", \" + str(aid_tablerating) + \", '\" + date.strftime('%y%m%d') + \"', '\" + text.replace(\"'\", \"''\") + \"')\") cur.connection.commit() def main() conn  sql.connect(host'localhost', user  \"root\", passwdmy_pass, db\"mysql\", charset  \"utf8\") cur  conn.cursor() cur.execute(\"use politifactscraper\") politifact_base  \"http//www.politifact.com\" html  urlopen(politifact_base + \"/personalities/\") bsobj  beautifulsoup(html.read(), \"lxml\") people  bsobj.findall(\"li\", \"class\" \"az-list__item\") people_affil  p for p in people if (p.find(\"span\", \"class\"\"people-party\") !\n",
      "-0.0170862404775\n",
      "0.0\n",
      "liberal\n",
      "\n",
      "\n",
      "*********\n",
      "funding the war on local democracy  governor snyder's controversial emergency manager law is a cornerstone of the right wing's war on labor and local democracy in michigan, which has been orchestrated by a network of \"think tanks\" and committees backed by the billionaire devos family, the michigan chamber of commerce, the kochs, and other politicos.\n",
      "-0.035169836347\n",
      "-0.6808\n",
      "liberal\n",
      "\n",
      "\n",
      "*********\n",
      "for thousands of years, economists and economic observers from aristotle to adam smith to thomas picketty have told us that a middle class is not a normal by-product of raw, unregulated capitalism  what right-wing ideologues call the free market.  instead, unregulated markets  particularly markets not regulated by significant taxation on predatory incomes  invariably lead to the opposite of a healthy middle class they produce extremes of inequality, which are as dangerous to democracy as cancer is to a living being.\n",
      "-0.00958811221338\n",
      "0.0\n",
      "liberal\n",
      "\n",
      "\n",
      "*********\n",
      "hillary clinton has fought for campaign finance reform her entire career and, as president, will make it a priority to overturn citizens united and restore the role of everyday voters in elections.  sanders has made his small-dollar-infused campaign a hallmark of his stump speech, boasting that he is the candidate of the little guy, to the point where supporters in iowa could finish the portion of his stump speech in which he crowed that the average donation was $27.\n",
      "-0.0126202718157\n",
      "0.0\n",
      "liberal\n",
      "\n",
      "\n",
      "*********\n",
      "the international climate change taskforce was launched on 16 march 2004 by three of the worlds leading think tanks the australia institute, the institute for public policy research in london and the center for america progress in washington dc. the center for america progress (cap), founded by john podesta with money from the offshore quantum hedge funds, has been a closely-associated power to the democratic party, strongly pushing it to the left.\n",
      "-0.0481960594692\n",
      "0.0\n",
      "liberal\n",
      "\n",
      "\n",
      "*********\n",
      "http//english.palinfo.com/site/pages/details.aspxitemid79994  israeli settlers attack palestinian girl in ramallah, stab and kill her sheep  ramallah (maan) 4 aug  a group of israeli settlers attacked and beat a palestinian girl in the village of rammun in the eastern part of the occupied west bank district of ramallah on thursday, according to palestinian locals and an israeli police spokesperson.\n",
      "-0.0235701514391\n",
      "0.0772\n",
      "liberal\n",
      "\n",
      "\n",
      "*********\n",
      "clinton added that the agreement must be strictly enforced and said that if elected president next year, she would not hesitate to use military force if iran fails to live up to its word and tries to develop a bomb afp/getty images  19/30 clinton campaign 8/09/2015 hillary clinton does the \"nae nae\" dance move with dj stephen \"twitch\" boss (l) and television host ellen degeneres (r) during a taping of \"the ellen degeneres show\" in new york  20/30 clinton campaign 26/08/2015 hillary clinton greets guests during a campaign event at tabor home vineyards and winery in baldwin, iowa.\n",
      "-0.00926402847335\n",
      "0.0\n",
      "liberal\n",
      "\n",
      "\n",
      "*********\n",
      "smick, author of the great equalizer, was the greatest transfer of middle-class and elderly wealth to elite financial interests in the history of mankind. notice that these post-recession transactions were mostly financial transactions, divorced from the traditional american passion for building things, innovating, and taking risksthe kinds of activities that spur entrepreneurial zest, generate new enterprises, and create jobs.\n",
      "-0.0762760634631\n",
      "-0.0772\n",
      "liberal\n",
      "\n",
      "\n",
      "*********\n",
      "office  250 vesey street,  23rd and 24th floors  new york, ny 10281  212-225-5000  scotia howard weil (energy investment boutique)  energy centre  1100 poydras street suite 3500  new orleans, la 70163  504-582-2500 and 800-322-3005  howardweilhowardweil.com  citizens bank  chairman and ceo bruce van saun  head of media relations  peter lucht  peter.luchtcitizensbank.com  781-655-2289  consumer lending, business banking, wealth management, corporate  lauren digeronimo  lauren.digeronimocitizensbank.com  781-471-1454  corporate office  1 citizens plaza  providence, ri 02903  401-456-7000  comerica bank  chairman\n",
      "-0.0216129653417\n",
      "0.3612\n",
      "liberal\n",
      "\n",
      "\n",
      "*********\n",
      "and keith ellison also was a major part of trying to fight against the rigging of the primary system under debbie wasserman schultzs leadership at the dnc, which of course we now know from a variety of documents and public statements by people, that the whole thing was essentially a fraud intended to ensure that bernie sanders was not going to be the nominee and the ironic thing about that is he probably would have been the democrats best chance of beating donald trump because bernie sanders was perceived as an outsider, despite the fact that he spent so\n",
      "-0.0114901162785\n",
      "0.0\n",
      "liberal\n",
      "\n",
      "\n",
      "*********\n",
      "bernies best bet to broaden his support is with young latinos and young african-americans, as 84% and 83% of 18-29-year-olds voted for bernie in iowa and new hampshire, respectively, but those electorates were almost entirely white that, however, will just be the beginning, and he will need to win more moderate white and/or minority democratic voters, as well, for him to even have a chance.\n",
      "-0.0160022656538\n",
      "0.0\n",
      "liberal\n",
      "\n",
      "\n",
      "*********\n",
      "the soviet economys record of growth under public ownership and planning  from the moment in 1928 that the soviet economy became publicly owned and planned, to the point in 1989 that the economy was pushed in a free market direction, soviet gdp per capita growth exceeded that of all other countries but japan, south korea and taiwan.\n",
      "-0.0126672429497\n",
      "0.6124\n",
      "liberal\n",
      "\n",
      "\n",
      "*********\n",
      "the damning dnc emails released by wikileaks include one from dnc press secretary mark paustenbach to communications director luis miranda discussing how to create a narrative in the media that sanders campaign was a mess an email from dnc chief financial officer brad marshall to ceo amy dacey proposing having someone ask sanders about his religious beliefs in kentucky and west virginia, saying that southern baptists would draw a big difference between a jew and an atheist and an email in which dnc chair debbie wasserman schultz discusses how hillary for america proposed using israel as an ideal issue\n",
      "-0.00396218836925\n",
      "0.0\n",
      "liberal\n",
      "\n",
      "\n",
      "*********\n",
      "http//www.maannews.com/content.aspxid772471  private palestinian land under threat of confiscation for evacuees of illegal israeli outpost  bethlehem (maan) 3 aug  israeli human rights watchdog peace now slammed on tuesday a recent position by an israeli government committee advocating the leasing of privately held palestinian property for the resettlement of israeli settlers residing in the nearby illegal outpost of amona in the occupied west bank district of nablus, which was ordered by israels supreme court to be demolished by the end of the year.\n",
      "-0.00615122992244\n",
      "-0.6808\n",
      "liberal\n",
      "\n",
      "\n",
      "*********\n",
      "eighty-five percent of sanders supporters intend to vote for clinton read more  adrienne snyder, 54, california jill stein  jill stein is a true progressive whose views have a great deal in common with bernie sanders, so now my vote must go to her.\n",
      "-0.00219692882501\n",
      "-0.802\n",
      "liberal\n",
      "\n",
      "\n",
      "*********\n",
      "while clinton won early voting in arizona  which took place around the time of voting in the deep south  by a 25.4 percent margin, election day and provisional ballots in the heavily latino state (which all came in as sanders was decimating clintons lead among nonwhite voters in mid-march) favored sanders 51.4 percent to 48.6 percent (82,470 votes for sanders, 77,849 for clinton).\n",
      "-0.00300188807992\n",
      "0.5719\n",
      "liberal\n",
      "\n",
      "\n",
      "*********\n",
      "http//www.dailymail.co.uk/wires/afp/article-3721138/israeli-army-donkey-sales-stir-palestinian-outrage.html  gaza  iof arrests youth for trying to cross gaza border fence  gaza (pic) 3 aug  israeli occupation forces (iof) arrested a palestinian youth while trying to cross the gaza strip border fence on wednesday.\n",
      "-0.00760036801643\n",
      "0.0\n",
      "liberal\n",
      "\n",
      "\n",
      "*********\n",
      "elements of the blueprint to rebuild america's infrastructure and create 15 million jobs include investments in   broadband $20 billion investment, create an estimated 260,000 new jobs   revitalize americas main streets $100 billion investment, create an estimated 1.3 million jobs   water and sewer $110 billion investment, create an estimated 2.5 million new jobs   schools $75 billion investment, create an estimated 975,000 new jobs   roads and bridges $200 billion investment, create more than 2.7 million new jobs  leahy, who helped write the plan and ensured its emphasis on rural communities,\n",
      "-0.0117115704261\n",
      "0.6249\n",
      "liberal\n",
      "\n",
      "\n",
      "*********\n"
     ]
    }
   ],
   "source": [
    "pred_probs_pscore = lr_pscore.predict_log_proba(stacked_test_sentences)\n",
    "lib_scores_pscore = [score[1] for score in pred_probs_pscore]\n",
    "top_con_indeces = np.argsort(lib_scores_pscore)[-20:]\n",
    "for index in top_con_indeces:\n",
    "    print(test_sentences[index])\n",
    "    print(lib_scores[index])\n",
    "    print(pscores[index])\n",
    "    print(labels[index])\n",
    "    print('\\n\\n*********')"
   ]
  },
  {
   "cell_type": "markdown",
   "metadata": {},
   "source": [
    "## test on IBC data"
   ]
  },
  {
   "cell_type": "code",
   "execution_count": 86,
   "metadata": {
    "collapsed": true
   },
   "outputs": [],
   "source": []
  },
  {
   "cell_type": "code",
   "execution_count": 87,
   "metadata": {},
   "outputs": [
    {
     "data": {
      "text/html": [
       "<div>\n",
       "<style>\n",
       "    .dataframe thead tr:only-child th {\n",
       "        text-align: right;\n",
       "    }\n",
       "\n",
       "    .dataframe thead th {\n",
       "        text-align: left;\n",
       "    }\n",
       "\n",
       "    .dataframe tbody tr th {\n",
       "        vertical-align: top;\n",
       "    }\n",
       "</style>\n",
       "<table border=\"1\" class=\"dataframe\">\n",
       "  <thead>\n",
       "    <tr style=\"text-align: right;\">\n",
       "      <th></th>\n",
       "      <th>label</th>\n",
       "      <th>sentence</th>\n",
       "    </tr>\n",
       "  </thead>\n",
       "  <tbody>\n",
       "    <tr>\n",
       "      <th>0</th>\n",
       "      <td>Liberal</td>\n",
       "      <td>Forcing middle-class workers to bear a greater...</td>\n",
       "    </tr>\n",
       "    <tr>\n",
       "      <th>1</th>\n",
       "      <td>Liberal</td>\n",
       "      <td>Because it would not be worthwhile to bring a ...</td>\n",
       "    </tr>\n",
       "    <tr>\n",
       "      <th>2</th>\n",
       "      <td>Liberal</td>\n",
       "      <td>Indeed , Lind argues that high profits and hig...</td>\n",
       "    </tr>\n",
       "    <tr>\n",
       "      <th>3</th>\n",
       "      <td>Liberal</td>\n",
       "      <td>In fairness , it should be noted that he devot...</td>\n",
       "    </tr>\n",
       "    <tr>\n",
       "      <th>4</th>\n",
       "      <td>Liberal</td>\n",
       "      <td>Psychological tactics are social control techn...</td>\n",
       "    </tr>\n",
       "    <tr>\n",
       "      <th>5</th>\n",
       "      <td>Liberal</td>\n",
       "      <td>The uncontrolled profit motive is destroying h...</td>\n",
       "    </tr>\n",
       "    <tr>\n",
       "      <th>6</th>\n",
       "      <td>Liberal</td>\n",
       "      <td>Organizations representing the religious right...</td>\n",
       "    </tr>\n",
       "    <tr>\n",
       "      <th>7</th>\n",
       "      <td>Liberal</td>\n",
       "      <td>A market based on greed and fear has tugged on...</td>\n",
       "    </tr>\n",
       "    <tr>\n",
       "      <th>8</th>\n",
       "      <td>Liberal</td>\n",
       "      <td>THE CONSERVATIVE MOVEMENT IS ROOTED IN A COHER...</td>\n",
       "    </tr>\n",
       "    <tr>\n",
       "      <th>9</th>\n",
       "      <td>Liberal</td>\n",
       "      <td>By eliminating the private insurer , you could...</td>\n",
       "    </tr>\n",
       "    <tr>\n",
       "      <th>10</th>\n",
       "      <td>Liberal</td>\n",
       "      <td>The additional schooling foisted upon one grou...</td>\n",
       "    </tr>\n",
       "    <tr>\n",
       "      <th>11</th>\n",
       "      <td>Liberal</td>\n",
       "      <td>If the government will do its job and prevent ...</td>\n",
       "    </tr>\n",
       "    <tr>\n",
       "      <th>12</th>\n",
       "      <td>Liberal</td>\n",
       "      <td>The rich countries that are primarily responsi...</td>\n",
       "    </tr>\n",
       "    <tr>\n",
       "      <th>13</th>\n",
       "      <td>Liberal</td>\n",
       "      <td>These people said to us : Well , if you just w...</td>\n",
       "    </tr>\n",
       "    <tr>\n",
       "      <th>14</th>\n",
       "      <td>Liberal</td>\n",
       "      <td>Inevitably this forced them to cut some $ 270 ...</td>\n",
       "    </tr>\n",
       "    <tr>\n",
       "      <th>15</th>\n",
       "      <td>Liberal</td>\n",
       "      <td>Hostility to taxes and open redistribution ref...</td>\n",
       "    </tr>\n",
       "    <tr>\n",
       "      <th>16</th>\n",
       "      <td>Liberal</td>\n",
       "      <td>I THINK the central idea in Marxism is of cour...</td>\n",
       "    </tr>\n",
       "    <tr>\n",
       "      <th>17</th>\n",
       "      <td>Liberal</td>\n",
       "      <td>Baucus had played a key role in helping George...</td>\n",
       "    </tr>\n",
       "    <tr>\n",
       "      <th>18</th>\n",
       "      <td>Liberal</td>\n",
       "      <td>We are not going to let working families who a...</td>\n",
       "    </tr>\n",
       "    <tr>\n",
       "      <th>19</th>\n",
       "      <td>Liberal</td>\n",
       "      <td>Johnston shows why lowincome people using the ...</td>\n",
       "    </tr>\n",
       "    <tr>\n",
       "      <th>20</th>\n",
       "      <td>Liberal</td>\n",
       "      <td>Del Vecchio 's words manifest not merely an et...</td>\n",
       "    </tr>\n",
       "    <tr>\n",
       "      <th>21</th>\n",
       "      <td>Liberal</td>\n",
       "      <td>Medical workers and other scientists should be...</td>\n",
       "    </tr>\n",
       "    <tr>\n",
       "      <th>22</th>\n",
       "      <td>Liberal</td>\n",
       "      <td>Besides acidification , there are serious effe...</td>\n",
       "    </tr>\n",
       "    <tr>\n",
       "      <th>23</th>\n",
       "      <td>Liberal</td>\n",
       "      <td>One reason is that the Keynesian intellectual ...</td>\n",
       "    </tr>\n",
       "    <tr>\n",
       "      <th>24</th>\n",
       "      <td>Liberal</td>\n",
       "      <td>It is possible to create a high-functioning un...</td>\n",
       "    </tr>\n",
       "    <tr>\n",
       "      <th>25</th>\n",
       "      <td>Liberal</td>\n",
       "      <td>The drying up and contamination of freshwater ...</td>\n",
       "    </tr>\n",
       "    <tr>\n",
       "      <th>26</th>\n",
       "      <td>Liberal</td>\n",
       "      <td>` Yes , we are going to balance the budget in ...</td>\n",
       "    </tr>\n",
       "    <tr>\n",
       "      <th>27</th>\n",
       "      <td>Liberal</td>\n",
       "      <td>Two brass rings now seem within reach of today...</td>\n",
       "    </tr>\n",
       "    <tr>\n",
       "      <th>28</th>\n",
       "      <td>Liberal</td>\n",
       "      <td>It is our contention that most of the critical...</td>\n",
       "    </tr>\n",
       "    <tr>\n",
       "      <th>29</th>\n",
       "      <td>Liberal</td>\n",
       "      <td>The crisis demonstrated how wrong their views ...</td>\n",
       "    </tr>\n",
       "    <tr>\n",
       "      <th>...</th>\n",
       "      <td>...</td>\n",
       "      <td>...</td>\n",
       "    </tr>\n",
       "    <tr>\n",
       "      <th>4296</th>\n",
       "      <td>Neutral</td>\n",
       "      <td>If I give you a $ 50 gift card for Best Buy an...</td>\n",
       "    </tr>\n",
       "    <tr>\n",
       "      <th>4297</th>\n",
       "      <td>Neutral</td>\n",
       "      <td>He threatened to scuttle Tehran 's stock marke...</td>\n",
       "    </tr>\n",
       "    <tr>\n",
       "      <th>4298</th>\n",
       "      <td>Neutral</td>\n",
       "      <td>The digital Beatles are invariably depicted to...</td>\n",
       "    </tr>\n",
       "    <tr>\n",
       "      <th>4299</th>\n",
       "      <td>Neutral</td>\n",
       "      <td>His reluctance will be all the greater if save...</td>\n",
       "    </tr>\n",
       "    <tr>\n",
       "      <th>4300</th>\n",
       "      <td>Neutral</td>\n",
       "      <td>As an American report noted , `` The tradition...</td>\n",
       "    </tr>\n",
       "    <tr>\n",
       "      <th>4301</th>\n",
       "      <td>Neutral</td>\n",
       "      <td>By accountability , we are talking about rewar...</td>\n",
       "    </tr>\n",
       "    <tr>\n",
       "      <th>4302</th>\n",
       "      <td>Neutral</td>\n",
       "      <td>Family relations , marriage , motherhood , iso...</td>\n",
       "    </tr>\n",
       "    <tr>\n",
       "      <th>4303</th>\n",
       "      <td>Neutral</td>\n",
       "      <td>Working from the ground and the air , their pr...</td>\n",
       "    </tr>\n",
       "    <tr>\n",
       "      <th>4304</th>\n",
       "      <td>Neutral</td>\n",
       "      <td>If you 've had the opportunity to drive a car ...</td>\n",
       "    </tr>\n",
       "    <tr>\n",
       "      <th>4305</th>\n",
       "      <td>Neutral</td>\n",
       "      <td>Its horror stories of alcoholism , abuse , mis...</td>\n",
       "    </tr>\n",
       "    <tr>\n",
       "      <th>4306</th>\n",
       "      <td>Neutral</td>\n",
       "      <td>Meanwhile , one of the gunmen threatened to ki...</td>\n",
       "    </tr>\n",
       "    <tr>\n",
       "      <th>4307</th>\n",
       "      <td>Neutral</td>\n",
       "      <td>What Hiss personified , finally , was a social...</td>\n",
       "    </tr>\n",
       "    <tr>\n",
       "      <th>4308</th>\n",
       "      <td>Neutral</td>\n",
       "      <td>You ca n't just follow them because they make ...</td>\n",
       "    </tr>\n",
       "    <tr>\n",
       "      <th>4309</th>\n",
       "      <td>Neutral</td>\n",
       "      <td>This systematic harassment even violates laws ...</td>\n",
       "    </tr>\n",
       "    <tr>\n",
       "      <th>4310</th>\n",
       "      <td>Neutral</td>\n",
       "      <td>Surely , a brutal campaign in Sunni Iraq would...</td>\n",
       "    </tr>\n",
       "    <tr>\n",
       "      <th>4311</th>\n",
       "      <td>Neutral</td>\n",
       "      <td>A mass killer is by definition one who makes m...</td>\n",
       "    </tr>\n",
       "    <tr>\n",
       "      <th>4312</th>\n",
       "      <td>Neutral</td>\n",
       "      <td>After first trying to convince the authorities...</td>\n",
       "    </tr>\n",
       "    <tr>\n",
       "      <th>4313</th>\n",
       "      <td>Neutral</td>\n",
       "      <td>It is certainly true that high doses of radiat...</td>\n",
       "    </tr>\n",
       "    <tr>\n",
       "      <th>4314</th>\n",
       "      <td>Neutral</td>\n",
       "      <td>She uncovered a tsunami of drunk driving , rob...</td>\n",
       "    </tr>\n",
       "    <tr>\n",
       "      <th>4315</th>\n",
       "      <td>Neutral</td>\n",
       "      <td>He strove desperately to find some guilty part...</td>\n",
       "    </tr>\n",
       "    <tr>\n",
       "      <th>4316</th>\n",
       "      <td>Neutral</td>\n",
       "      <td>Even when it is irrefutable that a policy caus...</td>\n",
       "    </tr>\n",
       "    <tr>\n",
       "      <th>4317</th>\n",
       "      <td>Neutral</td>\n",
       "      <td>The coins ' value appreciated over time becaus...</td>\n",
       "    </tr>\n",
       "    <tr>\n",
       "      <th>4318</th>\n",
       "      <td>Neutral</td>\n",
       "      <td>In those cases where the experimenter urged ca...</td>\n",
       "    </tr>\n",
       "    <tr>\n",
       "      <th>4319</th>\n",
       "      <td>Neutral</td>\n",
       "      <td>The lame-duck Congress , which will be back in...</td>\n",
       "    </tr>\n",
       "    <tr>\n",
       "      <th>4320</th>\n",
       "      <td>Neutral</td>\n",
       "      <td>After a few hours , the protest leaders convin...</td>\n",
       "    </tr>\n",
       "    <tr>\n",
       "      <th>4321</th>\n",
       "      <td>Neutral</td>\n",
       "      <td>As Doug Ogden , former director of the Energy ...</td>\n",
       "    </tr>\n",
       "    <tr>\n",
       "      <th>4322</th>\n",
       "      <td>Neutral</td>\n",
       "      <td>No study is perfect ; each one is subject to c...</td>\n",
       "    </tr>\n",
       "    <tr>\n",
       "      <th>4323</th>\n",
       "      <td>Neutral</td>\n",
       "      <td>Of course , market forces , the balancing of ,...</td>\n",
       "    </tr>\n",
       "    <tr>\n",
       "      <th>4324</th>\n",
       "      <td>Neutral</td>\n",
       "      <td>In Words Like Loaded Pistols , he sets out to ...</td>\n",
       "    </tr>\n",
       "    <tr>\n",
       "      <th>4325</th>\n",
       "      <td>Neutral</td>\n",
       "      <td>For decades the BSA has dealt with the problem...</td>\n",
       "    </tr>\n",
       "  </tbody>\n",
       "</table>\n",
       "<p>4326 rows × 2 columns</p>\n",
       "</div>"
      ],
      "text/plain": [
       "        label                                           sentence\n",
       "0     Liberal  Forcing middle-class workers to bear a greater...\n",
       "1     Liberal  Because it would not be worthwhile to bring a ...\n",
       "2     Liberal  Indeed , Lind argues that high profits and hig...\n",
       "3     Liberal  In fairness , it should be noted that he devot...\n",
       "4     Liberal  Psychological tactics are social control techn...\n",
       "5     Liberal  The uncontrolled profit motive is destroying h...\n",
       "6     Liberal  Organizations representing the religious right...\n",
       "7     Liberal  A market based on greed and fear has tugged on...\n",
       "8     Liberal  THE CONSERVATIVE MOVEMENT IS ROOTED IN A COHER...\n",
       "9     Liberal  By eliminating the private insurer , you could...\n",
       "10    Liberal  The additional schooling foisted upon one grou...\n",
       "11    Liberal  If the government will do its job and prevent ...\n",
       "12    Liberal  The rich countries that are primarily responsi...\n",
       "13    Liberal  These people said to us : Well , if you just w...\n",
       "14    Liberal  Inevitably this forced them to cut some $ 270 ...\n",
       "15    Liberal  Hostility to taxes and open redistribution ref...\n",
       "16    Liberal  I THINK the central idea in Marxism is of cour...\n",
       "17    Liberal  Baucus had played a key role in helping George...\n",
       "18    Liberal  We are not going to let working families who a...\n",
       "19    Liberal  Johnston shows why lowincome people using the ...\n",
       "20    Liberal  Del Vecchio 's words manifest not merely an et...\n",
       "21    Liberal  Medical workers and other scientists should be...\n",
       "22    Liberal  Besides acidification , there are serious effe...\n",
       "23    Liberal  One reason is that the Keynesian intellectual ...\n",
       "24    Liberal  It is possible to create a high-functioning un...\n",
       "25    Liberal  The drying up and contamination of freshwater ...\n",
       "26    Liberal  ` Yes , we are going to balance the budget in ...\n",
       "27    Liberal  Two brass rings now seem within reach of today...\n",
       "28    Liberal  It is our contention that most of the critical...\n",
       "29    Liberal  The crisis demonstrated how wrong their views ...\n",
       "...       ...                                                ...\n",
       "4296  Neutral  If I give you a $ 50 gift card for Best Buy an...\n",
       "4297  Neutral  He threatened to scuttle Tehran 's stock marke...\n",
       "4298  Neutral  The digital Beatles are invariably depicted to...\n",
       "4299  Neutral  His reluctance will be all the greater if save...\n",
       "4300  Neutral  As an American report noted , `` The tradition...\n",
       "4301  Neutral  By accountability , we are talking about rewar...\n",
       "4302  Neutral  Family relations , marriage , motherhood , iso...\n",
       "4303  Neutral  Working from the ground and the air , their pr...\n",
       "4304  Neutral  If you 've had the opportunity to drive a car ...\n",
       "4305  Neutral  Its horror stories of alcoholism , abuse , mis...\n",
       "4306  Neutral  Meanwhile , one of the gunmen threatened to ki...\n",
       "4307  Neutral  What Hiss personified , finally , was a social...\n",
       "4308  Neutral  You ca n't just follow them because they make ...\n",
       "4309  Neutral  This systematic harassment even violates laws ...\n",
       "4310  Neutral  Surely , a brutal campaign in Sunni Iraq would...\n",
       "4311  Neutral  A mass killer is by definition one who makes m...\n",
       "4312  Neutral  After first trying to convince the authorities...\n",
       "4313  Neutral  It is certainly true that high doses of radiat...\n",
       "4314  Neutral  She uncovered a tsunami of drunk driving , rob...\n",
       "4315  Neutral  He strove desperately to find some guilty part...\n",
       "4316  Neutral  Even when it is irrefutable that a policy caus...\n",
       "4317  Neutral  The coins ' value appreciated over time becaus...\n",
       "4318  Neutral  In those cases where the experimenter urged ca...\n",
       "4319  Neutral  The lame-duck Congress , which will be back in...\n",
       "4320  Neutral  After a few hours , the protest leaders convin...\n",
       "4321  Neutral  As Doug Ogden , former director of the Energy ...\n",
       "4322  Neutral  No study is perfect ; each one is subject to c...\n",
       "4323  Neutral  Of course , market forces , the balancing of ,...\n",
       "4324  Neutral  In Words Like Loaded Pistols , he sets out to ...\n",
       "4325  Neutral  For decades the BSA has dealt with the problem...\n",
       "\n",
       "[4326 rows x 2 columns]"
      ]
     },
     "execution_count": 87,
     "metadata": {},
     "output_type": "execute_result"
    }
   ],
   "source": [
    "ibc_frame"
   ]
  },
  {
   "cell_type": "code",
   "execution_count": 142,
   "metadata": {
    "collapsed": true
   },
   "outputs": [],
   "source": [
    "articles_1=pd.read_csv('../../.kaggle/datasets/snapcrack/all-the-news/articles1.csv')\n",
    "articles_2=pd.read_csv('../../.kaggle/datasets/snapcrack/all-the-news/articles2.csv')\n",
    "articles_3=pd.read_csv('../../.kaggle/datasets/snapcrack/all-the-news/articles3.csv')"
   ]
  },
  {
   "cell_type": "code",
   "execution_count": 143,
   "metadata": {},
   "outputs": [
    {
     "data": {
      "text/plain": [
       "(142570, 10)"
      ]
     },
     "execution_count": 143,
     "metadata": {},
     "output_type": "execute_result"
    }
   ],
   "source": [
    "all_articles=pd.concat([articles_1,articles_2,articles_3],ignore_index=True)\n",
    "all_articles.shape"
   ]
  },
  {
   "cell_type": "code",
   "execution_count": 144,
   "metadata": {},
   "outputs": [
    {
     "data": {
      "text/plain": [
       "Index(['Unnamed: 0', 'id', 'title', 'publication', 'author', 'date', 'year',\n",
       "       'month', 'url', 'content'],\n",
       "      dtype='object')"
      ]
     },
     "execution_count": 144,
     "metadata": {},
     "output_type": "execute_result"
    }
   ],
   "source": [
    "all_articles.columns"
   ]
  },
  {
   "cell_type": "code",
   "execution_count": 145,
   "metadata": {},
   "outputs": [
    {
     "data": {
      "text/plain": [
       "['WASHINGTON  —   Congressional Republicans have a new fear when it comes to their    health care lawsuit against the Obama administration: They might win.',\n",
       " 'The incoming Trump administration could choose to no longer defend the executive branch against the suit, which challenges the administration’s authority to spend billions of dollars on health insurance subsidies for   and   Americans, handing House Republicans a big victory on    issues.',\n",
       " 'But a sudden loss of the disputed subsidies could conceivably cause the health care program to implode, leaving millions of people without access to health insurance before Republicans have prepared a replacement.',\n",
       " 'That could lead to chaos in the insurance market and spur a political backlash just as Republicans gain full control of the government.',\n",
       " 'To stave off that outcome, Republicans could find themselves in the awkward position of appropriating huge sums to temporarily prop up the Obama health care law, angering conservative voters who have been demanding an end to the law for years.',\n",
       " 'In another twist, Donald J. Trump’s administration, worried about preserving executive branch prerogatives, could choose to fight its Republican allies in the House on some central questions in the dispute.',\n",
       " 'Eager to avoid an ugly political pileup, Republicans on Capitol Hill and the Trump transition team are gaming out how to handle the lawsuit, which, after the election, has been put in limbo until at least late February by the United States Court of Appeals for the District of Columbia Circuit.',\n",
       " 'They are not yet ready to divulge their strategy.',\n",
       " '“Given that this pending litigation involves the Obama administration and Congress, it would be inappropriate to comment,” said Phillip J. Blando, a spokesman for the Trump transition effort.',\n",
       " '“Upon taking office, the Trump administration will evaluate this case and all related aspects of the Affordable Care Act.',\n",
       " '” In a potentially   decision in 2015, Judge Rosemary M. Collyer ruled that House Republicans had the standing to sue the executive branch over a spending dispute and that the Obama administration had been distributing the health insurance subsidies, in violation of the Constitution, without approval from Congress.',\n",
       " 'The Justice Department, confident that Judge Collyer’s decision would be reversed, quickly appealed, and the subsidies have remained in place during the appeal.',\n",
       " 'In successfully seeking a temporary halt in the proceedings after Mr. Trump won, House Republicans last month told the court that they “and the  ’s transition team currently are discussing potential options for resolution of this matter, to take effect after the  ’s inauguration on Jan. 20, 2017.',\n",
       " '” The suspension of the case, House lawyers said, will “provide the   and his future administration time to consider whether to continue prosecuting or to otherwise resolve this appeal.',\n",
       " '” Republican leadership officials in the House acknowledge the possibility of “cascading effects” if the   payments, which have totaled an estimated $13 billion, are suddenly stopped.',\n",
       " 'Insurers that receive the subsidies in exchange for paying    costs such as deductibles and   for eligible consumers could race to drop coverage since they would be losing money.',\n",
       " 'Over all, the loss of the subsidies could destabilize the entire program and cause a lack of confidence that leads other insurers to seek a quick exit as well.',\n",
       " 'Anticipating that the Trump administration might not be inclined to mount a vigorous fight against the House Republicans given the  ’s dim view of the health care law, a team of lawyers this month sought to intervene in the case on behalf of two participants in the health care program.',\n",
       " 'In their request, the lawyers predicted that a deal between House Republicans and the new administration to dismiss or settle the case “will produce devastating consequences for the individuals who receive these reductions, as well as for the nation’s health insurance and health care systems generally.',\n",
       " '” No matter what happens, House Republicans say, they want to prevail on two overarching concepts: the congressional power of the purse, and the right of Congress to sue the executive branch if it violates the Constitution regarding that spending power.',\n",
       " 'House Republicans contend that Congress never appropriated the money for the subsidies, as required by the Constitution.',\n",
       " 'In the suit, which was initially championed by John A. Boehner, the House speaker at the time, and later in House committee reports, Republicans asserted that the administration, desperate for the funding, had required the Treasury Department to provide it despite widespread internal skepticism that the spending was proper.',\n",
       " 'The White House said that the spending was a permanent part of the law passed in 2010, and that no annual appropriation was required  —   even though the administration initially sought one.',\n",
       " 'Just as important to House Republicans, Judge Collyer found that Congress had the standing to sue the White House on this issue  —   a ruling that many legal experts said was flawed  —   and they want that precedent to be set to restore congressional leverage over the executive branch.',\n",
       " 'But on spending power and standing, the Trump administration may come under pressure from advocates of presidential authority to fight the House no matter their shared views on health care, since those precedents could have broad repercussions.',\n",
       " 'It is a complicated set of dynamics illustrating how a quick legal victory for the House in the Trump era might come with costs that Republicans never anticipated when they took on the Obama White House.']"
      ]
     },
     "execution_count": 145,
     "metadata": {},
     "output_type": "execute_result"
    }
   ],
   "source": [
    "nltk.sent_tokenize(all_articles['content'][0])"
   ]
  },
  {
   "cell_type": "code",
   "execution_count": 146,
   "metadata": {},
   "outputs": [
    {
     "name": "stdout",
     "output_type": "stream",
     "text": [
      "142570\n"
     ]
    }
   ],
   "source": [
    "n_articles = all_articles.shape[0]\n",
    "print(n_articles)"
   ]
  },
  {
   "cell_type": "code",
   "execution_count": null,
   "metadata": {
    "collapsed": true
   },
   "outputs": [],
   "source": []
  },
  {
   "cell_type": "code",
   "execution_count": 147,
   "metadata": {},
   "outputs": [
    {
     "data": {
      "text/html": [
       "<div>\n",
       "<style>\n",
       "    .dataframe thead tr:only-child th {\n",
       "        text-align: right;\n",
       "    }\n",
       "\n",
       "    .dataframe thead th {\n",
       "        text-align: left;\n",
       "    }\n",
       "\n",
       "    .dataframe tbody tr th {\n",
       "        vertical-align: top;\n",
       "    }\n",
       "</style>\n",
       "<table border=\"1\" class=\"dataframe\">\n",
       "  <thead>\n",
       "    <tr style=\"text-align: right;\">\n",
       "      <th></th>\n",
       "      <th>0</th>\n",
       "      <th>1</th>\n",
       "      <th>2</th>\n",
       "    </tr>\n",
       "  </thead>\n",
       "  <tbody>\n",
       "    <tr>\n",
       "      <th>0</th>\n",
       "      <td>2</td>\n",
       "      <td>3</td>\n",
       "      <td>4</td>\n",
       "    </tr>\n",
       "  </tbody>\n",
       "</table>\n",
       "</div>"
      ],
      "text/plain": [
       "   0  1  2\n",
       "0  2  3  4"
      ]
     },
     "execution_count": 147,
     "metadata": {},
     "output_type": "execute_result"
    }
   ],
   "source": [
    "pd.DataFrame([[2, 3, 4]])"
   ]
  },
  {
   "cell_type": "code",
   "execution_count": 148,
   "metadata": {},
   "outputs": [
    {
     "data": {
      "text/plain": [
       "142570"
      ]
     },
     "execution_count": 148,
     "metadata": {},
     "output_type": "execute_result"
    }
   ],
   "source": [
    "all_articles.shape[0]"
   ]
  },
  {
   "cell_type": "code",
   "execution_count": 149,
   "metadata": {},
   "outputs": [
    {
     "ename": "NameError",
     "evalue": "name 'pub' is not defined",
     "output_type": "error",
     "traceback": [
      "\u001b[0;31m---------------------------------------------------------------------------\u001b[0m",
      "\u001b[0;31mNameError\u001b[0m                                 Traceback (most recent call last)",
      "\u001b[0;32m<ipython-input-149-d73e6416e737>\u001b[0m in \u001b[0;36m<module>\u001b[0;34m()\u001b[0m\n\u001b[0;32m----> 1\u001b[0;31m \u001b[0mpd\u001b[0m\u001b[0;34m.\u001b[0m\u001b[0mDataFrame\u001b[0m\u001b[0;34m(\u001b[0m\u001b[0;34m[\u001b[0m\u001b[0;34m[\u001b[0m\u001b[0msentence\u001b[0m\u001b[0;34m,\u001b[0m \u001b[0mpub\u001b[0m\u001b[0;34m,\u001b[0m \u001b[0mproba\u001b[0m\u001b[0;34m[\u001b[0m\u001b[0;36m0\u001b[0m\u001b[0;34m]\u001b[0m\u001b[0;34m[\u001b[0m\u001b[0;36m0\u001b[0m\u001b[0;34m]\u001b[0m\u001b[0;34m,\u001b[0m \u001b[0mproba\u001b[0m\u001b[0;34m[\u001b[0m\u001b[0;36m0\u001b[0m\u001b[0;34m]\u001b[0m\u001b[0;34m[\u001b[0m\u001b[0;36m1\u001b[0m\u001b[0;34m]\u001b[0m\u001b[0;34m,\u001b[0m \u001b[0mproba\u001b[0m\u001b[0;34m[\u001b[0m\u001b[0;36m0\u001b[0m\u001b[0;34m]\u001b[0m\u001b[0;34m[\u001b[0m\u001b[0;36m2\u001b[0m\u001b[0;34m]\u001b[0m\u001b[0;34m,\u001b[0m \u001b[0mpred\u001b[0m\u001b[0;34m[\u001b[0m\u001b[0;36m0\u001b[0m\u001b[0;34m]\u001b[0m\u001b[0;34m]\u001b[0m\u001b[0;34m]\u001b[0m\u001b[0;34m,\u001b[0m \u001b[0mcolumns\u001b[0m\u001b[0;34m=\u001b[0m\u001b[0;34m[\u001b[0m\u001b[0;34m'sentence'\u001b[0m\u001b[0;34m,\u001b[0m \u001b[0;34m'source'\u001b[0m\u001b[0;34m,\u001b[0m \u001b[0;34m'con_score'\u001b[0m\u001b[0;34m,\u001b[0m \u001b[0;34m'lib_score'\u001b[0m\u001b[0;34m,\u001b[0m \u001b[0;34m'neu_score'\u001b[0m\u001b[0;34m,\u001b[0m \u001b[0;34m'weak_label'\u001b[0m\u001b[0;34m]\u001b[0m\u001b[0;34m)\u001b[0m\u001b[0;34m\u001b[0m\u001b[0m\n\u001b[0m",
      "\u001b[0;31mNameError\u001b[0m: name 'pub' is not defined"
     ]
    }
   ],
   "source": [
    "pd.DataFrame([[sentence, pub, proba[0][0], proba[0][1], proba[0][2], pred[0]]], columns=['sentence', 'source', 'con_score', 'lib_score', 'neu_score', 'weak_label'])"
   ]
  },
  {
   "cell_type": "code",
   "execution_count": 83,
   "metadata": {},
   "outputs": [
    {
     "name": "stdout",
     "output_type": "stream",
     "text": [
      "10000\n",
      "20000\n",
      "30000\n",
      "40000\n",
      "50000\n",
      "60000\n",
      "70000\n",
      "80000\n",
      "90000\n",
      "100000\n",
      "110000\n",
      "120000\n",
      "130000\n",
      "140000\n",
      "150000\n",
      "160000\n",
      "170000\n",
      "180000\n",
      "190000\n",
      "200000\n"
     ]
    }
   ],
   "source": [
    "count = 0\n",
    "for i in range(all_articles.shape[0]):\n",
    "    \n",
    "    article = nltk.sent_tokenize(all_articles['content'][i])\n",
    "    pub = all_articles['publication'][i]\n",
    "    for sentence in article:\n",
    "        cv_sentence = cv.transform([preprocess(sentence)])\n",
    "        pred = lr_base.predict(cv_sentence)\n",
    "        proba = lr_base.predict_proba(cv_sentence)\n",
    "        if count == 0:\n",
    "            df = pd.DataFrame([[pub, proba[0][0], proba[0][1], pred[0]]], columns=['source', 'con_score', 'lib_score',  'weak_label'])\n",
    "        else:\n",
    "            newrow = pd.DataFrame([[pub, proba[0][0], proba[0][1], pred[0]]], columns=['source', 'con_score', 'lib_score', 'weak_label'])\n",
    "            df = pd.concat([df, newrow])\n",
    "        #with open('../../ATN_reddit_weak_labels.csv', 'a') as f:\n",
    "        #    if count == 0:\n",
    "        #        df.to_csv(f, header=True)\n",
    "        #    else:\n",
    "        #        df.to_csv(f, header=False)\n",
    "        count += 1\n",
    "        if count % 10000 == 0:\n",
    "            print(count)\n",
    "    if count > 200000:\n",
    "        break"
   ]
  },
  {
   "cell_type": "code",
   "execution_count": 100,
   "metadata": {},
   "outputs": [
    {
     "data": {
      "text/plain": [
       "weak_label\n",
       "conservative    53737\n",
       "liberal         46292\n",
       "neutral         99974\n",
       "Name: source, dtype: int64"
      ]
     },
     "execution_count": 100,
     "metadata": {},
     "output_type": "execute_result"
    }
   ],
   "source": [
    "df.groupby('weak_label')['source'].count()"
   ]
  },
  {
   "cell_type": "code",
   "execution_count": 77,
   "metadata": {},
   "outputs": [
    {
     "data": {
      "text/plain": [
       "1599.026585433398"
      ]
     },
     "execution_count": 77,
     "metadata": {},
     "output_type": "execute_result"
    }
   ],
   "source": [
    "40.5*all_articles.shape[0]/3611"
   ]
  },
  {
   "cell_type": "code",
   "execution_count": 151,
   "metadata": {},
   "outputs": [
    {
     "ename": "KeyboardInterrupt",
     "evalue": "",
     "output_type": "error",
     "traceback": [
      "\u001b[0;31m---------------------------------------------------------------------------\u001b[0m",
      "\u001b[0;31mKeyboardInterrupt\u001b[0m                         Traceback (most recent call last)",
      "\u001b[0;32m<ipython-input-151-98039139eb3d>\u001b[0m in \u001b[0;36m<module>\u001b[0;34m()\u001b[0m\n\u001b[1;32m      1\u001b[0m \u001b[0matn_sentences\u001b[0m \u001b[0;34m=\u001b[0m \u001b[0;34m[\u001b[0m\u001b[0msentence\u001b[0m \u001b[0;32mfor\u001b[0m \u001b[0msentence\u001b[0m \u001b[0;32min\u001b[0m \u001b[0mall_articles\u001b[0m\u001b[0;34m[\u001b[0m\u001b[0;34m'content'\u001b[0m\u001b[0;34m]\u001b[0m\u001b[0;34m]\u001b[0m\u001b[0;34m\u001b[0m\u001b[0m\n\u001b[0;32m----> 2\u001b[0;31m \u001b[0matn_preprocessed_sentences\u001b[0m \u001b[0;34m=\u001b[0m \u001b[0;34m[\u001b[0m\u001b[0mpreprocess\u001b[0m\u001b[0;34m(\u001b[0m\u001b[0msentence\u001b[0m\u001b[0;34m)\u001b[0m \u001b[0;32mfor\u001b[0m \u001b[0msentence\u001b[0m \u001b[0;32min\u001b[0m \u001b[0matn_sentences\u001b[0m\u001b[0;34m]\u001b[0m\u001b[0;34m\u001b[0m\u001b[0m\n\u001b[0m\u001b[1;32m      3\u001b[0m \u001b[0mcv_atn_sentences\u001b[0m \u001b[0;34m=\u001b[0m \u001b[0mcv\u001b[0m\u001b[0;34m.\u001b[0m\u001b[0mtransform\u001b[0m\u001b[0;34m(\u001b[0m\u001b[0matn_sentences\u001b[0m\u001b[0;34m)\u001b[0m\u001b[0;34m\u001b[0m\u001b[0m\n",
      "\u001b[0;32m<ipython-input-151-98039139eb3d>\u001b[0m in \u001b[0;36m<listcomp>\u001b[0;34m(.0)\u001b[0m\n\u001b[1;32m      1\u001b[0m \u001b[0matn_sentences\u001b[0m \u001b[0;34m=\u001b[0m \u001b[0;34m[\u001b[0m\u001b[0msentence\u001b[0m \u001b[0;32mfor\u001b[0m \u001b[0msentence\u001b[0m \u001b[0;32min\u001b[0m \u001b[0mall_articles\u001b[0m\u001b[0;34m[\u001b[0m\u001b[0;34m'content'\u001b[0m\u001b[0;34m]\u001b[0m\u001b[0;34m]\u001b[0m\u001b[0;34m\u001b[0m\u001b[0m\n\u001b[0;32m----> 2\u001b[0;31m \u001b[0matn_preprocessed_sentences\u001b[0m \u001b[0;34m=\u001b[0m \u001b[0;34m[\u001b[0m\u001b[0mpreprocess\u001b[0m\u001b[0;34m(\u001b[0m\u001b[0msentence\u001b[0m\u001b[0;34m)\u001b[0m \u001b[0;32mfor\u001b[0m \u001b[0msentence\u001b[0m \u001b[0;32min\u001b[0m \u001b[0matn_sentences\u001b[0m\u001b[0;34m]\u001b[0m\u001b[0;34m\u001b[0m\u001b[0m\n\u001b[0m\u001b[1;32m      3\u001b[0m \u001b[0mcv_atn_sentences\u001b[0m \u001b[0;34m=\u001b[0m \u001b[0mcv\u001b[0m\u001b[0;34m.\u001b[0m\u001b[0mtransform\u001b[0m\u001b[0;34m(\u001b[0m\u001b[0matn_sentences\u001b[0m\u001b[0;34m)\u001b[0m\u001b[0;34m\u001b[0m\u001b[0m\n",
      "\u001b[0;32m<ipython-input-113-ce1bb97276e7>\u001b[0m in \u001b[0;36mpreprocess\u001b[0;34m(sentence)\u001b[0m\n\u001b[1;32m      8\u001b[0m         \u001b[0msentence\u001b[0m \u001b[0;34m=\u001b[0m \u001b[0;34m' '\u001b[0m\u001b[0;34m.\u001b[0m\u001b[0mjoin\u001b[0m\u001b[0;34m(\u001b[0m\u001b[0msentence\u001b[0m\u001b[0;34m.\u001b[0m\u001b[0msplit\u001b[0m\u001b[0;34m(\u001b[0m\u001b[0;34m' '\u001b[0m\u001b[0;34m)\u001b[0m\u001b[0;34m[\u001b[0m\u001b[0;36m0\u001b[0m\u001b[0;34m:\u001b[0m\u001b[0;36m99\u001b[0m\u001b[0;34m]\u001b[0m\u001b[0;34m)\u001b[0m\u001b[0;34m\u001b[0m\u001b[0m\n\u001b[1;32m      9\u001b[0m     \u001b[0;32mif\u001b[0m \u001b[0mlen\u001b[0m\u001b[0;34m(\u001b[0m\u001b[0msentence\u001b[0m\u001b[0;34m.\u001b[0m\u001b[0msplit\u001b[0m\u001b[0;34m(\u001b[0m\u001b[0;34m)\u001b[0m\u001b[0;34m)\u001b[0m \u001b[0;34m>\u001b[0m \u001b[0;36m2\u001b[0m\u001b[0;34m:\u001b[0m\u001b[0;34m\u001b[0m\u001b[0m\n\u001b[0;32m---> 10\u001b[0;31m         \u001b[0;32mif\u001b[0m \u001b[0many\u001b[0m\u001b[0;34m(\u001b[0m\u001b[0mword\u001b[0m \u001b[0;32min\u001b[0m \u001b[0mall_bias_words\u001b[0m \u001b[0;32mfor\u001b[0m \u001b[0mword\u001b[0m \u001b[0;32min\u001b[0m \u001b[0msentence\u001b[0m\u001b[0;34m.\u001b[0m\u001b[0msplit\u001b[0m\u001b[0;34m(\u001b[0m\u001b[0;34m)\u001b[0m\u001b[0;34m)\u001b[0m\u001b[0;34m:\u001b[0m\u001b[0;34m\u001b[0m\u001b[0m\n\u001b[0m\u001b[1;32m     11\u001b[0m             \u001b[0;32mreturn\u001b[0m \u001b[0msentence\u001b[0m\u001b[0;34m\u001b[0m\u001b[0m\n\u001b[1;32m     12\u001b[0m         \u001b[0;32melse\u001b[0m\u001b[0;34m:\u001b[0m\u001b[0;34m\u001b[0m\u001b[0m\n",
      "\u001b[0;32m<ipython-input-113-ce1bb97276e7>\u001b[0m in \u001b[0;36m<genexpr>\u001b[0;34m(.0)\u001b[0m\n\u001b[1;32m      8\u001b[0m         \u001b[0msentence\u001b[0m \u001b[0;34m=\u001b[0m \u001b[0;34m' '\u001b[0m\u001b[0;34m.\u001b[0m\u001b[0mjoin\u001b[0m\u001b[0;34m(\u001b[0m\u001b[0msentence\u001b[0m\u001b[0;34m.\u001b[0m\u001b[0msplit\u001b[0m\u001b[0;34m(\u001b[0m\u001b[0;34m' '\u001b[0m\u001b[0;34m)\u001b[0m\u001b[0;34m[\u001b[0m\u001b[0;36m0\u001b[0m\u001b[0;34m:\u001b[0m\u001b[0;36m99\u001b[0m\u001b[0;34m]\u001b[0m\u001b[0;34m)\u001b[0m\u001b[0;34m\u001b[0m\u001b[0m\n\u001b[1;32m      9\u001b[0m     \u001b[0;32mif\u001b[0m \u001b[0mlen\u001b[0m\u001b[0;34m(\u001b[0m\u001b[0msentence\u001b[0m\u001b[0;34m.\u001b[0m\u001b[0msplit\u001b[0m\u001b[0;34m(\u001b[0m\u001b[0;34m)\u001b[0m\u001b[0;34m)\u001b[0m \u001b[0;34m>\u001b[0m \u001b[0;36m2\u001b[0m\u001b[0;34m:\u001b[0m\u001b[0;34m\u001b[0m\u001b[0m\n\u001b[0;32m---> 10\u001b[0;31m         \u001b[0;32mif\u001b[0m \u001b[0many\u001b[0m\u001b[0;34m(\u001b[0m\u001b[0mword\u001b[0m \u001b[0;32min\u001b[0m \u001b[0mall_bias_words\u001b[0m \u001b[0;32mfor\u001b[0m \u001b[0mword\u001b[0m \u001b[0;32min\u001b[0m \u001b[0msentence\u001b[0m\u001b[0;34m.\u001b[0m\u001b[0msplit\u001b[0m\u001b[0;34m(\u001b[0m\u001b[0;34m)\u001b[0m\u001b[0;34m)\u001b[0m\u001b[0;34m:\u001b[0m\u001b[0;34m\u001b[0m\u001b[0m\n\u001b[0m\u001b[1;32m     11\u001b[0m             \u001b[0;32mreturn\u001b[0m \u001b[0msentence\u001b[0m\u001b[0;34m\u001b[0m\u001b[0m\n\u001b[1;32m     12\u001b[0m         \u001b[0;32melse\u001b[0m\u001b[0;34m:\u001b[0m\u001b[0;34m\u001b[0m\u001b[0m\n",
      "\u001b[0;31mKeyboardInterrupt\u001b[0m: "
     ]
    }
   ],
   "source": [
    "atn_sentences = [sentence for sentence in all_articles['content']]\n",
    "atn_preprocessed_sentences = [preprocess(sentence) for sentence in atn_sentences]\n",
    "cv_atn_sentences = cv.transform(atn_sentences)"
   ]
  },
  {
   "cell_type": "code",
   "execution_count": 29,
   "metadata": {},
   "outputs": [
    {
     "data": {
      "text/plain": [
       "'After the bullet shells get counted, the blood dries and the votive candles burn out, people peer down from   windows and see crime scenes gone cold: a band of yellow police tape blowing in the breeze. The South Bronx, just across the Harlem River from Manhattan and once shorthand for urban dysfunction, still suffers violence at levels long ago slashed in many other parts of New York City. And yet the city’s efforts to fight it remain splintered, underfunded and burdened by scandal. In the 40th Precinct, at the southern tip of the Bronx, as in other'"
      ]
     },
     "execution_count": 29,
     "metadata": {},
     "output_type": "execute_result"
    }
   ],
   "source": [
    "atn_sentences[1]"
   ]
  },
  {
   "cell_type": "code",
   "execution_count": null,
   "metadata": {
    "collapsed": true
   },
   "outputs": [],
   "source": [
    "ATN_preds = lr_base.predict(cv_atn_sentences)\n",
    "ATN_proba = lr_base.predict_proba(cv_atn_sentences)"
   ]
  },
  {
   "cell_type": "code",
   "execution_count": null,
   "metadata": {
    "collapsed": true
   },
   "outputs": [],
   "source": [
    "ATN_weak_labels = ibc_frame\n",
    "ATN_weak_labels['con_score'] = [x[0] for x in IBC_proba]\n",
    "ATN_weak_labels['lib_score'] = [x[1] for x in IBC_proba]\n",
    "ATN_weak_labels['neu_score'] = [x[2] for x in IBC_proba]\n",
    "ATN_weak_labels['prediction'] = IBC_preds\n",
    "ATN_weak_labels.head()"
   ]
  },
  {
   "cell_type": "code",
   "execution_count": null,
   "metadata": {
    "collapsed": true
   },
   "outputs": [],
   "source": [
    "atn_sentences = atn_sentences[atn_sentences['lib_score']!='lib_score']\n",
    "atn_sentences"
   ]
  },
  {
   "cell_type": "code",
   "execution_count": 152,
   "metadata": {
    "collapsed": true
   },
   "outputs": [],
   "source": [
    "atn_selected = pd.read_csv('../all_the_news_sentences.csv')"
   ]
  },
  {
   "cell_type": "code",
   "execution_count": 153,
   "metadata": {},
   "outputs": [
    {
     "data": {
      "text/html": [
       "<div>\n",
       "<style>\n",
       "    .dataframe thead tr:only-child th {\n",
       "        text-align: right;\n",
       "    }\n",
       "\n",
       "    .dataframe thead th {\n",
       "        text-align: left;\n",
       "    }\n",
       "\n",
       "    .dataframe tbody tr th {\n",
       "        vertical-align: top;\n",
       "    }\n",
       "</style>\n",
       "<table border=\"1\" class=\"dataframe\">\n",
       "  <thead>\n",
       "    <tr style=\"text-align: right;\">\n",
       "      <th></th>\n",
       "      <th>Unnamed: 0</th>\n",
       "      <th>Sentence</th>\n",
       "      <th>Source</th>\n",
       "    </tr>\n",
       "  </thead>\n",
       "  <tbody>\n",
       "    <tr>\n",
       "      <th>0</th>\n",
       "      <td>0</td>\n",
       "      <td>On Tuesday’s broadcast of CNN’s “Situation Roo...</td>\n",
       "      <td>Breitbart</td>\n",
       "    </tr>\n",
       "    <tr>\n",
       "      <th>1</th>\n",
       "      <td>1</td>\n",
       "      <td>”  Zeleny said, “I think a question that this ...</td>\n",
       "      <td>Breitbart</td>\n",
       "    </tr>\n",
       "    <tr>\n",
       "      <th>2</th>\n",
       "      <td>2</td>\n",
       "      <td>And she’s having a difficult time in federal p...</td>\n",
       "      <td>Breitbart</td>\n",
       "    </tr>\n",
       "    <tr>\n",
       "      <th>3</th>\n",
       "      <td>3</td>\n",
       "      <td>But, to me, that is a central question here.</td>\n",
       "      <td>Breitbart</td>\n",
       "    </tr>\n",
       "    <tr>\n",
       "      <th>4</th>\n",
       "      <td>4</td>\n",
       "      <td>Without that, you have to wonder if the outcom...</td>\n",
       "      <td>Breitbart</td>\n",
       "    </tr>\n",
       "  </tbody>\n",
       "</table>\n",
       "</div>"
      ],
      "text/plain": [
       "   Unnamed: 0                                           Sentence     Source\n",
       "0           0  On Tuesday’s broadcast of CNN’s “Situation Roo...  Breitbart\n",
       "1           1  ”  Zeleny said, “I think a question that this ...  Breitbart\n",
       "2           2  And she’s having a difficult time in federal p...  Breitbart\n",
       "3           3       But, to me, that is a central question here.  Breitbart\n",
       "4           4  Without that, you have to wonder if the outcom...  Breitbart"
      ]
     },
     "execution_count": 153,
     "metadata": {},
     "output_type": "execute_result"
    }
   ],
   "source": [
    "atn_selected.head()"
   ]
  },
  {
   "cell_type": "code",
   "execution_count": 154,
   "metadata": {},
   "outputs": [
    {
     "data": {
      "text/plain": [
       "193744"
      ]
     },
     "execution_count": 154,
     "metadata": {},
     "output_type": "execute_result"
    }
   ],
   "source": [
    "atn_selected.shape[0]"
   ]
  },
  {
   "cell_type": "code",
   "execution_count": 156,
   "metadata": {},
   "outputs": [
    {
     "name": "stdout",
     "output_type": "stream",
     "text": [
      "10000\n",
      "20000\n",
      "30000\n",
      "40000\n",
      "50000\n",
      "60000\n",
      "70000\n",
      "80000\n",
      "90000\n",
      "100000\n",
      "110000\n",
      "120000\n",
      "130000\n",
      "140000\n",
      "150000\n",
      "160000\n",
      "170000\n",
      "180000\n",
      "190000\n"
     ]
    }
   ],
   "source": [
    "count = 0\n",
    "\n",
    "for i in range(atn_selected.shape[0]):\n",
    "    pub = atn_selected['Source'][i]\n",
    "    sentence = atn_selected['Sentence'][i]\n",
    "    cv_sentence = cv.transform([sentence])\n",
    "    pred = lr_base.predict(cv_sentence)\n",
    "    proba = lr_base.predict_proba(cv_sentence)\n",
    "    df = pd.DataFrame([[sentence, pub, proba[0][0], proba[0][1], pred[0]]], columns=['sentence', 'source', 'con_score', 'lib_score', 'weak_label'])\n",
    "\n",
    "    with open('../ATN_selected_reddit_weak_labels_conlibonly_noprog.csv', 'a') as f:\n",
    "        if count == 0:\n",
    "            df.to_csv(f, header=True)\n",
    "        else:\n",
    "            df.to_csv(f, header=False)\n",
    "    count += 1\n",
    "    if count % 10000 == 0:\n",
    "        print(count)\n",
    "#if count > 200000:\n",
    "#    break"
   ]
  },
  {
   "cell_type": "code",
   "execution_count": 157,
   "metadata": {},
   "outputs": [
    {
     "name": "stderr",
     "output_type": "stream",
     "text": [
      "/home/samird121/anaconda3/lib/python3.6/site-packages/IPython/core/interactiveshell.py:2698: DtypeWarning: Columns (3,4) have mixed types. Specify dtype option on import or set low_memory=False.\n",
      "  interactivity=interactivity, compiler=compiler, result=result)\n"
     ]
    }
   ],
   "source": [
    "atn_df = pd.read_csv('../ATN_selected_reddit_weak_labels_conlibonly_noprog.csv')"
   ]
  },
  {
   "cell_type": "code",
   "execution_count": 44,
   "metadata": {
    "collapsed": true
   },
   "outputs": [],
   "source": [
    "atn_df = atn_df[atn_df['weak_label'] != 'weak_label']"
   ]
  },
  {
   "cell_type": "code",
   "execution_count": 47,
   "metadata": {},
   "outputs": [
    {
     "data": {
      "text/html": [
       "<div>\n",
       "<style>\n",
       "    .dataframe thead tr:only-child th {\n",
       "        text-align: right;\n",
       "    }\n",
       "\n",
       "    .dataframe thead th {\n",
       "        text-align: left;\n",
       "    }\n",
       "\n",
       "    .dataframe tbody tr th {\n",
       "        vertical-align: top;\n",
       "    }\n",
       "</style>\n",
       "<table border=\"1\" class=\"dataframe\">\n",
       "  <thead>\n",
       "    <tr style=\"text-align: right;\">\n",
       "      <th></th>\n",
       "      <th></th>\n",
       "      <th>Unnamed: 0</th>\n",
       "    </tr>\n",
       "    <tr>\n",
       "      <th>source</th>\n",
       "      <th>weak_label</th>\n",
       "      <th></th>\n",
       "    </tr>\n",
       "  </thead>\n",
       "  <tbody>\n",
       "    <tr>\n",
       "      <th rowspan=\"2\" valign=\"top\">Breitbart</th>\n",
       "      <th>conservative</th>\n",
       "      <td>0.0</td>\n",
       "    </tr>\n",
       "    <tr>\n",
       "      <th>liberal</th>\n",
       "      <td>0.0</td>\n",
       "    </tr>\n",
       "    <tr>\n",
       "      <th rowspan=\"2\" valign=\"top\">Business Insider</th>\n",
       "      <th>conservative</th>\n",
       "      <td>0.0</td>\n",
       "    </tr>\n",
       "    <tr>\n",
       "      <th>liberal</th>\n",
       "      <td>0.0</td>\n",
       "    </tr>\n",
       "    <tr>\n",
       "      <th rowspan=\"2\" valign=\"top\">CNN</th>\n",
       "      <th>conservative</th>\n",
       "      <td>0.0</td>\n",
       "    </tr>\n",
       "    <tr>\n",
       "      <th>liberal</th>\n",
       "      <td>0.0</td>\n",
       "    </tr>\n",
       "    <tr>\n",
       "      <th rowspan=\"2\" valign=\"top\">Guardian</th>\n",
       "      <th>conservative</th>\n",
       "      <td>0.0</td>\n",
       "    </tr>\n",
       "    <tr>\n",
       "      <th>liberal</th>\n",
       "      <td>0.0</td>\n",
       "    </tr>\n",
       "    <tr>\n",
       "      <th rowspan=\"2\" valign=\"top\">National Review</th>\n",
       "      <th>conservative</th>\n",
       "      <td>0.0</td>\n",
       "    </tr>\n",
       "    <tr>\n",
       "      <th>liberal</th>\n",
       "      <td>0.0</td>\n",
       "    </tr>\n",
       "    <tr>\n",
       "      <th rowspan=\"2\" valign=\"top\">Reuters</th>\n",
       "      <th>conservative</th>\n",
       "      <td>0.0</td>\n",
       "    </tr>\n",
       "    <tr>\n",
       "      <th>liberal</th>\n",
       "      <td>0.0</td>\n",
       "    </tr>\n",
       "  </tbody>\n",
       "</table>\n",
       "</div>"
      ],
      "text/plain": [
       "                               Unnamed: 0\n",
       "source           weak_label              \n",
       "Breitbart        conservative         0.0\n",
       "                 liberal              0.0\n",
       "Business Insider conservative         0.0\n",
       "                 liberal              0.0\n",
       "CNN              conservative         0.0\n",
       "                 liberal              0.0\n",
       "Guardian         conservative         0.0\n",
       "                 liberal              0.0\n",
       "National Review  conservative         0.0\n",
       "                 liberal              0.0\n",
       "Reuters          conservative         0.0\n",
       "                 liberal              0.0"
      ]
     },
     "execution_count": 47,
     "metadata": {},
     "output_type": "execute_result"
    }
   ],
   "source": [
    "atn_df.groupby(['source', 'weak_label']).mean()"
   ]
  },
  {
   "cell_type": "code",
   "execution_count": 46,
   "metadata": {},
   "outputs": [
    {
     "ename": "DataError",
     "evalue": "No numeric types to aggregate",
     "output_type": "error",
     "traceback": [
      "\u001b[0;31m---------------------------------------------------------------------------\u001b[0m",
      "\u001b[0;31mDataError\u001b[0m                                 Traceback (most recent call last)",
      "\u001b[0;32m<ipython-input-46-da1b0fd95314>\u001b[0m in \u001b[0;36m<module>\u001b[0;34m()\u001b[0m\n\u001b[0;32m----> 1\u001b[0;31m \u001b[0mdf\u001b[0m \u001b[0;34m=\u001b[0m \u001b[0matn_df\u001b[0m\u001b[0;34m.\u001b[0m\u001b[0mgroupby\u001b[0m\u001b[0;34m(\u001b[0m\u001b[0;34m[\u001b[0m\u001b[0;34m'source'\u001b[0m\u001b[0;34m]\u001b[0m\u001b[0;34m)\u001b[0m\u001b[0;34m[\u001b[0m\u001b[0;34m'con_score'\u001b[0m\u001b[0;34m,\u001b[0m \u001b[0;34m'lib_score'\u001b[0m\u001b[0;34m]\u001b[0m\u001b[0;34m.\u001b[0m\u001b[0mmean\u001b[0m\u001b[0;34m(\u001b[0m\u001b[0;34m)\u001b[0m\u001b[0;34m\u001b[0m\u001b[0m\n\u001b[0m\u001b[1;32m      2\u001b[0m \u001b[0mdf\u001b[0m\u001b[0;34m.\u001b[0m\u001b[0mplot\u001b[0m\u001b[0;34m.\u001b[0m\u001b[0mbar\u001b[0m\u001b[0;34m(\u001b[0m\u001b[0;34m)\u001b[0m\u001b[0;34m\u001b[0m\u001b[0m\n\u001b[1;32m      3\u001b[0m \u001b[0mplt\u001b[0m\u001b[0;34m.\u001b[0m\u001b[0mylabel\u001b[0m\u001b[0;34m(\u001b[0m\u001b[0;34m'Average Score'\u001b[0m\u001b[0;34m)\u001b[0m\u001b[0;34m\u001b[0m\u001b[0m\n\u001b[1;32m      4\u001b[0m \u001b[0mplt\u001b[0m\u001b[0;34m.\u001b[0m\u001b[0mtitle\u001b[0m\u001b[0;34m(\u001b[0m\u001b[0;34m'Average score for predicted category\\n(predicted by weak annotator)'\u001b[0m\u001b[0;34m)\u001b[0m\u001b[0;34m\u001b[0m\u001b[0m\n\u001b[1;32m      5\u001b[0m \u001b[0mplt\u001b[0m\u001b[0;34m.\u001b[0m\u001b[0mshow\u001b[0m\u001b[0;34m(\u001b[0m\u001b[0;34m)\u001b[0m\u001b[0;34m\u001b[0m\u001b[0m\n",
      "\u001b[0;32m~/anaconda3/lib/python3.6/site-packages/pandas/core/groupby.py\u001b[0m in \u001b[0;36mmean\u001b[0;34m(self, *args, **kwargs)\u001b[0m\n\u001b[1;32m   1035\u001b[0m         \u001b[0mnv\u001b[0m\u001b[0;34m.\u001b[0m\u001b[0mvalidate_groupby_func\u001b[0m\u001b[0;34m(\u001b[0m\u001b[0;34m'mean'\u001b[0m\u001b[0;34m,\u001b[0m \u001b[0margs\u001b[0m\u001b[0;34m,\u001b[0m \u001b[0mkwargs\u001b[0m\u001b[0;34m,\u001b[0m \u001b[0;34m[\u001b[0m\u001b[0;34m'numeric_only'\u001b[0m\u001b[0;34m]\u001b[0m\u001b[0;34m)\u001b[0m\u001b[0;34m\u001b[0m\u001b[0m\n\u001b[1;32m   1036\u001b[0m         \u001b[0;32mtry\u001b[0m\u001b[0;34m:\u001b[0m\u001b[0;34m\u001b[0m\u001b[0m\n\u001b[0;32m-> 1037\u001b[0;31m             \u001b[0;32mreturn\u001b[0m \u001b[0mself\u001b[0m\u001b[0;34m.\u001b[0m\u001b[0m_cython_agg_general\u001b[0m\u001b[0;34m(\u001b[0m\u001b[0;34m'mean'\u001b[0m\u001b[0;34m,\u001b[0m \u001b[0;34m**\u001b[0m\u001b[0mkwargs\u001b[0m\u001b[0;34m)\u001b[0m\u001b[0;34m\u001b[0m\u001b[0m\n\u001b[0m\u001b[1;32m   1038\u001b[0m         \u001b[0;32mexcept\u001b[0m \u001b[0mGroupByError\u001b[0m\u001b[0;34m:\u001b[0m\u001b[0;34m\u001b[0m\u001b[0m\n\u001b[1;32m   1039\u001b[0m             \u001b[0;32mraise\u001b[0m\u001b[0;34m\u001b[0m\u001b[0m\n",
      "\u001b[0;32m~/anaconda3/lib/python3.6/site-packages/pandas/core/groupby.py\u001b[0m in \u001b[0;36m_cython_agg_general\u001b[0;34m(self, how, alt, numeric_only)\u001b[0m\n\u001b[1;32m   3352\u001b[0m     \u001b[0;32mdef\u001b[0m \u001b[0m_cython_agg_general\u001b[0m\u001b[0;34m(\u001b[0m\u001b[0mself\u001b[0m\u001b[0;34m,\u001b[0m \u001b[0mhow\u001b[0m\u001b[0;34m,\u001b[0m \u001b[0malt\u001b[0m\u001b[0;34m=\u001b[0m\u001b[0;32mNone\u001b[0m\u001b[0;34m,\u001b[0m \u001b[0mnumeric_only\u001b[0m\u001b[0;34m=\u001b[0m\u001b[0;32mTrue\u001b[0m\u001b[0;34m)\u001b[0m\u001b[0;34m:\u001b[0m\u001b[0;34m\u001b[0m\u001b[0m\n\u001b[1;32m   3353\u001b[0m         new_items, new_blocks = self._cython_agg_blocks(\n\u001b[0;32m-> 3354\u001b[0;31m             how, alt=alt, numeric_only=numeric_only)\n\u001b[0m\u001b[1;32m   3355\u001b[0m         \u001b[0;32mreturn\u001b[0m \u001b[0mself\u001b[0m\u001b[0;34m.\u001b[0m\u001b[0m_wrap_agged_blocks\u001b[0m\u001b[0;34m(\u001b[0m\u001b[0mnew_items\u001b[0m\u001b[0;34m,\u001b[0m \u001b[0mnew_blocks\u001b[0m\u001b[0;34m)\u001b[0m\u001b[0;34m\u001b[0m\u001b[0m\n\u001b[1;32m   3356\u001b[0m \u001b[0;34m\u001b[0m\u001b[0m\n",
      "\u001b[0;32m~/anaconda3/lib/python3.6/site-packages/pandas/core/groupby.py\u001b[0m in \u001b[0;36m_cython_agg_blocks\u001b[0;34m(self, how, alt, numeric_only)\u001b[0m\n\u001b[1;32m   3423\u001b[0m \u001b[0;34m\u001b[0m\u001b[0m\n\u001b[1;32m   3424\u001b[0m         \u001b[0;32mif\u001b[0m \u001b[0mlen\u001b[0m\u001b[0;34m(\u001b[0m\u001b[0mnew_blocks\u001b[0m\u001b[0;34m)\u001b[0m \u001b[0;34m==\u001b[0m \u001b[0;36m0\u001b[0m\u001b[0;34m:\u001b[0m\u001b[0;34m\u001b[0m\u001b[0m\n\u001b[0;32m-> 3425\u001b[0;31m             \u001b[0;32mraise\u001b[0m \u001b[0mDataError\u001b[0m\u001b[0;34m(\u001b[0m\u001b[0;34m'No numeric types to aggregate'\u001b[0m\u001b[0;34m)\u001b[0m\u001b[0;34m\u001b[0m\u001b[0m\n\u001b[0m\u001b[1;32m   3426\u001b[0m \u001b[0;34m\u001b[0m\u001b[0m\n\u001b[1;32m   3427\u001b[0m         \u001b[0;31m# reset the locs in the blocks to correspond to our\u001b[0m\u001b[0;34m\u001b[0m\u001b[0;34m\u001b[0m\u001b[0m\n",
      "\u001b[0;31mDataError\u001b[0m: No numeric types to aggregate"
     ]
    }
   ],
   "source": [
    "#df = atn_df.groupby(['source'])['con_score', 'lib_score'].mean()\n",
    "#df.plot.bar()\n",
    "#plt.ylabel('Average Score')\n",
    "#plt.title('Average score for predicted category\\n(predicted by weak annotator)')\n",
    "#plt.show()"
   ]
  },
  {
   "cell_type": "code",
   "execution_count": 95,
   "metadata": {},
   "outputs": [
    {
     "data": {
      "text/plain": [
       "array(['they own a four-bedroom, 2',\n",
       "       '\"the cop on the street is always being second-guessed, always going to have 5 million eyes on him',\n",
       "       'the new deal calls for service members who received payments under the santander settlement to receive $5,500, and for those who did not, to receive $11,000',\n",
       "       ..., 'home is in a book',\n",
       "       'fifty percent of the proceeds go to fund planned parenthood',\n",
       "       '“an important element of the continued market growth is the development of the charging infrastructure,” said joseph g'],\n",
       "      dtype='<U1198')"
      ]
     },
     "execution_count": 95,
     "metadata": {},
     "output_type": "execute_result"
    }
   ],
   "source": [
    "np.array(lib)[indeces]"
   ]
  },
  {
   "cell_type": "code",
   "execution_count": 96,
   "metadata": {
    "collapsed": true
   },
   "outputs": [],
   "source": [
    "indeces =shuffle=np.random.permutation(np.arange(100000))\n",
    "lib_shuffle = np.array(lib)[indeces]\n",
    "indeces =np.random.choice(range(100000), 100000, replace=False)\n",
    "con_shuffle = np.array(con)[indeces]"
   ]
  },
  {
   "cell_type": "code",
   "execution_count": null,
   "metadata": {
    "collapsed": true
   },
   "outputs": [],
   "source": []
  },
  {
   "cell_type": "code",
   "execution_count": 99,
   "metadata": {},
   "outputs": [
    {
     "name": "stdout",
     "output_type": "stream",
     "text": [
      "10000\n",
      "20000\n",
      "30000\n",
      "40000\n",
      "50000\n",
      "60000\n",
      "70000\n",
      "80000\n",
      "90000\n",
      "100000\n",
      "110000\n",
      "120000\n",
      "130000\n",
      "140000\n",
      "150000\n",
      "160000\n",
      "170000\n",
      "180000\n",
      "190000\n",
      "200000\n"
     ]
    }
   ],
   "source": [
    "count = 0\n",
    "\n",
    "for sentence in lib_shuffle:\n",
    "    cv_sentence = cv.transform([sentence])\n",
    "    pred = lr_base.predict(cv_sentence)\n",
    "    proba = lr_base.predict_proba(cv_sentence)\n",
    "    \n",
    "    df = pd.DataFrame([[sentence, proba[0][0], proba[0][1], pred[0]]], columns=['sentence', 'con_score', 'lib_score', 'weak_label'])\n",
    "    with open('../reddit_subs_weak_labels_conlibonly.csv', 'a') as f:\n",
    "        if count == 0:\n",
    "            df.to_csv(f, header=True)\n",
    "        else:\n",
    "            df.to_csv(f, header=False)\n",
    "    count += 1\n",
    "    if count % 10000 == 0: \n",
    "        print(count)\n",
    "for sentence in con_shuffle:\n",
    "    cv_sentence = cv.transform([sentence])\n",
    "    pred = lr_base.predict(cv_sentence)\n",
    "    proba = lr_base.predict_proba(cv_sentence)\n",
    "    \n",
    "    df = pd.DataFrame([[sentence, proba[0][0], proba[0][1], pred[0]]], columns=['sentence','con_score', 'lib_score', 'weak_label'])\n",
    "    with open('../reddit_subs_weak_labels_conlibonly.csv', 'a') as f:\n",
    "        if count == 0:\n",
    "            df.to_csv(f, header=True)\n",
    "        else:\n",
    "            df.to_csv(f, header=False)\n",
    "    count += 1\n",
    "    if count % 10000 == 0:\n",
    "        print(count)"
   ]
  },
  {
   "cell_type": "code",
   "execution_count": null,
   "metadata": {
    "collapsed": true
   },
   "outputs": [],
   "source": [
    "'We must respect tradition and god'\n",
    "cv_sentence = cv.transform([sentence])\n",
    "pred = lr_base.predict(cv_sentence)\n",
    "proba = lr_base.predict_proba(cv_sentence)"
   ]
  },
  {
   "cell_type": "code",
   "execution_count": 141,
   "metadata": {},
   "outputs": [
    {
     "name": "stdout",
     "output_type": "stream",
     "text": [
      "10000\n",
      "20000\n",
      "30000\n",
      "40000\n",
      "50000\n",
      "60000\n",
      "70000\n",
      "80000\n"
     ]
    }
   ],
   "source": [
    "count = 0\n",
    "\n",
    "for i in range(len(sentences)):\n",
    "    \n",
    "    sentence = sentences[i]\n",
    "    label = labels[i]\n",
    "    df = pd.DataFrame([[sentence,label]], columns=['sentence','weak_label'])\n",
    "    with open('../  ', 'a') as f:\n",
    "        if count == 0:\n",
    "            df.to_csv(f, header=True)\n",
    "        else:\n",
    "            df.to_csv(f, header=False)\n",
    "    count += 1\n",
    "    if count % 10000 == 0: \n",
    "        print(count)\n"
   ]
  },
  {
   "cell_type": "code",
   "execution_count": null,
   "metadata": {
    "collapsed": true
   },
   "outputs": [],
   "source": []
  }
 ],
 "metadata": {
  "kernelspec": {
   "display_name": "Python 3",
   "language": "python",
   "name": "python3"
  },
  "language_info": {
   "codemirror_mode": {
    "name": "ipython",
    "version": 3
   },
   "file_extension": ".py",
   "mimetype": "text/x-python",
   "name": "python",
   "nbconvert_exporter": "python",
   "pygments_lexer": "ipython3",
   "version": "3.6.3"
  }
 },
 "nbformat": 4,
 "nbformat_minor": 2
}
