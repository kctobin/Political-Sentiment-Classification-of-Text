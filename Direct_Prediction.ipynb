{
 "cells": [
  {
   "cell_type": "code",
   "execution_count": 1,
   "metadata": {},
   "outputs": [
    {
     "name": "stderr",
     "output_type": "stream",
     "text": [
      "/home/nwlevy/anaconda3/lib/python3.6/importlib/_bootstrap.py:219: RuntimeWarning: compiletime version 3.5 of module 'tensorflow.python.framework.fast_tensor_util' does not match runtime version 3.6\n",
      "  return f(*args, **kwds)\n"
     ]
    }
   ],
   "source": [
    "import os, sys, re, json, time\n",
    "from importlib import reload\n",
    "import nltk\n",
    "import pandas as pd\n",
    "import numpy as np\n",
    "import matplotlib.pyplot as plt\n",
    "from sklearn.feature_extraction.text import *\n",
    "from sklearn.linear_model import LogisticRegression\n",
    "from sklearn import metrics\n",
    "import tensorflow as tf\n",
    "from IPython.display import display, clear_output \n",
    "import time\n",
    "from sklearn.metrics import confusion_matrix\n",
    "import itertools\n",
    "from sklearn.metrics import classification_report"
   ]
  },
  {
   "cell_type": "markdown",
   "metadata": {},
   "source": [
    "# Load the IBC Data - Assign Binary Liberal/Conservative Labels"
   ]
  },
  {
   "cell_type": "code",
   "execution_count": 2,
   "metadata": {
    "collapsed": true
   },
   "outputs": [],
   "source": [
    "# For Lib/Cons Predictions\n",
    "ibc_frame=pd.read_csv('full_ibc_sentences.csv')\n",
    "ibc_frame=ibc_frame.loc[ibc_frame['label']!='Neutral']\n",
    "ibc_values_dict={'Liberal':0,'Conservative':1}\n",
    "\n",
    "ibc_frame['class']=ibc_frame['label'].map(ibc_values_dict)\n",
    "sentences=ibc_frame['sentence'].as_matrix()\n",
    "labels=ibc_frame['class'].as_matrix()"
   ]
  },
  {
   "cell_type": "markdown",
   "metadata": {},
   "source": [
    "# Load the pre-trained Google embeddings"
   ]
  },
  {
   "cell_type": "markdown",
   "metadata": {},
   "source": [
    "To download and unzip these embeddings to a Google Cloud instance, use the following commands:\n",
    "\n",
    "wget -c \"https://s3.amazonaws.com/dl4j-distribution/GoogleNews-vectors-negative300.bin.gz\"  \n",
    "gunzip GoogleNews-vectors-negatvie300.bin.gz\n",
    "\n",
    "Make sure that you have at least 3.5 GB of available storage space."
   ]
  },
  {
   "cell_type": "code",
   "execution_count": 3,
   "metadata": {
    "collapsed": true
   },
   "outputs": [],
   "source": [
    "import gensim"
   ]
  },
  {
   "cell_type": "code",
   "execution_count": 4,
   "metadata": {
    "collapsed": true
   },
   "outputs": [],
   "source": [
    "model = gensim.models.KeyedVectors.load_word2vec_format('GoogleNews-vectors-negative300.bin', binary=True)"
   ]
  },
  {
   "cell_type": "markdown",
   "metadata": {},
   "source": [
    "# Divide Data into Training, Dev, and Test Sets"
   ]
  },
  {
   "cell_type": "code",
   "execution_count": 5,
   "metadata": {
    "collapsed": true
   },
   "outputs": [],
   "source": [
    "np.random.seed(0)\n",
    "shuffle=np.random.permutation(np.arange(ibc_frame.shape[0]))\n",
    "X,y=ibc_frame['sentence'].iloc[shuffle],pd.get_dummies(ibc_frame['class'].iloc[shuffle])\n",
    "train_length=int(ibc_frame.shape[0]*0.7)\n",
    "test_length=int((ibc_frame.shape[0]-train_length) * (2.0/3.0))\n",
    "X_train,y_train=X.iloc[:train_length],y.iloc[:train_length]\n",
    "X_test,y_test=X.iloc[train_length:train_length+test_length],y.iloc[train_length:train_length+test_length]\n",
    "X_dev,y_dev=X.iloc[train_length+test_length:],y.iloc[train_length+test_length:]\n",
    "\n",
    "train_sentences=X_train.tolist()\n",
    "train_labels=y_train.as_matrix()\n",
    "test_sentences=X_test.tolist()\n",
    "test_labels=y_test.as_matrix()\n",
    "dev_sentences=X_dev.tolist()\n",
    "dev_labels=y_dev.as_matrix()"
   ]
  },
  {
   "cell_type": "code",
   "execution_count": 6,
   "metadata": {},
   "outputs": [
    {
     "name": "stdout",
     "output_type": "stream",
     "text": [
      "[\"Some children , therefore , enjoy their parents ' protection against the loss of income from disability , untimely death , or old age , and receive benefits that are based on the same formula used for the old-age benefit .\", 'The free market is , therefore , said to be incapable of serving the public interest , for it produces unjust results , thereby requiring further government intervention .', \"As FDR conceived it , every American would have the right `` to a useful and remunerative job , '' `` good education , '' `` adequate medical care and the opportunity to ... enjoy good health , '' and `` adequate protection from the economic fears of old age , sickness , accident , and unemployment .\"]\n",
      "2608\n",
      "[[1 0]\n",
      " [1 0]\n",
      " [1 0]]\n",
      "2608\n",
      "['In response to the setbacks of 2007 , immigrants mobilized again , resulting in 2 million new Hispanic voters in 2008 and a clear repudiation of those who used prejudice for political gain , with 20 of 22 congressional candidates in swing districts opposing immigrants going down to defeat against pro-immigrant candidates .', 'Consider the 2011 #DearJohn twitter campaign , launched by two creative young feminists , Sady Doyle and Amanda Marcotte , when House Republicans tried to narrow the definition of rape and incest for Medicaid coverage of abortions .', 'The strategic projects for progressives are clear and vital : Create a robust economic model based on equity and growth ; connect this middle-class economic vision to the lives of real American communities and voters of all stripes ; expand the franchise by making it easier to vote ; and solidify this economic vision and diverse coalition into a powerful political force .']\n",
      "745\n",
      "[[1 0]\n",
      " [1 0]\n",
      " [1 0]]\n",
      "745\n",
      "[\"So an effective response to the administration proposals also has to counter the implications of the language that supporters use to frame the program as the poor box of an aging parish-words like `` insolvency '' and `` unfunded liabilities , '' along with warnings that a `` tidal wave '' of baby boomers will make the program unsustainable .\", 'Boys and girls , these useful American idiots are known as socialists who despise the free market , capitalism , entrepreneurship , and economic freedom .', 'Third , a range of public policies helped facilitate this economic mobility and opportunity : a strong minimum wage , grants for low-income students to go to college , generously subsidized state college tuition , a reliable unemployment insurance system , enforcement of the right to join a union , major incentives for homeownership , and a solid safety net for those falling on hard times .']\n",
      "373\n",
      "[[1 0]\n",
      " [0 1]\n",
      " [0 1]]\n",
      "373\n"
     ]
    }
   ],
   "source": [
    "print(train_sentences[0:3])\n",
    "print(len(train_sentences))\n",
    "print(train_labels[0:3])\n",
    "print(len(train_labels))\n",
    "print(test_sentences[0:3])\n",
    "print(len(test_sentences))\n",
    "print(test_labels[0:3])\n",
    "print(len(test_labels))\n",
    "print(dev_sentences[0:3])\n",
    "print(len(dev_sentences))\n",
    "print(dev_labels[0:3])\n",
    "print(len(dev_labels))\n"
   ]
  },
  {
   "cell_type": "markdown",
   "metadata": {},
   "source": [
    "# Define Preprocessor for Text - Use Default from CountVectorizer"
   ]
  },
  {
   "cell_type": "markdown",
   "metadata": {},
   "source": [
    "This pre-processor sets all of the words to lowercase and removes punctuation"
   ]
  },
  {
   "cell_type": "code",
   "execution_count": 7,
   "metadata": {},
   "outputs": [
    {
     "name": "stdout",
     "output_type": "stream",
     "text": [
      "['the', 'additional', 'schooling', 'foisted', 'upon', 'one', 'group', 'by', 'this', 'arbitrary', 'state', 'of', 'affairs', 'produced', 'scaled', 'down', 'version', 'of', 'our', 'experiment', 'allowing', 'angrist', 'and', 'krueger', 'to', 'conclude', 'that', 'education', 'did', 'in', 'fact', 'help', 'people', 'earn', 'more', 'money']\n"
     ]
    }
   ],
   "source": [
    "sentences=ibc_frame['sentence'].tolist()\n",
    "proc_vec=CountVectorizer()\n",
    "analyze=proc_vec.build_analyzer()\n",
    "split_sentences=[analyze(i) for i in sentences]\n",
    "print(split_sentences[10])"
   ]
  },
  {
   "cell_type": "markdown",
   "metadata": {},
   "source": [
    "# Pre-Process training, dev, and test sets, Pad Sentences"
   ]
  },
  {
   "cell_type": "code",
   "execution_count": 8,
   "metadata": {
    "collapsed": true
   },
   "outputs": [],
   "source": [
    "def make_sentence_list(pre_proc,max_len,sentences):\n",
    "    sents=[]\n",
    "    ns=[]\n",
    "    for sentence in sentences:\n",
    "        processed_sentence=pre_proc(sentence)\n",
    "        n=len(processed_sentence)\n",
    "        if(n<max_len):\n",
    "            pad_length=max_len-n\n",
    "            processed_sentence=processed_sentence + ['000'] * pad_length\n",
    "\n",
    "        sents.append(processed_sentence[0:max_len])\n",
    "        ns.append(n)\n",
    "\n",
    "    \n",
    "    return np.array(sents), np.array(ns)"
   ]
  },
  {
   "cell_type": "code",
   "execution_count": 9,
   "metadata": {},
   "outputs": [
    {
     "name": "stdout",
     "output_type": "stream",
     "text": [
      "(2608, 55)\n",
      "(2608,)\n",
      "(745, 55)\n",
      "(745,)\n",
      "(373, 55)\n",
      "(373,)\n",
      "['some' 'children' 'therefore' 'enjoy' 'their' 'parents' 'protection'\n",
      " 'against' 'the' 'loss' 'of' 'income' 'from' 'disability' 'untimely'\n",
      " 'death' 'or' 'old' 'age' 'and' 'receive' 'benefits' 'that' 'are' 'based'\n",
      " 'on' 'the' 'same' 'formula' 'used' 'for' 'the' 'old' 'age' 'benefit' '000'\n",
      " '000' '000' '000' '000' '000' '000' '000' '000' '000' '000' '000' '000'\n",
      " '000' '000' '000' '000' '000' '000' '000']\n"
     ]
    }
   ],
   "source": [
    "max_len=55\n",
    "\n",
    "train_list,train_ns=make_sentence_list(analyze,max_len,train_sentences)\n",
    "dev_list,dev_ns=make_sentence_list(analyze,max_len,dev_sentences)\n",
    "test_list,test_ns=make_sentence_list(analyze,max_len,test_sentences)\n",
    "\n",
    "print(train_list.shape)\n",
    "print(train_ns.shape)\n",
    "print(test_list.shape)\n",
    "print(test_ns.shape)\n",
    "print(dev_list.shape)\n",
    "print(dev_ns.shape)\n",
    "\n",
    "print(train_list[0])"
   ]
  },
  {
   "cell_type": "markdown",
   "metadata": {},
   "source": [
    "# Embed The train, test, and dev sentences"
   ]
  },
  {
   "cell_type": "code",
   "execution_count": 10,
   "metadata": {
    "collapsed": true
   },
   "outputs": [],
   "source": [
    "def embed_sentences(sentence_array,unknown_word_embedding):\n",
    "    data=np.zeros([sentence_array.shape[0],sentence_array.shape[1],300])\n",
    "    for i in range(data.shape[0]):\n",
    "        for j in range(data.shape[1]):\n",
    "            try:\n",
    "                data[i][j]=model[sentence_array[i][j]]\n",
    "            except:\n",
    "                data[i][j]=unknown_word_embedding\n",
    "    return data"
   ]
  },
  {
   "cell_type": "code",
   "execution_count": 11,
   "metadata": {},
   "outputs": [
    {
     "name": "stdout",
     "output_type": "stream",
     "text": [
      "(2608, 55, 300)\n",
      "(373, 55, 300)\n",
      "(745, 55, 300)\n"
     ]
    }
   ],
   "source": [
    "unknown_word_embedding=np.random.rand(1,300)\n",
    "\n",
    "train_data=embed_sentences(train_list,unknown_word_embedding)\n",
    "dev_data=embed_sentences(dev_list,unknown_word_embedding)\n",
    "test_data=embed_sentences(test_list,unknown_word_embedding)\n",
    "\n",
    "print(train_data.shape)\n",
    "print(dev_data.shape)\n",
    "print(test_data.shape)"
   ]
  },
  {
   "cell_type": "markdown",
   "metadata": {},
   "source": [
    "# Train BOW Model to Predict Label for IBC Sentences"
   ]
  },
  {
   "cell_type": "code",
   "execution_count": 12,
   "metadata": {
    "collapsed": true
   },
   "outputs": [],
   "source": [
    "from IPython.display import display, clear_output "
   ]
  },
  {
   "cell_type": "code",
   "execution_count": 13,
   "metadata": {
    "scrolled": true
   },
   "outputs": [
    {
     "name": "stdout",
     "output_type": "stream",
     "text": [
      "75) Dev Accuracy = 58.4450\n"
     ]
    },
    {
     "data": {
      "image/png": "[encoded data removed]",
      "text/plain": [
       "<matplotlib.figure.Figure at 0x7ff2ab64b080>"
      ]
     },
     "metadata": {},
     "output_type": "display_data"
    },
    {
     "data": {
      "image/png": "[encoded data removed]",
      "text/plain": [
       "<matplotlib.figure.Figure at 0x7ff1bcabaf28>"
      ]
     },
     "metadata": {},
     "output_type": "display_data"
    }
   ],
   "source": [
    "# (1) Hyperparameters\n",
    "tf.reset_default_graph()\n",
    "hidden_layer_size=35\n",
    "learning_rate=.1\n",
    "batch_size=50\n",
    "num_ex=train_data.shape[0]\n",
    "p_keep1=1.0\n",
    "\n",
    "# define inputs\n",
    "x_=tf.placeholder(tf.float32,shape=[None,max_len,300],name='x')\n",
    "ns_=tf.placeholder(tf.int32,shape=[None],name='ns')\n",
    "y_=tf.placeholder(tf.float32,shape=[None,2],name='y')\n",
    "is_training_ = tf.placeholder_with_default(True, shape=[], name='is_training')\n",
    "\n",
    "\n",
    "#define bow encoding layer\n",
    "\n",
    "\n",
    "def bow_encoding_layer(x_,ns_,is_training=None):\n",
    "    #Zero out padding embedding\n",
    "    mask_ = tf.expand_dims(tf.sequence_mask(ns_, x_.shape[1],dtype=tf.float32), -1)\n",
    "    x_=tf.multiply(x_,mask_)\n",
    "    sum_embeddings=tf.reduce_sum(x_,axis=1)\n",
    "    return sum_embeddings\n",
    "\n",
    "#define model with one bow encoding layer, one hidden layer, and one output layer\n",
    "\n",
    "def model(x_,ns_,hidden_layer_size,is_training=True):\n",
    "    l1=bow_encoding_layer(x_,ns_)\n",
    "    l2 = tf.layers.dropout(inputs = l1,rate = 1-p_keep1,training = is_training_)\n",
    "    l3=tf.layers.dense(inputs=l2,units=hidden_layer_size,activation=tf.tanh)\n",
    "    output_layer=tf.layers.dense(inputs=l3,units=2,activation=tf.nn.softmax)\n",
    "    return output_layer\n",
    "\n",
    "#Define training op and optimizer\n",
    "preds=model(x_,ns_,hidden_layer_size,is_training_)\n",
    "cc=tf.losses.softmax_cross_entropy(y_, preds)\n",
    "gd=tf.train.GradientDescentOptimizer(learning_rate)\n",
    "step=gd.minimize(cc)\n",
    "\n",
    "#Define Accuracy calculation\n",
    "\n",
    "def accuracy(predictions, labels): \n",
    "    return (100.0 * np.sum(np.argmax(predictions, 1) == np.argmax(labels, 1)) / predictions.shape[0])\n",
    "\n",
    "\n",
    "\n",
    "#Train the Neural network, report dev/training accuracies\n",
    "with tf.Session() as sess:\n",
    "    sess.run(tf.global_variables_initializer())\n",
    "    sess.run(tf.local_variables_initializer())\n",
    "    cost_vec_avg = []\n",
    "    acc_dev_vec = []\n",
    "    acc_train_vec = []\n",
    "    for i in range(75):\n",
    "        cost_vec = []\n",
    "        for start, end in zip(range(0, num_ex, batch_size), range(batch_size, num_ex, batch_size)):\n",
    "            batch = train_data[start:end], train_labels[start:end]\n",
    "            ns=train_ns[start:end]\n",
    "            _, cost = sess.run([step, cc], feed_dict={x_: batch[0],ns_: ns, y_: batch[1], is_training_: True})\n",
    "            cost_vec.append(cost)\n",
    "        \n",
    "        train_acc = accuracy(preds.eval(feed_dict={x_: train_data,ns_: train_ns, is_training_: False}), train_labels)\n",
    "        dev_acc = accuracy(preds.eval(feed_dict={x_: dev_data,ns_: dev_ns, is_training_: False}), dev_labels)\n",
    "        \n",
    "        cost_vec_avg.append(np.mean(cost_vec))\n",
    "        clear_output(wait=True)\n",
    "        acc_dev_vec.append(dev_acc)\n",
    "        acc_train_vec.append(train_acc)\n",
    "        print('%d) Dev Accuracy = %.4f' %(i+1, dev_acc))\n",
    "        \n",
    "    #get predicted labels for test set\n",
    "    probas = preds.eval(feed_dict={x_: test_data,ns_: test_ns, is_training_: False})\n",
    "    \n",
    "#plot the results\n",
    "plt.plot(cost_vec_avg)  \n",
    "plt.xlabel('Number of Gradient Descent steps')\n",
    "plt.ylabel('Cost function')\n",
    "plt.show()\n",
    "\n",
    "plt.plot(acc_dev_vec)  \n",
    "plt.plot(acc_train_vec)\n",
    "plt.xlabel('Number of Gradient Descent steps')\n",
    "plt.ylabel('Train and Dev Accuracy')\n",
    "plt.show()"
   ]
  },
  {
   "cell_type": "code",
   "execution_count": 14,
   "metadata": {},
   "outputs": [
    {
     "name": "stdout",
     "output_type": "stream",
     "text": [
      "test_set accuraccy:  0.634899328859\n",
      "F1 Score:  0.5261324041811846\n",
      "              precision    recall  f1-score   support\n",
      "\n",
      "     Liberal       0.63      0.79      0.70       407\n",
      "Conservative       0.64      0.45      0.53       338\n",
      "\n",
      " avg / total       0.64      0.63      0.62       745\n",
      "\n"
     ]
    }
   ],
   "source": [
    "predictions=np.argmax(probas,axis=1)\n",
    "actual_labels=np.argmax(test_labels,axis=1)\n",
    "print('test_set accuraccy: ',np.mean(predictions==actual_labels))\n",
    "true_positives=float(((actual_labels==predictions) & (actual_labels==1)).sum())\n",
    "false_positives=float(((actual_labels!=predictions) & (predictions==1)).sum())\n",
    "false_negatives=float(((actual_labels!=predictions) & (actual_labels==1)).sum())\n",
    "precision=true_positives/(true_positives+false_positives)\n",
    "recall=true_positives/(true_positives+false_negatives)\n",
    "f1=2*(precision*recall)/(precision+recall)\n",
    "print('F1 Score: ', f1)\n",
    "print(classification_report(actual_labels, predictions, target_names=['Liberal','Conservative']))"
   ]
  },
  {
   "cell_type": "markdown",
   "metadata": {},
   "source": [
    "The gap between the train and dev set accuracy in the graph above indicates that the model might be slightly overfitting the IBC data.  However, attempts to reduce this overfitting, like a decreased learning rate, smaller hidden layer size and increased dropout probability have yielded worse performance on the test set."
   ]
  },
  {
   "cell_type": "code",
   "execution_count": null,
   "metadata": {
    "collapsed": true
   },
   "outputs": [],
   "source": []
  }
 ],
 "metadata": {
  "kernelspec": {
   "display_name": "Python 3",
   "language": "python",
   "name": "python3"
  },
  "language_info": {
   "codemirror_mode": {
    "name": "ipython",
    "version": 3
   },
   "file_extension": ".py",
   "mimetype": "text/x-python",
   "name": "python",
   "nbconvert_exporter": "python",
   "pygments_lexer": "ipython3",
   "version": "3.6.3"
  }
 },
 "nbformat": 4,
 "nbformat_minor": 2
}
