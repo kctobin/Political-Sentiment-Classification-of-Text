{
 "cells": [
  {
   "cell_type": "code",
   "execution_count": 1,
   "metadata": {},
   "outputs": [
    {
     "name": "stderr",
     "output_type": "stream",
     "text": [
      "/home/samird121/anaconda3/lib/python3.6/site-packages/nltk/twitter/__init__.py:20: UserWarning: The twython library has not been installed. Some functionality from the twitter package will not be available.\n",
      "  warnings.warn(\"The twython library has not been installed. \"\n"
     ]
    }
   ],
   "source": [
    "import glob\n",
    "import re\n",
    "from sklearn.linear_model import LogisticRegression\n",
    "from sklearn.naive_bayes import MultinomialNB\n",
    "from sklearn.model_selection import train_test_split\n",
    "from sklearn.metrics import classification_report\n",
    "from sklearn.model_selection import GridSearchCV\n",
    "from sklearn.feature_extraction.text import *\n",
    "import time\n",
    "import numpy as np\n",
    "from nltk.sentiment.vader import SentimentIntensityAnalyzer\n",
    "import nltk\n",
    "from scipy import sparse\n",
    "from sklearn import metrics\n",
    "import _pickle as cPickle\n",
    "import pandas as pd\n",
    "import matplotlib.pyplot as plt\n",
    "import csv"
   ]
  },
  {
   "cell_type": "code",
   "execution_count": 39,
   "metadata": {
    "collapsed": true
   },
   "outputs": [],
   "source": [
    "def preprocess(sentence):\n",
    "    #take out \"\\n\", which snuck its way into every downloaded sentence\n",
    "    sentence = re.sub('\\n', '', sentence)\n",
    "    sentence = re.sub(r\"[\\W+_]\", ' ', sentence)\n",
    "    sentence = re.sub(r\"[^a-zA-Z0-9]\", ' ', sentence)\n",
    "    #limit sentence to 100 words\n",
    "    if len(sentence.split(' ')) > 100:\n",
    "        sentence = ' '.join(sentence.split(' ')[0:99])\n",
    "    if len(sentence.split()) > 2:\n",
    "        return sentence\n",
    "    else:\n",
    "        return None"
   ]
  },
  {
   "cell_type": "code",
   "execution_count": 40,
   "metadata": {},
   "outputs": [],
   "source": [
    "#neutral, liberal, conservative\n",
    "sentences_separate = [[], []]\n",
    "folders = ['../../reddit/lib_posts/', '../../reddit/con_posts/']\n",
    "article_lengths = []\n",
    "\n",
    "for i in range(2):\n",
    "    folder = folders[i]\n",
    "    \n",
    "    #max number of sentences in article\n",
    "    article_length_limit = 10000\n",
    "    \n",
    "    count = 1\n",
    "    for fname in glob.iglob(folder+'*.txt', recursive=True):\n",
    "        \n",
    "        article_length = 0\n",
    "        for line in open(fname):\n",
    "            for s in line.split('.'):\n",
    "                s = preprocess(s)\n",
    "                if s is not None:\n",
    "                    sentences_separate[i].append(s)\n",
    "                    count += 1\n",
    "                    article_length += 1\n",
    "        article_lengths.append(article_length)"
   ]
  },
  {
   "cell_type": "code",
   "execution_count": 41,
   "metadata": {},
   "outputs": [
    {
     "name": "stdout",
     "output_type": "stream",
     "text": [
      "98966\n",
      "285676\n"
     ]
    }
   ],
   "source": [
    "lib, con = sentences_separate[0], sentences_separate[1]\n",
    "print(len(lib))\n",
    "print(len(con))"
   ]
  },
  {
   "cell_type": "code",
   "execution_count": 42,
   "metadata": {},
   "outputs": [
    {
     "data": {
      "text/plain": [
       "20000"
      ]
     },
     "execution_count": 42,
     "metadata": {},
     "output_type": "execute_result"
    }
   ],
   "source": [
    "np.random.seed(0)\n",
    "shuffle=np.random.permutation(np.arange(20000))\n",
    "con_short = list(np.array(con)[shuffle])\n",
    "lib_short = list(np.array(lib)[shuffle])\n",
    "len(lib_short)\n",
    "len(con_short)"
   ]
  },
  {
   "cell_type": "code",
   "execution_count": 43,
   "metadata": {
    "collapsed": true
   },
   "outputs": [],
   "source": [
    "sentences = []\n",
    "labels = []\n",
    "\n",
    "for i in range(len(lib_short)):\n",
    "    sentences.append(lib_short[i])\n",
    "    labels.append('liberal')\n",
    "    \n",
    "for i in range(len(con_short)):\n",
    "    sentences.append(con_short[i])\n",
    "    labels.append('conservative')\n",
    "    \n",
    "#for i in range(len(neu)):\n",
    "#    sentences.append(neu[i])\n",
    "#    labels.append('neutral')"
   ]
  },
  {
   "cell_type": "code",
   "execution_count": 44,
   "metadata": {},
   "outputs": [
    {
     "name": "stdout",
     "output_type": "stream",
     "text": [
      "6\n",
      "626\n"
     ]
    }
   ],
   "source": [
    "lens = [len(x) for x in sentences]\n",
    "print(min(lens))\n",
    "print(max(lens))"
   ]
  },
  {
   "cell_type": "code",
   "execution_count": 45,
   "metadata": {},
   "outputs": [
    {
     "data": {
      "text/plain": [
       "40000"
      ]
     },
     "execution_count": 45,
     "metadata": {},
     "output_type": "execute_result"
    }
   ],
   "source": [
    "len(sentences)"
   ]
  },
  {
   "cell_type": "markdown",
   "metadata": {},
   "source": [
    "## Split into training/test set, vectorize, and run LR model"
   ]
  },
  {
   "cell_type": "code",
   "execution_count": 46,
   "metadata": {},
   "outputs": [
    {
     "name": "stdout",
     "output_type": "stream",
     "text": [
      "30000\n",
      "10000\n"
     ]
    }
   ],
   "source": [
    "train_sentences, test_sentences, train_labels, test_labels = train_test_split(sentences, labels, random_state=2)\n",
    "print(len(train_sentences))\n",
    "print(len(test_sentences))"
   ]
  },
  {
   "cell_type": "code",
   "execution_count": 47,
   "metadata": {},
   "outputs": [
    {
     "data": {
      "text/plain": [
       "'liberal'"
      ]
     },
     "execution_count": 47,
     "metadata": {},
     "output_type": "execute_result"
    }
   ],
   "source": [
    "train_labels[2432]"
   ]
  },
  {
   "cell_type": "code",
   "execution_count": 48,
   "metadata": {},
   "outputs": [
    {
     "name": "stdout",
     "output_type": "stream",
     "text": [
      "23746\n"
     ]
    }
   ],
   "source": [
    "cv = CountVectorizer(min_df=5, ngram_range=(0,2))\n",
    "cv_train_sentences = cv.fit_transform(train_sentences)\n",
    "cv_test_sentences = cv.transform(test_sentences)\n",
    "print(len(cv.get_feature_names()))"
   ]
  },
  {
   "cell_type": "code",
   "execution_count": 49,
   "metadata": {},
   "outputs": [
    {
     "name": "stdout",
     "output_type": "stream",
     "text": [
      "0.5\n",
      "              precision    recall  f1-score   support\n",
      "\n",
      "conservative       0.67      0.67      0.67      4995\n",
      "     liberal       0.67      0.66      0.67      5005\n",
      "\n",
      " avg / total       0.67      0.67      0.67     10000\n",
      "\n",
      "\n",
      "f1=score: 0.666598879774\n",
      "2.2331795692443848 s\n"
     ]
    }
   ],
   "source": [
    "for C in [.5]:\n",
    "    start = time.time()\n",
    "    lr_base = LogisticRegression(C = C)\n",
    "    lr_base.fit(cv_train_sentences, train_labels)\n",
    "    preds = lr_base.predict(cv_test_sentences)\n",
    "    print(C)\n",
    "    print(classification_report(test_labels, preds))\n",
    "    print(\"\\nf1=score: \"+str(metrics.f1_score(test_labels, preds, average='weighted')))\n",
    "    print((time.time()-start), 's')"
   ]
  },
  {
   "cell_type": "markdown",
   "metadata": {},
   "source": [
    "## Examine model weights, scores, etc."
   ]
  },
  {
   "cell_type": "code",
   "execution_count": 16,
   "metadata": {},
   "outputs": [
    {
     "name": "stdout",
     "output_type": "stream",
     "text": [
      "Top 10 features for liberal:\n",
      "asthma\n",
      "alec\n",
      "raphel\n",
      "nader\n",
      "stein\n",
      "slager\n",
      "march 2018\n",
      "rsvp\n",
      "tigerswan\n",
      "arendt\n",
      "deace\n",
      "coon\n",
      "walden\n",
      "bundy\n",
      "flint\n",
      "marijuana\n",
      "maher\n",
      "irv\n",
      "ailes\n",
      "kobach\n",
      "\n",
      "Top 10 features for conservative:\n",
      "ddt\n",
      "tb\n",
      "venezuela\n",
      "rahami\n",
      "patman\n",
      "law number\n",
      "malaria\n",
      "beck\n",
      "espn\n",
      "mattis\n",
      "boehner\n",
      "merkel\n",
      "haley\n",
      "lopez\n",
      "fillon\n",
      "kasparov\n",
      "wnd\n",
      "caroline\n",
      "kashiwagi\n",
      "authoritarians\n"
     ]
    }
   ],
   "source": [
    "cv_featurenames = cv.get_feature_names()\n",
    "\n",
    "\n",
    "\n",
    "weightIndeces_con = np.argsort(lr_base.coef_[0])[-20:]\n",
    "weightIndeces_lib = np.argsort(lr_base.coef_[0])[0:20]\n",
    "#weightIndeces_neu = np.argsort(lr_base.coef_[2])[-20:]\n",
    "#weightIndeces_neu_neg = np.argsort(lr_base.coef_[2])[0:20]\n",
    "\n",
    "print('Top 10 features for liberal:')\n",
    "for index in weightIndeces_con: \n",
    "    print(cv_featurenames[index])\n",
    "\n",
    "print('\\nTop 10 features for conservative:')\n",
    "for index in weightIndeces_lib:\n",
    "    print(cv_featurenames[index])\n",
    "    \n"
   ]
  },
  {
   "cell_type": "markdown",
   "metadata": {},
   "source": [
    "## attempting to apply model to IBC data"
   ]
  },
  {
   "cell_type": "code",
   "execution_count": 51,
   "metadata": {
    "collapsed": true
   },
   "outputs": [],
   "source": [
    "ibc_frame=pd.read_csv('../full_ibc_sentences.csv')\n"
   ]
  },
  {
   "cell_type": "code",
   "execution_count": 52,
   "metadata": {},
   "outputs": [
    {
     "data": {
      "text/html": [
       "<div>\n",
       "<style>\n",
       "    .dataframe thead tr:only-child th {\n",
       "        text-align: right;\n",
       "    }\n",
       "\n",
       "    .dataframe thead th {\n",
       "        text-align: left;\n",
       "    }\n",
       "\n",
       "    .dataframe tbody tr th {\n",
       "        vertical-align: top;\n",
       "    }\n",
       "</style>\n",
       "<table border=\"1\" class=\"dataframe\">\n",
       "  <thead>\n",
       "    <tr style=\"text-align: right;\">\n",
       "      <th></th>\n",
       "      <th>label</th>\n",
       "      <th>sentence</th>\n",
       "    </tr>\n",
       "  </thead>\n",
       "  <tbody>\n",
       "    <tr>\n",
       "      <th>0</th>\n",
       "      <td>Liberal</td>\n",
       "      <td>Forcing middle-class workers to bear a greater...</td>\n",
       "    </tr>\n",
       "    <tr>\n",
       "      <th>1</th>\n",
       "      <td>Liberal</td>\n",
       "      <td>Because it would not be worthwhile to bring a ...</td>\n",
       "    </tr>\n",
       "    <tr>\n",
       "      <th>2</th>\n",
       "      <td>Liberal</td>\n",
       "      <td>Indeed , Lind argues that high profits and hig...</td>\n",
       "    </tr>\n",
       "    <tr>\n",
       "      <th>3</th>\n",
       "      <td>Liberal</td>\n",
       "      <td>In fairness , it should be noted that he devot...</td>\n",
       "    </tr>\n",
       "    <tr>\n",
       "      <th>4</th>\n",
       "      <td>Liberal</td>\n",
       "      <td>Psychological tactics are social control techn...</td>\n",
       "    </tr>\n",
       "  </tbody>\n",
       "</table>\n",
       "</div>"
      ],
      "text/plain": [
       "     label                                           sentence\n",
       "0  Liberal  Forcing middle-class workers to bear a greater...\n",
       "1  Liberal  Because it would not be worthwhile to bring a ...\n",
       "2  Liberal  Indeed , Lind argues that high profits and hig...\n",
       "3  Liberal  In fairness , it should be noted that he devot...\n",
       "4  Liberal  Psychological tactics are social control techn..."
      ]
     },
     "execution_count": 52,
     "metadata": {},
     "output_type": "execute_result"
    }
   ],
   "source": [
    "ibc_frame.head()"
   ]
  },
  {
   "cell_type": "code",
   "execution_count": 53,
   "metadata": {
    "collapsed": true
   },
   "outputs": [],
   "source": [
    "ibc_frame = ibc_frame[ibc_frame['label']!='Neutral']"
   ]
  },
  {
   "cell_type": "code",
   "execution_count": 54,
   "metadata": {},
   "outputs": [
    {
     "data": {
      "text/html": [
       "<div>\n",
       "<style>\n",
       "    .dataframe thead tr:only-child th {\n",
       "        text-align: right;\n",
       "    }\n",
       "\n",
       "    .dataframe thead th {\n",
       "        text-align: left;\n",
       "    }\n",
       "\n",
       "    .dataframe tbody tr th {\n",
       "        vertical-align: top;\n",
       "    }\n",
       "</style>\n",
       "<table border=\"1\" class=\"dataframe\">\n",
       "  <thead>\n",
       "    <tr style=\"text-align: right;\">\n",
       "      <th></th>\n",
       "      <th>sentence</th>\n",
       "    </tr>\n",
       "    <tr>\n",
       "      <th>label</th>\n",
       "      <th></th>\n",
       "    </tr>\n",
       "  </thead>\n",
       "  <tbody>\n",
       "    <tr>\n",
       "      <th>Conservative</th>\n",
       "      <td>1701</td>\n",
       "    </tr>\n",
       "    <tr>\n",
       "      <th>Liberal</th>\n",
       "      <td>2025</td>\n",
       "    </tr>\n",
       "  </tbody>\n",
       "</table>\n",
       "</div>"
      ],
      "text/plain": [
       "              sentence\n",
       "label                 \n",
       "Conservative      1701\n",
       "Liberal           2025"
      ]
     },
     "execution_count": 54,
     "metadata": {},
     "output_type": "execute_result"
    }
   ],
   "source": [
    "ibc_frame.groupby('label').count()"
   ]
  },
  {
   "cell_type": "code",
   "execution_count": 55,
   "metadata": {},
   "outputs": [
    {
     "name": "stdout",
     "output_type": "stream",
     "text": [
      "3726\n",
      "3726\n"
     ]
    }
   ],
   "source": [
    "ibc_labels = list(ibc_frame['label'])\n",
    "ibc_labels = [label.lower() for label in ibc_labels]\n",
    "ibc_sentences = list(ibc_frame['sentence'])\n",
    "#ibc_sentences = [preprocess(sentence) for sentence in ibc_sentences]\n",
    "cv_ibc_sentences = cv.transform(ibc_sentences)\n",
    "print(len(ibc_labels))\n",
    "print(len(ibc_sentences))"
   ]
  },
  {
   "cell_type": "code",
   "execution_count": 56,
   "metadata": {
    "scrolled": true
   },
   "outputs": [
    {
     "name": "stdout",
     "output_type": "stream",
     "text": [
      "              precision    recall  f1-score   support\n",
      "\n",
      "conservative       0.50      0.49      0.49      1701\n",
      "     liberal       0.58      0.60      0.59      2025\n",
      "\n",
      " avg / total       0.54      0.55      0.54      3726\n",
      "\n",
      "\n",
      "f1=score: 0.544652749084\n",
      "0.545356951154\n"
     ]
    }
   ],
   "source": [
    "IBC_preds = lr_base.predict(cv_ibc_sentences)\n",
    "print(classification_report(ibc_labels, IBC_preds))\n",
    "print(\"\\nf1=score: \"+str(metrics.f1_score(ibc_labels, IBC_preds, average='weighted')))\n",
    "print(sum(IBC_preds==ibc_labels)/len(ibc_labels))"
   ]
  },
  {
   "cell_type": "code",
   "execution_count": 74,
   "metadata": {},
   "outputs": [
    {
     "name": "stdout",
     "output_type": "stream",
     "text": [
      "2794\n",
      "932\n"
     ]
    }
   ],
   "source": [
    "train_sentences, test_sentences, train_labels, test_labels = train_test_split(ibc_sentences, ibc_labels, random_state=1)\n",
    "print(len(train_sentences))\n",
    "print(len(test_sentences))"
   ]
  },
  {
   "cell_type": "code",
   "execution_count": 75,
   "metadata": {},
   "outputs": [
    {
     "name": "stdout",
     "output_type": "stream",
     "text": [
      "6023\n"
     ]
    }
   ],
   "source": [
    "#IBC itself\n",
    "cv = CountVectorizer(min_df=2, ngram_range=(0,1))\n",
    "cv_train_sentences = cv.fit_transform(train_sentences)\n",
    "cv_test_sentences = cv.transform(test_sentences)\n",
    "print(len(cv.get_feature_names()))"
   ]
  },
  {
   "cell_type": "code",
   "execution_count": 76,
   "metadata": {},
   "outputs": [
    {
     "name": "stdout",
     "output_type": "stream",
     "text": [
      "0.5\n",
      "              precision    recall  f1-score   support\n",
      "\n",
      "conservative       0.57      0.55      0.56       420\n",
      "     liberal       0.64      0.66      0.65       512\n",
      "\n",
      " avg / total       0.61      0.61      0.61       932\n",
      "\n",
      "\n",
      "f1=score: 0.606504277422\n",
      "0.06196928024291992 s\n"
     ]
    }
   ],
   "source": [
    "\n",
    "start = time.time()\n",
    "lr_base = LogisticRegression()\n",
    "lr_base.fit(cv_train_sentences, train_labels)\n",
    "preds = lr_base.predict(cv_test_sentences)\n",
    "print(C)\n",
    "print(classification_report(test_labels, preds))\n",
    "print(\"\\nf1=score: \"+str(metrics.f1_score(test_labels, preds, average='weighted')))\n",
    "print((time.time()-start), 's')"
   ]
  },
  {
   "cell_type": "code",
   "execution_count": 77,
   "metadata": {},
   "outputs": [
    {
     "data": {
      "text/plain": [
       "0.60729613733905574"
      ]
     },
     "execution_count": 77,
     "metadata": {},
     "output_type": "execute_result"
    }
   ],
   "source": [
    "np.mean(preds==test_labels)"
   ]
  },
  {
   "cell_type": "code",
   "execution_count": null,
   "metadata": {
    "collapsed": true
   },
   "outputs": [],
   "source": []
  }
 ],
 "metadata": {
  "kernelspec": {
   "display_name": "Python 3",
   "language": "python",
   "name": "python3"
  },
  "language_info": {
   "codemirror_mode": {
    "name": "ipython",
    "version": 3
   },
   "file_extension": ".py",
   "mimetype": "text/x-python",
   "name": "python",
   "nbconvert_exporter": "python",
   "pygments_lexer": "ipython3",
   "version": "3.6.3"
  }
 },
 "nbformat": 4,
 "nbformat_minor": 2
}
